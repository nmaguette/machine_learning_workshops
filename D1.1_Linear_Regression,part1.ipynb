{
  "nbformat": 4,
  "nbformat_minor": 0,
  "metadata": {
    "colab": {
      "name": "Maguette_D1.1_Linear_Regression,part1.ipynb",
      "provenance": [],
      "collapsed_sections": [
        "_Ku_VgSm-6kD",
        "262XyUvl-6kl",
        "jo2QLtCb-6kl",
        "3bhxZ-at-6kq",
        "oKTkLWzQ-6k9"
      ],
      "include_colab_link": true
    },
    "kernelspec": {
      "display_name": "Python 3",
      "language": "python",
      "name": "python3"
    },
    "language_info": {
      "codemirror_mode": {
        "name": "ipython",
        "version": 3
      },
      "file_extension": ".py",
      "mimetype": "text/x-python",
      "name": "python",
      "nbconvert_exporter": "python",
      "pygments_lexer": "ipython3",
      "version": "3.7.3"
    }
  },
  "cells": [
    {
      "cell_type": "markdown",
      "metadata": {
        "id": "view-in-github",
        "colab_type": "text"
      },
      "source": [
        "<a href=\"https://colab.research.google.com/github/nmaguette/machine_learning_workshops/blob/master/Maguette_D1_1_Linear_Regression%2Cpart1.ipynb\" target=\"_parent\"><img src=\"https://colab.research.google.com/assets/colab-badge.svg\" alt=\"Open In Colab\"/></a>"
      ]
    },
    {
      "cell_type": "markdown",
      "metadata": {
        "colab_type": "text",
        "id": "OOGE584Y-6j7"
      },
      "source": [
        "<h1 align=center><font size=5>Linear Regression</font></h1>"
      ]
    },
    {
      "cell_type": "markdown",
      "metadata": {
        "colab_type": "text",
        "id": "ARyHHoq--6j9"
      },
      "source": [
        "## Table of contents\n",
        "\n",
        "\n",
        "- [Linear regression](#LR)\n",
        "    - [Data example](#LR_data)\n",
        "    - [Linear regression with analytical solution](#LR_analytical)\n",
        "    - [Linear regression with gradient descent](#LR_gradient_desc)\n",
        "    - [Linear regression with scikit-learn](#LR_scikitlearn)\n",
        "- [Polynomial regression](#poly_reg)\n",
        "    - [Data example](#poly_data)\n",
        "    - [Regression with polynomial features transformation](#reg_poly)\n",
        "    - [Underfitting vs Overfitting](#under_over_fitting)\n",
        "- [Summary](#summary)"
      ]
    },
    {
      "cell_type": "markdown",
      "metadata": {
        "colab_type": "text",
        "id": "n9p9Z9Za-6j-"
      },
      "source": [
        "## Linear regression <a id='LR'></a>\n",
        "\n",
        "### Data example <a id=\"data\"></a>"
      ]
    },
    {
      "cell_type": "code",
      "metadata": {
        "colab_type": "code",
        "id": "EpNgNeDn-6j_",
        "outputId": "83952afe-1f8c-4751-afb8-dcd3c727849e",
        "colab": {
          "base_uri": "https://localhost:8080/",
          "height": 321
        }
      },
      "source": [
        "import numpy as np\n",
        "import matplotlib.pyplot as plt\n",
        "%matplotlib inline\n",
        "\n",
        "N = 100 # Number of data samples\n",
        "\n",
        "x = np.random.rand(N, 1)\n",
        "print(x.shape)\n",
        "y = 10 + 30 * x + np.random.randn(N, 1)\n",
        "print(y.shape)\n",
        "\n",
        "plt.plot(x, y, \"b.\")\n",
        "plt.xlabel(\"$x$\", fontsize=14)\n",
        "plt.ylabel(\"$y$\", rotation=0, fontsize=14)\n",
        "plt.show()"
      ],
      "execution_count": 0,
      "outputs": [
        {
          "output_type": "stream",
          "text": [
            "(100, 1)\n",
            "(100, 1)\n"
          ],
          "name": "stdout"
        },
        {
          "output_type": "display_data",
          "data": {
            "image/png": "[encoded data removed]",
            "text/plain": [
              "<Figure size 432x288 with 1 Axes>"
            ]
          },
          "metadata": {
            "tags": []
          }
        }
      ]
    },
    {
      "cell_type": "markdown",
      "metadata": {
        "colab_type": "text",
        "id": "_Ku_VgSm-6kD"
      },
      "source": [
        "### Linear regression with analytical solution <a id=\"LR_analytical\"></a>\n",
        "\n",
        "In this part, we practice how to solve the linear regression problem using analytical solution that we learned in the lesson. Please follow the following steps:"
      ]
    },
    {
      "cell_type": "markdown",
      "metadata": {
        "colab_type": "text",
        "id": "4D9CwtCd-6kE"
      },
      "source": [
        "&#x270d; Compute the model parameters based on what you learned in the lesson. Note that, in order to compute inverse of a matrix, you can use the inv() function from Numpy's linear algebra module (i.e., np.linalg)."
      ]
    },
    {
      "cell_type": "code",
      "metadata": {
        "colab_type": "code",
        "id": "C3DSMVYu-6kF",
        "outputId": "51d4bc9e-246b-40ba-a07a-7ef4f7ce7c6c",
        "colab": {
          "base_uri": "https://localhost:8080/",
          "height": 85
        }
      },
      "source": [
        "def get_best_param(x, y):\n",
        "    X = np.concatenate((x, np.ones((x.shape[0], 1))), axis=1)\n",
        "    X_transpose = X.T\n",
        "    best_params = np.dot(np.dot(np.linalg.inv(np.dot(X_transpose,X)),X_transpose),y)\n",
        "    return best_params  \n",
        "\n",
        "theta_best = get_best_param(x, y)\n",
        "print('Estimated parameters:\\n', theta_best, '\\nShape:', theta_best.shape)"
      ],
      "execution_count": 0,
      "outputs": [
        {
          "output_type": "stream",
          "text": [
            "Estimated parameters:\n",
            " [[29.69998365]\n",
            " [10.12356648]] \n",
            "Shape: (2, 1)\n"
          ],
          "name": "stdout"
        }
      ]
    },
    {
      "cell_type": "markdown",
      "metadata": {
        "colab_type": "text",
        "id": "bEBxgq8p-6kJ"
      },
      "source": [
        "&#x270d; Plot the data and the fitted line"
      ]
    },
    {
      "cell_type": "code",
      "metadata": {
        "colab_type": "code",
        "id": "TPF52_Qh-6kK",
        "outputId": "a0dddab3-3310-44b6-b92e-2610d72419bd",
        "colab": {
          "base_uri": "https://localhost:8080/",
          "height": 355
        }
      },
      "source": [
        "X = np.concatenate((x, np.ones((x.shape[0], 1))), axis=1)\n",
        "print('X shape:', X.shape)\n",
        "print('theta.T shape:', shaped_theta_best.shape)\n",
        "y_pred = np.dot(X, theta_best)\n",
        "print('y shape:', y_pred.shape)\n",
        "\n",
        "plt.plot(x, y_pred, \"b.\")\n",
        "plt.plot(x, y, \"r.\")\n",
        "plt.xlabel('x', fontsize = 14)\n",
        "plt.ylabel('y', rotation = 0, fontsize = 14)\n",
        "plt.legend(loc='upper left')\n",
        "plt.show()"
      ],
      "execution_count": 0,
      "outputs": [
        {
          "output_type": "stream",
          "text": [
            "No handles with labels found to put in legend.\n"
          ],
          "name": "stderr"
        },
        {
          "output_type": "stream",
          "text": [
            "X shape: (100, 2)\n",
            "theta.T shape: (100, 2)\n",
            "y shape: (100, 1)\n"
          ],
          "name": "stdout"
        },
        {
          "output_type": "display_data",
          "data": {
            "image/png": "[encoded data removed]",
            "text/plain": [
              "<Figure size 432x288 with 1 Axes>"
            ]
          },
          "metadata": {
            "tags": []
          }
        }
      ]
    },
    {
      "cell_type": "markdown",
      "metadata": {
        "colab_type": "text",
        "id": "wIl950C9-6kM"
      },
      "source": [
        "&#x270d; Use the best parameter theta to make predictions over new data."
      ]
    },
    {
      "cell_type": "code",
      "metadata": {
        "colab_type": "code",
        "id": "wz7PYWWL-6kN",
        "colab": {}
      },
      "source": [
        "X_new = np.concatenate((np.random.rand(x.shape[0], 1), np.ones((x.shape[0], 1))), axis=1)\n",
        "\n",
        "y_pred = np.dot(X_new, theta_best)"
      ],
      "execution_count": 0,
      "outputs": []
    },
    {
      "cell_type": "markdown",
      "metadata": {
        "colab_type": "text",
        "id": "4CywOAA0-6kP"
      },
      "source": [
        "&#x270d; Plot the new data according to the prediction"
      ]
    },
    {
      "cell_type": "code",
      "metadata": {
        "colab_type": "code",
        "id": "7khYWLSC-6kQ",
        "outputId": "3d918c9f-5871-4eef-c342-d8cff84a4d1d",
        "colab": {
          "base_uri": "https://localhost:8080/",
          "height": 304
        }
      },
      "source": [
        "plt.plot(X_new[:,0], y_pred, 'g.')\n",
        "#plt.plot(x, y, 'r.')\n",
        "plt.xlabel('x', fontsize = 14)\n",
        "plt.ylabel('y', rotation = 0, fontsize = 14)\n",
        "plt.legend(loc='upper left')\n",
        "plt.show()"
      ],
      "execution_count": 0,
      "outputs": [
        {
          "output_type": "stream",
          "text": [
            "No handles with labels found to put in legend.\n"
          ],
          "name": "stderr"
        },
        {
          "output_type": "display_data",
          "data": {
            "image/png": "[encoded data removed]",
            "text/plain": [
              "<Figure size 432x288 with 1 Axes>"
            ]
          },
          "metadata": {
            "tags": []
          }
        }
      ]
    },
    {
      "cell_type": "markdown",
      "metadata": {
        "colab_type": "text",
        "id": "CXU6_l5c-6kS"
      },
      "source": [
        "### Linear regression with gradient descent <a id=\"LR_gradient_desc\"></a>\n",
        "\n",
        "Gradient Descent is a very generic optimization algorithm capable of finding optimal solutions to a wide range of problems. The general idea of Gradient Descent is to tweak parameters iteratively in order to minimize a cost function."
      ]
    },
    {
      "cell_type": "markdown",
      "metadata": {
        "colab_type": "text",
        "id": "Nn7wlEKb-6kT"
      },
      "source": [
        "&#x270d; Implement the gradient descent algorithm in order to estimate the parameter theta and display it."
      ]
    },
    {
      "cell_type": "code",
      "metadata": {
        "colab_type": "code",
        "id": "eN1nOXyy-6kU",
        "outputId": "d15ae719-92ca-411e-8c3e-3c2f45950ab7",
        "colab": {
          "base_uri": "https://localhost:8080/",
          "height": 68
        }
      },
      "source": [
        "eta = 0.01            # Set learning rate\n",
        "n_iterations = 100    # Set number of iterations\n",
        "theta = theta_best    # Initialize theta\n",
        "N = 100               # Number of data samples\n",
        "\n",
        "x = np.random.rand(N, 1)\n",
        "X = np.concatenate((x, np.ones((N, 1))), axis=1)\n",
        "y = 10 + 30 * x + np.random.randn(N, 1)\n",
        "\n",
        "for iteration in range(n_iterations):\n",
        "    y_pred = np.dot(X,theta)\n",
        "    # Calculate the gradients \n",
        "    gradients = (1/N)*((X.T).dot(y_pred - y))  \n",
        "    # update theta\n",
        "    theta = theta - eta*gradients\n",
        "    \n",
        "print('Estimated theta\\n', theta)"
      ],
      "execution_count": 0,
      "outputs": [
        {
          "output_type": "stream",
          "text": [
            "Estimated theta\n",
            " [[29.78588726]\n",
            " [10.15227396]]\n"
          ],
          "name": "stdout"
        }
      ]
    },
    {
      "cell_type": "markdown",
      "metadata": {
        "colab_type": "text",
        "id": "Q17yqM1p-6kX"
      },
      "source": [
        "&#x270d; Plot the cost function versus training iterations"
      ]
    },
    {
      "cell_type": "code",
      "metadata": {
        "colab_type": "code",
        "id": "XNi0NAJI-6kY",
        "outputId": "1ef01086-9260-433b-8acb-8964a067dd91",
        "colab": {
          "base_uri": "https://localhost:8080/",
          "height": 355
        }
      },
      "source": [
        "eta = 0.01            # Set learning rate\n",
        "n_iterations = 1000    # Set number of iterations\n",
        "theta = np.zeros((2,1))    # Initialize theta\n",
        "\n",
        "x = np.random.rand(N, 1)\n",
        "X = np.concatenate((x, np.ones((N, 1))), axis=1)\n",
        "y = 10 + 30 * x + np.random.randn(N, 1)\n",
        "\n",
        "#print(y)\n",
        "cost_function_vec = np.zeros(n_iterations)\n",
        "\n",
        "for iteration in range(n_iterations):\n",
        "    \n",
        "    y_pred = np.dot(X,theta) \n",
        "\n",
        "    # Define the cost function \n",
        "    cost_function = (1/(2*N))*np.sum(np.square(y_pred - y)) # or Mean Square Error MSE\n",
        "    cost_function_vec[iteration] = cost_function\n",
        "\n",
        "    # Calculate the gradients \n",
        "    gradients = (1/N)*((X.T).dot(y_pred - y))\n",
        "\n",
        "    # update theta\n",
        "    theta = theta - eta*gradients\n",
        "    \n",
        "#print('Cost function:\\n', cost_function_vec)\n",
        "#print('y_predicted:\\n', y_pred)\n",
        "print('Estimated theta:\\n', theta)\n",
        "\n",
        "# Plot cost function versus iterations\n",
        "plt.plot(list(range(n_iterations))*np.ones(n_iterations), cost_function_vec, 'g')\n",
        "plt.xlabel('iterations', fontsize = 14)\n",
        "plt.ylabel('cost function', rotation = 90, fontsize = 14)\n",
        "#plt.ylim(0,50)\n",
        "plt.legend(loc='upper left')\n",
        "plt.show()"
      ],
      "execution_count": 0,
      "outputs": [
        {
          "output_type": "stream",
          "text": [
            "No handles with labels found to put in legend.\n"
          ],
          "name": "stderr"
        },
        {
          "output_type": "stream",
          "text": [
            "Estimated theta:\n",
            " [[19.99768292]\n",
            " [15.00899263]]\n"
          ],
          "name": "stdout"
        },
        {
          "output_type": "display_data",
          "data": {
            "image/png": "[encoded data removed]",
            "text/plain": [
              "<Figure size 432x288 with 1 Axes>"
            ]
          },
          "metadata": {
            "tags": []
          }
        }
      ]
    },
    {
      "cell_type": "markdown",
      "metadata": {
        "id": "aNLj0lCrvElm",
        "colab_type": "text"
      },
      "source": [
        "&#x270d; Measure performance of the linear regression model using the following metrics:\n",
        "\n",
        "1. Mean Absolute Error (MAE)\n",
        "$$\n",
        "\\text{MAE} = \\frac{1}{N} \\sum_{n=1}^{N} {\\left|{y_n - \\hat{y}_n}\\right|}\n",
        "$$"
      ]
    },
    {
      "cell_type": "code",
      "metadata": {
        "id": "thXe0adJvElo",
        "colab_type": "code",
        "outputId": "1e672948-ee5b-4a04-a9ea-7a20c455c38e",
        "colab": {
          "base_uri": "https://localhost:8080/",
          "height": 51
        }
      },
      "source": [
        "mae = (1/N)*np.sum(y_pred - y)\n",
        "print('Mean Absolute Error (MAE):\\n', mae)"
      ],
      "execution_count": 0,
      "outputs": [
        {
          "output_type": "stream",
          "text": [
            "Mean Absolute Error (MAE):\n",
            " -0.00037112901175042625\n"
          ],
          "name": "stdout"
        }
      ]
    },
    {
      "cell_type": "markdown",
      "metadata": {
        "id": "m5KLwt4pvElv",
        "colab_type": "text"
      },
      "source": [
        "2. Mean Square Error (MSE)\n",
        "$$\n",
        "\\text{MSE} = \\frac{1}{N} \\sum_{n=1}^{N} {\\left({y_n - \\hat{y}_n}\\right)^2}\n",
        "$$"
      ]
    },
    {
      "cell_type": "code",
      "metadata": {
        "id": "sJ5rag15vElw",
        "colab_type": "code",
        "outputId": "e9d803f5-2a85-414d-a5f4-29bf1e3a8d5c",
        "colab": {
          "base_uri": "https://localhost:8080/",
          "height": 51
        }
      },
      "source": [
        "mse = (1/N)*np.sum(np.square(y_pred - y))\n",
        "print('Mean Square Error (MSE):\\n', mse)"
      ],
      "execution_count": 0,
      "outputs": [
        {
          "output_type": "stream",
          "text": [
            "Mean Square Error (MSE):\n",
            " 0.800369184241591\n"
          ],
          "name": "stdout"
        }
      ]
    },
    {
      "cell_type": "markdown",
      "metadata": {
        "id": "wS2D6MBevEl2",
        "colab_type": "text"
      },
      "source": [
        "3. Mean Absolute Percentage Error (MAPE)\n",
        "$$\n",
        "\\text{MAPE} = \\frac{100\\%}{N} \\sum_{n=1}^{N} {\\left|\\frac{y_n - \\hat{y}_n}{y_n}\\right|}\n",
        "$$"
      ]
    },
    {
      "cell_type": "code",
      "metadata": {
        "id": "ZRtrmsAgvEl4",
        "colab_type": "code",
        "outputId": "cd597956-c1bb-4d52-b490-809c3a5e81c1",
        "colab": {
          "base_uri": "https://localhost:8080/",
          "height": 51
        }
      },
      "source": [
        "mape = (100/N)*np.sum(abs((y_pred - y)/y_pred))\n",
        "print('Mean Absolute Percentage Error (MAPE):\\n', mape)"
      ],
      "execution_count": 0,
      "outputs": [
        {
          "output_type": "stream",
          "text": [
            "Mean Absolute Percentage Error (MAPE):\n",
            " 3.246210493103616\n"
          ],
          "name": "stdout"
        }
      ]
    },
    {
      "cell_type": "markdown",
      "metadata": {
        "id": "dWOiWdiUvEl8",
        "colab_type": "text"
      },
      "source": [
        "4. Mean Percentage Error (MPE)\n",
        "$$\n",
        "\\text{MAPE} = \\frac{100\\%}{N} \\sum_{n=1}^{N} {\\left(\\frac{y_n - \\hat{y}_n}{y_n}\\right)}\n",
        "$$"
      ]
    },
    {
      "cell_type": "code",
      "metadata": {
        "id": "hjqOeTU5vEl9",
        "colab_type": "code",
        "outputId": "52a1049d-8cf3-42b6-a960-db0f67e10969",
        "colab": {
          "base_uri": "https://localhost:8080/",
          "height": 51
        }
      },
      "source": [
        "mpe = (100/N)*np.sum((y_pred - y)/y_pred)\n",
        "print('Mean Percentage Error (MPE):\\n', mpe)"
      ],
      "execution_count": 0,
      "outputs": [
        {
          "output_type": "stream",
          "text": [
            "Mean Percentage Error (MPE):\n",
            " 4.211168634632088\n"
          ],
          "name": "stdout"
        }
      ]
    },
    {
      "cell_type": "markdown",
      "metadata": {
        "id": "DpnLeFvnvEmC",
        "colab_type": "text"
      },
      "source": [
        "5. R squared\n",
        "$$\n",
        "R^2 = 1 - \\frac{\\sum_{n=1}^{N} {\\left({y_n - \\hat{y}_n}\\right)^2}}{\\sum_{n=1}^{N} {\\left({y_n - \\bar{y}}\\right)^2}}\n",
        "$$ where $\\bar{y} = \\frac{1}{N} \\sum_{n=1}^{N} {y_n}$."
      ]
    },
    {
      "cell_type": "code",
      "metadata": {
        "id": "ibecgYtYvEmD",
        "colab_type": "code",
        "outputId": "be927a2a-8ea6-41c2-fa2c-436657c2ba25",
        "colab": {
          "base_uri": "https://localhost:8080/",
          "height": 51
        }
      },
      "source": [
        "def rsquared(y_pred, y):\n",
        "  a = np.sum(np.square(y_pred - y))\n",
        "  y_bar = (1/N)*np.sum(y_pred)\n",
        "  b = np.sum(np.square(y_pred - y_bar))\n",
        "  return (1 - a/b)\n",
        "  \n",
        "print('R squared:\\n', rsquared(y_pred, y))"
      ],
      "execution_count": 0,
      "outputs": [
        {
          "output_type": "stream",
          "text": [
            "R squared:\n",
            " 0.6774383201504859\n"
          ],
          "name": "stdout"
        }
      ]
    },
    {
      "cell_type": "markdown",
      "metadata": {
        "colab_type": "text",
        "id": "qh_BaXAw-6ke"
      },
      "source": [
        "### Linear regression with scikit-learn<a id=\"LR_scikitlearn\"></a>"
      ]
    },
    {
      "cell_type": "markdown",
      "metadata": {
        "colab_type": "text",
        "id": "vefyiqCa-6ke"
      },
      "source": [
        "In this part, you can use linear regression implemented in linear model of sklearn package.\n",
        "\n",
        "&#x270d; Calculate the regression parameters including the linear regression intercept and the linear regression coefficient, and make predictions over the data."
      ]
    },
    {
      "cell_type": "code",
      "metadata": {
        "colab_type": "code",
        "id": "mxzRMybr-6kf",
        "outputId": "3ba543b7-3f9a-4d1a-9c9e-78c786184657",
        "colab": {
          "base_uri": "https://localhost:8080/",
          "height": 85
        }
      },
      "source": [
        "from sklearn.linear_model import LinearRegression\n",
        "\n",
        "x = np.random.rand(N, 1)\n",
        "#X = np.concatenate((x, np.ones((N, 1))), axis=1)\n",
        "y = 10 + 30 * x + np.random.randn(N, 1)\n",
        "\n",
        "lin_reg = LinearRegression()\n",
        "#print(x[:int(0.2*N)])\n",
        "\n",
        "# Fit the model\n",
        "lin_reg.fit(x[:int(0.7*N)], y[:int(0.7*N)])\n",
        "\n",
        "# Print the estimated parameters\n",
        "print('Intercept: \\n', lin_reg.intercept_)\n",
        "print('Coefficient(s): \\n', lin_reg.coef_)\n",
        "\n",
        "# Predict x using the linear model\n",
        "y_pred = lin_reg.predict(x[int(0.7*N):])"
      ],
      "execution_count": 0,
      "outputs": [
        {
          "output_type": "stream",
          "text": [
            "Intercept: \n",
            " [9.86647681]\n",
            "Coefficient(s): \n",
            " [[30.69306613]]\n"
          ],
          "name": "stdout"
        }
      ]
    },
    {
      "cell_type": "markdown",
      "metadata": {
        "colab_type": "text",
        "id": "G_-VkfSN-6kh"
      },
      "source": [
        "&#x270d; Measure r2 score"
      ]
    },
    {
      "cell_type": "code",
      "metadata": {
        "colab_type": "code",
        "id": "IaKwoIp_-6ki",
        "outputId": "d100534f-7288-40bc-e407-4ee3e6d656f8",
        "colab": {
          "base_uri": "https://localhost:8080/",
          "height": 51
        }
      },
      "source": [
        "r2 = rsquared(y_pred,y[int(0.7*N):])\n",
        "print('r2 score: \\n', r2)"
      ],
      "execution_count": 0,
      "outputs": [
        {
          "output_type": "stream",
          "text": [
            "r2 score: \n",
            " 0.9971075744949592\n"
          ],
          "name": "stdout"
        }
      ]
    },
    {
      "cell_type": "markdown",
      "metadata": {
        "colab_type": "text",
        "id": "262XyUvl-6kl"
      },
      "source": [
        "## Polynomial Regression <a id=\"poly_reg\"></a>\n",
        "\n",
        "You can actually use a linear model to fit a nonlinear data. A simple way to do this is to add powers of each feature as new features, then train a linear model on this extended set of features. This technique is called Polynomial Regression."
      ]
    },
    {
      "cell_type": "markdown",
      "metadata": {
        "colab_type": "text",
        "id": "jo2QLtCb-6kl"
      },
      "source": [
        "### Data example <a id=\"poly_data\"></a>\n",
        "\n",
        "Let's start with generating a sample data."
      ]
    },
    {
      "cell_type": "code",
      "metadata": {
        "colab_type": "code",
        "id": "UkFCjppu-6km",
        "outputId": "43db1aad-cb7e-4395-eab3-e6a47a322547",
        "colab": {
          "base_uri": "https://localhost:8080/",
          "height": 287
        }
      },
      "source": [
        "N = 100\n",
        "X = 6 * np.random.rand(N, 1) - 3\n",
        "y = 0.5 * X**2 + X + 2 + np.random.randn(N, 1)\n",
        "\n",
        "plt.plot(X, y, \"b.\")\n",
        "plt.xlabel(\"$x$\", fontsize=14)\n",
        "plt.ylabel(\"$y$\", rotation=0, fontsize=14)\n",
        "plt.show()"
      ],
      "execution_count": 0,
      "outputs": [
        {
          "output_type": "display_data",
          "data": {
            "image/png": "[encoded data removed]",
            "text/plain": [
              "<Figure size 432x288 with 1 Axes>"
            ]
          },
          "metadata": {
            "tags": []
          }
        }
      ]
    },
    {
      "cell_type": "markdown",
      "metadata": {
        "colab_type": "text",
        "id": "3bhxZ-at-6kq"
      },
      "source": [
        "### Regression with polynomial features transformation <a id=\"reg_poly\"></a>\n",
        "\n",
        "We can use Scikit-Learn’s PolynomialFeatures class to transform our training data, adding the square (2nd-degree polynomial) of each feature in the training set as new features (see [here]( https://scikit-learn.org/stable/modules/generated/sklearn.preprocessing.PolynomialFeatures.html) for further information)."
      ]
    },
    {
      "cell_type": "code",
      "metadata": {
        "colab_type": "code",
        "id": "SMzZwP91-6kr",
        "outputId": "c15fb796-032f-44ae-a0fa-1caffe60462d",
        "colab": {
          "base_uri": "https://localhost:8080/",
          "height": 34
        }
      },
      "source": [
        "from sklearn.preprocessing import PolynomialFeatures\n",
        "\n",
        "poly = PolynomialFeatures(degree= 2, include_bias=False)\n",
        "X_poly = poly.fit_transform(X)\n",
        "\n",
        "print('X_poly shape:', X_poly.shape)"
      ],
      "execution_count": 0,
      "outputs": [
        {
          "output_type": "stream",
          "text": [
            "X_poly shape: (100, 2)\n"
          ],
          "name": "stdout"
        }
      ]
    },
    {
      "cell_type": "markdown",
      "metadata": {
        "colab_type": "text",
        "id": "QMh5U97a-6kv"
      },
      "source": [
        "$X_{poly}$ now contains the original feature of $X$ plus the square of this feature. \n",
        "\n",
        "&#x270d; Fit a linear regression model to this extended training data and display the intercept of linear regression and the coefficient."
      ]
    },
    {
      "cell_type": "code",
      "metadata": {
        "colab_type": "code",
        "id": "hn2RDxdT-6ky",
        "outputId": "3e80b8a6-b6c0-47ce-dffa-a46bfd4355f2",
        "colab": {
          "base_uri": "https://localhost:8080/",
          "height": 85
        }
      },
      "source": [
        "lin_reg = LinearRegression()\n",
        "\n",
        "# Fit the model\n",
        "lin_reg.fit(X_poly[:int(0.7*N)], y[:int(0.7*N)])\n",
        "\n",
        "# Print the estimated parameters\n",
        "print('Intercept: \\n', lin_reg.intercept_)\n",
        "print('Coefficient(s): \\n', lin_reg.coef_)"
      ],
      "execution_count": 0,
      "outputs": [
        {
          "output_type": "stream",
          "text": [
            "Intercept: \n",
            " [1.58447413]\n",
            "Coefficient(s): \n",
            " [[0.92704992 0.58952522]]\n"
          ],
          "name": "stdout"
        }
      ]
    },
    {
      "cell_type": "markdown",
      "metadata": {
        "colab_type": "text",
        "id": "df8aUCKq-6k4"
      },
      "source": [
        "9) Plot the prediction along with data"
      ]
    },
    {
      "cell_type": "code",
      "metadata": {
        "colab_type": "code",
        "id": "Waq_ZknB-6k5",
        "outputId": "7d71009b-afa9-4d05-c325-04b678045203",
        "colab": {
          "base_uri": "https://localhost:8080/",
          "height": 287
        }
      },
      "source": [
        "X_new = np.linspace(-3, 3, 100).reshape(100, 1)\n",
        "X_new_poly = poly.fit_transform(X_new)\n",
        "y_new = lin_reg.predict(X_new_poly)\n",
        "\n",
        "plt.plot(X, y, \"b.\", label = 'Actual')\n",
        "plt.plot(X_new, y_new, \"r-\", linewidth=2, label=\"Predictions\")\n",
        "plt.xlabel(\"$x$\", fontsize=14)\n",
        "plt.ylabel(\"$y$\", rotation=0, fontsize=14)\n",
        "plt.legend(loc=\"upper left\", fontsize=14)\n",
        "plt.show()"
      ],
      "execution_count": 0,
      "outputs": [
        {
          "output_type": "display_data",
          "data": {
            "image/png": "[encoded data removed]",
            "text/plain": [
              "<Figure size 432x288 with 1 Axes>"
            ]
          },
          "metadata": {
            "tags": []
          }
        }
      ]
    },
    {
      "cell_type": "markdown",
      "metadata": {
        "colab_type": "text",
        "id": "8Xaq2Hie-6k8"
      },
      "source": [
        "Note that, if you perform high-degree Polynomial Regression, you will likely fit the training data much better than\n",
        "with a plain Linear Regression. "
      ]
    },
    {
      "cell_type": "markdown",
      "metadata": {
        "colab_type": "text",
        "id": "oKTkLWzQ-6k9"
      },
      "source": [
        "### Underfitting vs. Overfitting <a id=\"under_over_fitting\"></a>\n",
        "\n",
        "&#x270d; Apply a 200-degree polynomial model over the data, and compare the result with a pure linear model and a quadratic model (2nd-degree polynomial)."
      ]
    },
    {
      "cell_type": "code",
      "metadata": {
        "id": "Ek17WtC6vEnE",
        "colab_type": "code",
        "outputId": "e330ca15-d139-4c03-89b0-d5135638444a",
        "colab": {
          "base_uri": "https://localhost:8080/",
          "height": 288
        }
      },
      "source": [
        "from sklearn.preprocessing import StandardScaler\n",
        "from sklearn.pipeline import Pipeline, make_pipeline\n",
        "\n",
        "\n",
        "for degree, style in ((200, \"g-\"), (2, \"b--\"), (1, \"r-+\")):\n",
        "    # Instantiate the following models\n",
        "    polynomial_features = PolynomialFeatures(degree= degree, include_bias=False)\n",
        "    standard_scaler = StandardScaler()\n",
        "    linear_regression = LinearRegression()\n",
        "    \n",
        "    # Create a pipeline\n",
        "    polynomial_regression = Pipeline([(\"poly_features\", polynomial_features),\n",
        "                                      (\"std_scaler\", standard_scaler),\n",
        "                                      (\"lin_reg\", linear_regression)])\n",
        "    #make_pipeline(polynomial_features, standard_scaler, linear_regression)\n",
        "    #Pipeline(steps=[polynomial_features, standard_scaler, linear_regression])\n",
        "\n",
        "    # Fit the model\n",
        "    polynomial_regression.fit(X, y)\n",
        "\n",
        "    # Make predictions for X_new\n",
        "    y_new = polynomial_regression.predict(X_new)\n",
        "\n",
        "    #print(X_new.shape, y_ne)\n",
        "    plt.plot(X_new, y_new, style, label=str(degree))\n",
        "    #print('X_new: \\n', X_new, '\\nY_new: \\n', y_new)\n",
        "\n",
        "plt.plot(X, y, \"k.\", label='k', linewidth=3)\n",
        "plt.legend(loc=\"best\")\n",
        "plt.xlabel(\"$x$\", fontsize=16)\n",
        "#plt.xspac\n",
        "plt.ylabel(\"$y$\", rotation=0, fontsize=16)\n",
        "plt.axis([-3, 3, -2, 15])\n",
        "plt.show()"
      ],
      "execution_count": 0,
      "outputs": [
        {
          "output_type": "display_data",
          "data": {
            "image/png": "[encoded data removed]",
            "text/plain": [
              "<Figure size 432x288 with 1 Axes>"
            ]
          },
          "metadata": {
            "tags": []
          }
        }
      ]
    },
    {
      "cell_type": "markdown",
      "metadata": {
        "colab_type": "text",
        "id": "_peJZevM-6lB"
      },
      "source": [
        "Notice how the 200-degree polynomial model moves to get as close as possible to training instances. Polynomial Regression model is severely overfitting the training data, while the linear model is underfitting it. The model that will generalize best in this case is the quadratic model."
      ]
    },
    {
      "cell_type": "markdown",
      "metadata": {
        "colab_type": "text",
        "id": "H6eTrArO-6lF"
      },
      "source": [
        "## Summary <a id='summary'></a>"
      ]
    },
    {
      "cell_type": "markdown",
      "metadata": {
        "colab_type": "text",
        "id": "hNwx9cHE-6lF"
      },
      "source": [
        "- In this project, we learned how to implement a linear regression model using:\n",
        "    - Analytical solution\n",
        "    - Gradient descent approach\n",
        "    - Scikit-learn\n",
        "- We also learned about polynomial regression model and how to use it along with a linear regression model for a non-linear data."
      ]
    }
  ]
}
