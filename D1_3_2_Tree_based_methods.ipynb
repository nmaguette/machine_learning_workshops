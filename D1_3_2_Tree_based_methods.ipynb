{
  "nbformat": 4,
  "nbformat_minor": 0,
  "metadata": {
    "colab": {
      "name": "Maguette_D1.3.2_Tree-based methods.ipynb",
      "provenance": [],
      "collapsed_sections": [],
      "include_colab_link": true
    },
    "kernelspec": {
      "name": "python3",
      "display_name": "Python 3"
    }
  },
  "cells": [
    {
      "cell_type": "markdown",
      "metadata": {
        "id": "view-in-github",
        "colab_type": "text"
      },
      "source": [
        "<a href=\"https://colab.research.google.com/github/nmaguette/machine_learning_workshops/blob/master/D1_3_2_Tree_based_methods.ipynb\" target=\"_parent\"><img src=\"https://colab.research.google.com/assets/colab-badge.svg\" alt=\"Open In Colab\"/></a>"
      ]
    },
    {
      "cell_type": "markdown",
      "metadata": {
        "id": "Iaa3JpskeOZ0",
        "colab_type": "text"
      },
      "source": [
        "# Tree-based Methods\n",
        "We are going to see in this practice how to build different models (simple tree, random forest...) for a classification problem. \n",
        "\n",
        "For this practice we are using \"adult\" dataset that we extracted from [UCI Machine Learning Repository](https://archive.ics.uci.edu/ml/index.php) of open source datasets. This site provides a lot of datasets which can be very useful to build simple models on real data as we are going to do during this practice.\n",
        "\n",
        "\n"
      ]
    },
    {
      "cell_type": "markdown",
      "metadata": {
        "id": "YB6MUWrt2EuW",
        "colab_type": "text"
      },
      "source": [
        "## Importing data \n",
        "\n",
        "The prediction task we have is to determine if a person makes more than 50K a year based on multiple feature variables: age, educational level, workclass, sex, race...\n",
        "\n",
        "We have provided the list of column names below. \n",
        "\n",
        "**1- Import train and test datasets from the urls:**\n",
        "\n",
        "train_set:  https://archive.ics.uci.edu/ml/machine-learning-databases/adult/adult.data\n",
        "\n",
        "test_set: https://archive.ics.uci.edu/ml/machine-learning-databases/adult/adult.test\n",
        "\n",
        "Make sure you give the column names provided in the list *names*\n"
      ]
    },
    {
      "cell_type": "code",
      "metadata": {
        "id": "UAWLRn0-eNp7",
        "colab_type": "code",
        "outputId": "3287112c-c012-4d64-9c14-b58b5e98fc09",
        "colab": {
          "base_uri": "https://localhost:8080/",
          "height": 34
        }
      },
      "source": [
        "import pandas as pd\n",
        "\n",
        "\n",
        "column_names = [\"age\", \"workclass\",\"fnlwgt\", \"education\",\"education-num\", \"marital-status\", \"occupation\", \"relationship\",\n",
        "         \"race\",\"sex\", \"capital-gain\", \"capital-loss\",\"hours-per-week\",\"native-country\",\"income\"]\n",
        "\n",
        "train_data_url = \"https://archive.ics.uci.edu/ml/machine-learning-databases/adult/adult.data\"\n",
        "test_data_url = \"https://archive.ics.uci.edu/ml/machine-learning-databases/adult/adult.test\"\n",
        "\n",
        "train_data = pd.read_csv(train_data_url, sep=\",\", header=None, names=column_names)\n",
        "test_data = pd.read_csv(test_data_url, sep=\",\", header=None, names=column_names)\n",
        "\n",
        "print(type(train_data))"
      ],
      "execution_count": 0,
      "outputs": [
        {
          "output_type": "stream",
          "text": [
            "<class 'pandas.core.frame.DataFrame'>\n"
          ],
          "name": "stdout"
        }
      ]
    },
    {
      "cell_type": "markdown",
      "metadata": {
        "id": "ukMYqHXNkUwq",
        "colab_type": "text"
      },
      "source": [
        "## Data preprocessing\n",
        "\n",
        "Take a look at you at the two datasets. What do you notice on the test data ? Make the necessary changes. "
      ]
    },
    {
      "cell_type": "code",
      "metadata": {
        "id": "zJz69w1clEsA",
        "colab_type": "code",
        "outputId": "5e41641d-8b44-4c78-a893-5768d612cc96",
        "colab": {
          "base_uri": "https://localhost:8080/",
          "height": 299
        }
      },
      "source": [
        "# train dataset\n",
        "print('train_data shape:', train_data.shape)\n",
        "train_data.head()"
      ],
      "execution_count": 0,
      "outputs": [
        {
          "output_type": "stream",
          "text": [
            "train_data shape: (32561, 15)\n"
          ],
          "name": "stdout"
        },
        {
          "output_type": "execute_result",
          "data": {
            "text/html": [
              "<div>\n",
              "<style scoped>\n",
              "    .dataframe tbody tr th:only-of-type {\n",
              "        vertical-align: middle;\n",
              "    }\n",
              "\n",
              "    .dataframe tbody tr th {\n",
              "        vertical-align: top;\n",
              "    }\n",
              "\n",
              "    .dataframe thead th {\n",
              "        text-align: right;\n",
              "    }\n",
              "</style>\n",
              "<table border=\"1\" class=\"dataframe\">\n",
              "  <thead>\n",
              "    <tr style=\"text-align: right;\">\n",
              "      <th></th>\n",
              "      <th>age</th>\n",
              "      <th>workclass</th>\n",
              "      <th>fnlwgt</th>\n",
              "      <th>education</th>\n",
              "      <th>education-num</th>\n",
              "      <th>marital-status</th>\n",
              "      <th>occupation</th>\n",
              "      <th>relationship</th>\n",
              "      <th>race</th>\n",
              "      <th>sex</th>\n",
              "      <th>capital-gain</th>\n",
              "      <th>capital-loss</th>\n",
              "      <th>hours-per-week</th>\n",
              "      <th>native-country</th>\n",
              "      <th>income</th>\n",
              "    </tr>\n",
              "  </thead>\n",
              "  <tbody>\n",
              "    <tr>\n",
              "      <th>0</th>\n",
              "      <td>39</td>\n",
              "      <td>State-gov</td>\n",
              "      <td>77516</td>\n",
              "      <td>Bachelors</td>\n",
              "      <td>13</td>\n",
              "      <td>Never-married</td>\n",
              "      <td>Adm-clerical</td>\n",
              "      <td>Not-in-family</td>\n",
              "      <td>White</td>\n",
              "      <td>Male</td>\n",
              "      <td>2174</td>\n",
              "      <td>0</td>\n",
              "      <td>40</td>\n",
              "      <td>United-States</td>\n",
              "      <td>&lt;=50K</td>\n",
              "    </tr>\n",
              "    <tr>\n",
              "      <th>1</th>\n",
              "      <td>50</td>\n",
              "      <td>Self-emp-not-inc</td>\n",
              "      <td>83311</td>\n",
              "      <td>Bachelors</td>\n",
              "      <td>13</td>\n",
              "      <td>Married-civ-spouse</td>\n",
              "      <td>Exec-managerial</td>\n",
              "      <td>Husband</td>\n",
              "      <td>White</td>\n",
              "      <td>Male</td>\n",
              "      <td>0</td>\n",
              "      <td>0</td>\n",
              "      <td>13</td>\n",
              "      <td>United-States</td>\n",
              "      <td>&lt;=50K</td>\n",
              "    </tr>\n",
              "    <tr>\n",
              "      <th>2</th>\n",
              "      <td>38</td>\n",
              "      <td>Private</td>\n",
              "      <td>215646</td>\n",
              "      <td>HS-grad</td>\n",
              "      <td>9</td>\n",
              "      <td>Divorced</td>\n",
              "      <td>Handlers-cleaners</td>\n",
              "      <td>Not-in-family</td>\n",
              "      <td>White</td>\n",
              "      <td>Male</td>\n",
              "      <td>0</td>\n",
              "      <td>0</td>\n",
              "      <td>40</td>\n",
              "      <td>United-States</td>\n",
              "      <td>&lt;=50K</td>\n",
              "    </tr>\n",
              "    <tr>\n",
              "      <th>3</th>\n",
              "      <td>53</td>\n",
              "      <td>Private</td>\n",
              "      <td>234721</td>\n",
              "      <td>11th</td>\n",
              "      <td>7</td>\n",
              "      <td>Married-civ-spouse</td>\n",
              "      <td>Handlers-cleaners</td>\n",
              "      <td>Husband</td>\n",
              "      <td>Black</td>\n",
              "      <td>Male</td>\n",
              "      <td>0</td>\n",
              "      <td>0</td>\n",
              "      <td>40</td>\n",
              "      <td>United-States</td>\n",
              "      <td>&lt;=50K</td>\n",
              "    </tr>\n",
              "    <tr>\n",
              "      <th>4</th>\n",
              "      <td>28</td>\n",
              "      <td>Private</td>\n",
              "      <td>338409</td>\n",
              "      <td>Bachelors</td>\n",
              "      <td>13</td>\n",
              "      <td>Married-civ-spouse</td>\n",
              "      <td>Prof-specialty</td>\n",
              "      <td>Wife</td>\n",
              "      <td>Black</td>\n",
              "      <td>Female</td>\n",
              "      <td>0</td>\n",
              "      <td>0</td>\n",
              "      <td>40</td>\n",
              "      <td>Cuba</td>\n",
              "      <td>&lt;=50K</td>\n",
              "    </tr>\n",
              "  </tbody>\n",
              "</table>\n",
              "</div>"
            ],
            "text/plain": [
              "   age          workclass  fnlwgt  ... hours-per-week  native-country  income\n",
              "0   39          State-gov   77516  ...             40   United-States   <=50K\n",
              "1   50   Self-emp-not-inc   83311  ...             13   United-States   <=50K\n",
              "2   38            Private  215646  ...             40   United-States   <=50K\n",
              "3   53            Private  234721  ...             40   United-States   <=50K\n",
              "4   28            Private  338409  ...             40            Cuba   <=50K\n",
              "\n",
              "[5 rows x 15 columns]"
            ]
          },
          "metadata": {
            "tags": []
          },
          "execution_count": 17
        }
      ]
    },
    {
      "cell_type": "code",
      "metadata": {
        "id": "cth7Jel2lLAX",
        "colab_type": "code",
        "outputId": "88992a1d-13a6-4a10-e692-e250c3cf7b61",
        "colab": {
          "base_uri": "https://localhost:8080/",
          "height": 363
        }
      },
      "source": [
        "# test dataset\n",
        "print('test_data shape:', test_data.shape)\n",
        "\n",
        "pd.concat([test_data.head(3), test_data.tail(3)])"
      ],
      "execution_count": 0,
      "outputs": [
        {
          "output_type": "stream",
          "text": [
            "test_data shape: (16282, 15)\n"
          ],
          "name": "stdout"
        },
        {
          "output_type": "execute_result",
          "data": {
            "text/html": [
              "<div>\n",
              "<style scoped>\n",
              "    .dataframe tbody tr th:only-of-type {\n",
              "        vertical-align: middle;\n",
              "    }\n",
              "\n",
              "    .dataframe tbody tr th {\n",
              "        vertical-align: top;\n",
              "    }\n",
              "\n",
              "    .dataframe thead th {\n",
              "        text-align: right;\n",
              "    }\n",
              "</style>\n",
              "<table border=\"1\" class=\"dataframe\">\n",
              "  <thead>\n",
              "    <tr style=\"text-align: right;\">\n",
              "      <th></th>\n",
              "      <th>age</th>\n",
              "      <th>workclass</th>\n",
              "      <th>fnlwgt</th>\n",
              "      <th>education</th>\n",
              "      <th>education-num</th>\n",
              "      <th>marital-status</th>\n",
              "      <th>occupation</th>\n",
              "      <th>relationship</th>\n",
              "      <th>race</th>\n",
              "      <th>sex</th>\n",
              "      <th>capital-gain</th>\n",
              "      <th>capital-loss</th>\n",
              "      <th>hours-per-week</th>\n",
              "      <th>native-country</th>\n",
              "      <th>income</th>\n",
              "    </tr>\n",
              "  </thead>\n",
              "  <tbody>\n",
              "    <tr>\n",
              "      <th>0</th>\n",
              "      <td>|1x3 Cross validator</td>\n",
              "      <td>NaN</td>\n",
              "      <td>NaN</td>\n",
              "      <td>NaN</td>\n",
              "      <td>NaN</td>\n",
              "      <td>NaN</td>\n",
              "      <td>NaN</td>\n",
              "      <td>NaN</td>\n",
              "      <td>NaN</td>\n",
              "      <td>NaN</td>\n",
              "      <td>NaN</td>\n",
              "      <td>NaN</td>\n",
              "      <td>NaN</td>\n",
              "      <td>NaN</td>\n",
              "      <td>NaN</td>\n",
              "    </tr>\n",
              "    <tr>\n",
              "      <th>1</th>\n",
              "      <td>25</td>\n",
              "      <td>Private</td>\n",
              "      <td>226802.0</td>\n",
              "      <td>11th</td>\n",
              "      <td>7.0</td>\n",
              "      <td>Never-married</td>\n",
              "      <td>Machine-op-inspct</td>\n",
              "      <td>Own-child</td>\n",
              "      <td>Black</td>\n",
              "      <td>Male</td>\n",
              "      <td>0.0</td>\n",
              "      <td>0.0</td>\n",
              "      <td>40.0</td>\n",
              "      <td>United-States</td>\n",
              "      <td>&lt;=50K.</td>\n",
              "    </tr>\n",
              "    <tr>\n",
              "      <th>2</th>\n",
              "      <td>38</td>\n",
              "      <td>Private</td>\n",
              "      <td>89814.0</td>\n",
              "      <td>HS-grad</td>\n",
              "      <td>9.0</td>\n",
              "      <td>Married-civ-spouse</td>\n",
              "      <td>Farming-fishing</td>\n",
              "      <td>Husband</td>\n",
              "      <td>White</td>\n",
              "      <td>Male</td>\n",
              "      <td>0.0</td>\n",
              "      <td>0.0</td>\n",
              "      <td>50.0</td>\n",
              "      <td>United-States</td>\n",
              "      <td>&lt;=50K.</td>\n",
              "    </tr>\n",
              "    <tr>\n",
              "      <th>16279</th>\n",
              "      <td>38</td>\n",
              "      <td>Private</td>\n",
              "      <td>374983.0</td>\n",
              "      <td>Bachelors</td>\n",
              "      <td>13.0</td>\n",
              "      <td>Married-civ-spouse</td>\n",
              "      <td>Prof-specialty</td>\n",
              "      <td>Husband</td>\n",
              "      <td>White</td>\n",
              "      <td>Male</td>\n",
              "      <td>0.0</td>\n",
              "      <td>0.0</td>\n",
              "      <td>50.0</td>\n",
              "      <td>United-States</td>\n",
              "      <td>&lt;=50K.</td>\n",
              "    </tr>\n",
              "    <tr>\n",
              "      <th>16280</th>\n",
              "      <td>44</td>\n",
              "      <td>Private</td>\n",
              "      <td>83891.0</td>\n",
              "      <td>Bachelors</td>\n",
              "      <td>13.0</td>\n",
              "      <td>Divorced</td>\n",
              "      <td>Adm-clerical</td>\n",
              "      <td>Own-child</td>\n",
              "      <td>Asian-Pac-Islander</td>\n",
              "      <td>Male</td>\n",
              "      <td>5455.0</td>\n",
              "      <td>0.0</td>\n",
              "      <td>40.0</td>\n",
              "      <td>United-States</td>\n",
              "      <td>&lt;=50K.</td>\n",
              "    </tr>\n",
              "    <tr>\n",
              "      <th>16281</th>\n",
              "      <td>35</td>\n",
              "      <td>Self-emp-inc</td>\n",
              "      <td>182148.0</td>\n",
              "      <td>Bachelors</td>\n",
              "      <td>13.0</td>\n",
              "      <td>Married-civ-spouse</td>\n",
              "      <td>Exec-managerial</td>\n",
              "      <td>Husband</td>\n",
              "      <td>White</td>\n",
              "      <td>Male</td>\n",
              "      <td>0.0</td>\n",
              "      <td>0.0</td>\n",
              "      <td>60.0</td>\n",
              "      <td>United-States</td>\n",
              "      <td>&gt;50K.</td>\n",
              "    </tr>\n",
              "  </tbody>\n",
              "</table>\n",
              "</div>"
            ],
            "text/plain": [
              "                        age      workclass  ...  native-country   income\n",
              "0      |1x3 Cross validator            NaN  ...             NaN      NaN\n",
              "1                        25        Private  ...   United-States   <=50K.\n",
              "2                        38        Private  ...   United-States   <=50K.\n",
              "16279                    38        Private  ...   United-States   <=50K.\n",
              "16280                    44        Private  ...   United-States   <=50K.\n",
              "16281                    35   Self-emp-inc  ...   United-States    >50K.\n",
              "\n",
              "[6 rows x 15 columns]"
            ]
          },
          "metadata": {
            "tags": []
          },
          "execution_count": 18
        }
      ]
    },
    {
      "cell_type": "markdown",
      "metadata": {
        "id": "9ejcLNagW0Sf",
        "colab_type": "text"
      },
      "source": [
        "<font color='green'>We can observe that the first row of the test_data is all composed of NaN values, so we can delete this row.\n",
        "</font>"
      ]
    },
    {
      "cell_type": "code",
      "metadata": {
        "id": "4ikIOFMElezC",
        "colab_type": "code",
        "outputId": "36053b0a-c1b7-413d-e350-851f08dcedc3",
        "colab": {
          "base_uri": "https://localhost:8080/",
          "height": 299
        }
      },
      "source": [
        "# make changes \n",
        "test_data = test_data[1:]\n",
        "\n",
        "test_data.head()"
      ],
      "execution_count": 0,
      "outputs": [
        {
          "output_type": "execute_result",
          "data": {
            "text/html": [
              "<div>\n",
              "<style scoped>\n",
              "    .dataframe tbody tr th:only-of-type {\n",
              "        vertical-align: middle;\n",
              "    }\n",
              "\n",
              "    .dataframe tbody tr th {\n",
              "        vertical-align: top;\n",
              "    }\n",
              "\n",
              "    .dataframe thead th {\n",
              "        text-align: right;\n",
              "    }\n",
              "</style>\n",
              "<table border=\"1\" class=\"dataframe\">\n",
              "  <thead>\n",
              "    <tr style=\"text-align: right;\">\n",
              "      <th></th>\n",
              "      <th>age</th>\n",
              "      <th>workclass</th>\n",
              "      <th>fnlwgt</th>\n",
              "      <th>education</th>\n",
              "      <th>education-num</th>\n",
              "      <th>marital-status</th>\n",
              "      <th>occupation</th>\n",
              "      <th>relationship</th>\n",
              "      <th>race</th>\n",
              "      <th>sex</th>\n",
              "      <th>capital-gain</th>\n",
              "      <th>capital-loss</th>\n",
              "      <th>hours-per-week</th>\n",
              "      <th>native-country</th>\n",
              "      <th>income</th>\n",
              "    </tr>\n",
              "  </thead>\n",
              "  <tbody>\n",
              "    <tr>\n",
              "      <th>1</th>\n",
              "      <td>25</td>\n",
              "      <td>Private</td>\n",
              "      <td>226802.0</td>\n",
              "      <td>11th</td>\n",
              "      <td>7.0</td>\n",
              "      <td>Never-married</td>\n",
              "      <td>Machine-op-inspct</td>\n",
              "      <td>Own-child</td>\n",
              "      <td>Black</td>\n",
              "      <td>Male</td>\n",
              "      <td>0.0</td>\n",
              "      <td>0.0</td>\n",
              "      <td>40.0</td>\n",
              "      <td>United-States</td>\n",
              "      <td>&lt;=50K.</td>\n",
              "    </tr>\n",
              "    <tr>\n",
              "      <th>2</th>\n",
              "      <td>38</td>\n",
              "      <td>Private</td>\n",
              "      <td>89814.0</td>\n",
              "      <td>HS-grad</td>\n",
              "      <td>9.0</td>\n",
              "      <td>Married-civ-spouse</td>\n",
              "      <td>Farming-fishing</td>\n",
              "      <td>Husband</td>\n",
              "      <td>White</td>\n",
              "      <td>Male</td>\n",
              "      <td>0.0</td>\n",
              "      <td>0.0</td>\n",
              "      <td>50.0</td>\n",
              "      <td>United-States</td>\n",
              "      <td>&lt;=50K.</td>\n",
              "    </tr>\n",
              "    <tr>\n",
              "      <th>3</th>\n",
              "      <td>28</td>\n",
              "      <td>Local-gov</td>\n",
              "      <td>336951.0</td>\n",
              "      <td>Assoc-acdm</td>\n",
              "      <td>12.0</td>\n",
              "      <td>Married-civ-spouse</td>\n",
              "      <td>Protective-serv</td>\n",
              "      <td>Husband</td>\n",
              "      <td>White</td>\n",
              "      <td>Male</td>\n",
              "      <td>0.0</td>\n",
              "      <td>0.0</td>\n",
              "      <td>40.0</td>\n",
              "      <td>United-States</td>\n",
              "      <td>&gt;50K.</td>\n",
              "    </tr>\n",
              "    <tr>\n",
              "      <th>4</th>\n",
              "      <td>44</td>\n",
              "      <td>Private</td>\n",
              "      <td>160323.0</td>\n",
              "      <td>Some-college</td>\n",
              "      <td>10.0</td>\n",
              "      <td>Married-civ-spouse</td>\n",
              "      <td>Machine-op-inspct</td>\n",
              "      <td>Husband</td>\n",
              "      <td>Black</td>\n",
              "      <td>Male</td>\n",
              "      <td>7688.0</td>\n",
              "      <td>0.0</td>\n",
              "      <td>40.0</td>\n",
              "      <td>United-States</td>\n",
              "      <td>&gt;50K.</td>\n",
              "    </tr>\n",
              "    <tr>\n",
              "      <th>5</th>\n",
              "      <td>18</td>\n",
              "      <td>?</td>\n",
              "      <td>103497.0</td>\n",
              "      <td>Some-college</td>\n",
              "      <td>10.0</td>\n",
              "      <td>Never-married</td>\n",
              "      <td>?</td>\n",
              "      <td>Own-child</td>\n",
              "      <td>White</td>\n",
              "      <td>Female</td>\n",
              "      <td>0.0</td>\n",
              "      <td>0.0</td>\n",
              "      <td>30.0</td>\n",
              "      <td>United-States</td>\n",
              "      <td>&lt;=50K.</td>\n",
              "    </tr>\n",
              "  </tbody>\n",
              "</table>\n",
              "</div>"
            ],
            "text/plain": [
              "  age   workclass    fnlwgt  ... hours-per-week  native-country   income\n",
              "1  25     Private  226802.0  ...           40.0   United-States   <=50K.\n",
              "2  38     Private   89814.0  ...           50.0   United-States   <=50K.\n",
              "3  28   Local-gov  336951.0  ...           40.0   United-States    >50K.\n",
              "4  44     Private  160323.0  ...           40.0   United-States    >50K.\n",
              "5  18           ?  103497.0  ...           30.0   United-States   <=50K.\n",
              "\n",
              "[5 rows x 15 columns]"
            ]
          },
          "metadata": {
            "tags": []
          },
          "execution_count": 19
        }
      ]
    },
    {
      "cell_type": "markdown",
      "metadata": {
        "id": "kBIjGEw7py9W",
        "colab_type": "text"
      },
      "source": [
        "**3-The variable to be learned is \"income\". \n",
        "Get all its the possible values from training and test datasets.** \n",
        "Tip: use the function unique\n"
      ]
    },
    {
      "cell_type": "code",
      "metadata": {
        "id": "qJNTNhdusUG8",
        "colab_type": "code",
        "outputId": "f96ede07-5f13-4912-e10e-ab34823e3712",
        "colab": {
          "base_uri": "https://localhost:8080/",
          "height": 85
        }
      },
      "source": [
        "print(\"Possible values for target feature \\\"income\\\" in the training dataset :\\n\", train_data['income'].unique())\n",
        "print(\"Possible values for target feature \\\"income\\\" in the test dataset :\\n\", test_data['income'].unique())"
      ],
      "execution_count": 0,
      "outputs": [
        {
          "output_type": "stream",
          "text": [
            "Possible values for target feature \"income\" in the training dataset :\n",
            " [' <=50K' ' >50K']\n",
            "Possible values for target feature \"income\" in the test dataset :\n",
            " [' <=50K.' ' >50K.']\n"
          ],
          "name": "stdout"
        }
      ]
    },
    {
      "cell_type": "markdown",
      "metadata": {
        "id": "A1XaiyVgssBv",
        "colab_type": "text"
      },
      "source": [
        "We will now transform the \"income\" variable to a binary one: 1 if  the income is <=50K and 0 otherwise. \n",
        "\n",
        "**4-Write a function binarize() that does the transformation for one string and then apply it to the whole dataset.** \n"
      ]
    },
    {
      "cell_type": "code",
      "metadata": {
        "id": "AgAE82PUtuBy",
        "colab_type": "code",
        "outputId": "6a0a1fd1-c95b-4868-8184-f7f60f1bc709",
        "colab": {
          "base_uri": "https://localhost:8080/",
          "height": 756
        }
      },
      "source": [
        "def binarize(income):\n",
        "    if \"<=50K\" in str(income):\n",
        "      return 1\n",
        "    return 0\n",
        "\n",
        "train_data[\"income\"] = train_data[\"income\"].apply(binarize)\n",
        "test_data[\"income\"] = test_data[\"income\"].apply(binarize)\n",
        "\n",
        "print(train_data[\"income\"])\n",
        "print(test_data[\"income\"])\n",
        "pd.concat([test_data.head(3), test_data.tail(3)])"
      ],
      "execution_count": 0,
      "outputs": [
        {
          "output_type": "stream",
          "text": [
            "0        1\n",
            "1        1\n",
            "2        1\n",
            "3        1\n",
            "4        1\n",
            "        ..\n",
            "32556    1\n",
            "32557    0\n",
            "32558    1\n",
            "32559    1\n",
            "32560    0\n",
            "Name: income, Length: 32561, dtype: int64\n",
            "1        1\n",
            "2        1\n",
            "3        0\n",
            "4        0\n",
            "5        1\n",
            "        ..\n",
            "16277    1\n",
            "16278    1\n",
            "16279    1\n",
            "16280    1\n",
            "16281    0\n",
            "Name: income, Length: 16281, dtype: int64\n"
          ],
          "name": "stdout"
        },
        {
          "output_type": "execute_result",
          "data": {
            "text/html": [
              "<div>\n",
              "<style scoped>\n",
              "    .dataframe tbody tr th:only-of-type {\n",
              "        vertical-align: middle;\n",
              "    }\n",
              "\n",
              "    .dataframe tbody tr th {\n",
              "        vertical-align: top;\n",
              "    }\n",
              "\n",
              "    .dataframe thead th {\n",
              "        text-align: right;\n",
              "    }\n",
              "</style>\n",
              "<table border=\"1\" class=\"dataframe\">\n",
              "  <thead>\n",
              "    <tr style=\"text-align: right;\">\n",
              "      <th></th>\n",
              "      <th>age</th>\n",
              "      <th>workclass</th>\n",
              "      <th>fnlwgt</th>\n",
              "      <th>education</th>\n",
              "      <th>education-num</th>\n",
              "      <th>marital-status</th>\n",
              "      <th>occupation</th>\n",
              "      <th>relationship</th>\n",
              "      <th>race</th>\n",
              "      <th>sex</th>\n",
              "      <th>capital-gain</th>\n",
              "      <th>capital-loss</th>\n",
              "      <th>hours-per-week</th>\n",
              "      <th>native-country</th>\n",
              "      <th>income</th>\n",
              "    </tr>\n",
              "  </thead>\n",
              "  <tbody>\n",
              "    <tr>\n",
              "      <th>1</th>\n",
              "      <td>25</td>\n",
              "      <td>Private</td>\n",
              "      <td>226802.0</td>\n",
              "      <td>11th</td>\n",
              "      <td>7.0</td>\n",
              "      <td>Never-married</td>\n",
              "      <td>Machine-op-inspct</td>\n",
              "      <td>Own-child</td>\n",
              "      <td>Black</td>\n",
              "      <td>Male</td>\n",
              "      <td>0.0</td>\n",
              "      <td>0.0</td>\n",
              "      <td>40.0</td>\n",
              "      <td>United-States</td>\n",
              "      <td>1</td>\n",
              "    </tr>\n",
              "    <tr>\n",
              "      <th>2</th>\n",
              "      <td>38</td>\n",
              "      <td>Private</td>\n",
              "      <td>89814.0</td>\n",
              "      <td>HS-grad</td>\n",
              "      <td>9.0</td>\n",
              "      <td>Married-civ-spouse</td>\n",
              "      <td>Farming-fishing</td>\n",
              "      <td>Husband</td>\n",
              "      <td>White</td>\n",
              "      <td>Male</td>\n",
              "      <td>0.0</td>\n",
              "      <td>0.0</td>\n",
              "      <td>50.0</td>\n",
              "      <td>United-States</td>\n",
              "      <td>1</td>\n",
              "    </tr>\n",
              "    <tr>\n",
              "      <th>3</th>\n",
              "      <td>28</td>\n",
              "      <td>Local-gov</td>\n",
              "      <td>336951.0</td>\n",
              "      <td>Assoc-acdm</td>\n",
              "      <td>12.0</td>\n",
              "      <td>Married-civ-spouse</td>\n",
              "      <td>Protective-serv</td>\n",
              "      <td>Husband</td>\n",
              "      <td>White</td>\n",
              "      <td>Male</td>\n",
              "      <td>0.0</td>\n",
              "      <td>0.0</td>\n",
              "      <td>40.0</td>\n",
              "      <td>United-States</td>\n",
              "      <td>0</td>\n",
              "    </tr>\n",
              "    <tr>\n",
              "      <th>16279</th>\n",
              "      <td>38</td>\n",
              "      <td>Private</td>\n",
              "      <td>374983.0</td>\n",
              "      <td>Bachelors</td>\n",
              "      <td>13.0</td>\n",
              "      <td>Married-civ-spouse</td>\n",
              "      <td>Prof-specialty</td>\n",
              "      <td>Husband</td>\n",
              "      <td>White</td>\n",
              "      <td>Male</td>\n",
              "      <td>0.0</td>\n",
              "      <td>0.0</td>\n",
              "      <td>50.0</td>\n",
              "      <td>United-States</td>\n",
              "      <td>1</td>\n",
              "    </tr>\n",
              "    <tr>\n",
              "      <th>16280</th>\n",
              "      <td>44</td>\n",
              "      <td>Private</td>\n",
              "      <td>83891.0</td>\n",
              "      <td>Bachelors</td>\n",
              "      <td>13.0</td>\n",
              "      <td>Divorced</td>\n",
              "      <td>Adm-clerical</td>\n",
              "      <td>Own-child</td>\n",
              "      <td>Asian-Pac-Islander</td>\n",
              "      <td>Male</td>\n",
              "      <td>5455.0</td>\n",
              "      <td>0.0</td>\n",
              "      <td>40.0</td>\n",
              "      <td>United-States</td>\n",
              "      <td>1</td>\n",
              "    </tr>\n",
              "    <tr>\n",
              "      <th>16281</th>\n",
              "      <td>35</td>\n",
              "      <td>Self-emp-inc</td>\n",
              "      <td>182148.0</td>\n",
              "      <td>Bachelors</td>\n",
              "      <td>13.0</td>\n",
              "      <td>Married-civ-spouse</td>\n",
              "      <td>Exec-managerial</td>\n",
              "      <td>Husband</td>\n",
              "      <td>White</td>\n",
              "      <td>Male</td>\n",
              "      <td>0.0</td>\n",
              "      <td>0.0</td>\n",
              "      <td>60.0</td>\n",
              "      <td>United-States</td>\n",
              "      <td>0</td>\n",
              "    </tr>\n",
              "  </tbody>\n",
              "</table>\n",
              "</div>"
            ],
            "text/plain": [
              "      age      workclass    fnlwgt  ... hours-per-week  native-country income\n",
              "1      25        Private  226802.0  ...           40.0   United-States      1\n",
              "2      38        Private   89814.0  ...           50.0   United-States      1\n",
              "3      28      Local-gov  336951.0  ...           40.0   United-States      0\n",
              "16279  38        Private  374983.0  ...           50.0   United-States      1\n",
              "16280  44        Private   83891.0  ...           40.0   United-States      1\n",
              "16281  35   Self-emp-inc  182148.0  ...           60.0   United-States      0\n",
              "\n",
              "[6 rows x 15 columns]"
            ]
          },
          "metadata": {
            "tags": []
          },
          "execution_count": 21
        }
      ]
    },
    {
      "cell_type": "markdown",
      "metadata": {
        "id": "-h5i2aDSuoFl",
        "colab_type": "text"
      },
      "source": [
        "**5-Remove columns with names \"fnlwgt\", \"education\" training and test datasets. We remove them because education is redundant with \"education-num\"\tand \"fnlwgt\" is not relevant for out model.**"
      ]
    },
    {
      "cell_type": "code",
      "metadata": {
        "id": "0zBPUgpJvK8k",
        "colab_type": "code",
        "outputId": "e11381ce-e3fd-4d02-fd02-271589706f3f",
        "colab": {
          "base_uri": "https://localhost:8080/",
          "height": 119
        }
      },
      "source": [
        "print('train_data shape BEFORE:', train_data.shape)\n",
        "print('test_data shape BEFORE:', test_data.shape)\n",
        "\n",
        "train_data = train_data.drop(['fnlwgt', 'education'], axis=1)\n",
        "test_data = test_data.drop(['fnlwgt', 'education'], axis=1)\n",
        "\n",
        "# check that columns have been removed correctly in training and testing datasets\n",
        "print('\\ntrain_data shape AFTER:', train_data.shape)\n",
        "print('test_data shape AFTER:', test_data.shape, '\\n')"
      ],
      "execution_count": 0,
      "outputs": [
        {
          "output_type": "stream",
          "text": [
            "train_data shape BEFORE: (32561, 15)\n",
            "test_data shape BEFORE: (16281, 15)\n",
            "\n",
            "train_data shape AFTER: (32561, 13)\n",
            "test_data shape AFTER: (16281, 13) \n",
            "\n"
          ],
          "name": "stdout"
        }
      ]
    },
    {
      "cell_type": "markdown",
      "metadata": {
        "id": "rhV7Y_gBxdp9",
        "colab_type": "text"
      },
      "source": [
        "We will continue processing of the data: \n",
        "\n",
        "**6-Check missing values in the data by counting values of each column (use function count() or describe())**"
      ]
    },
    {
      "cell_type": "code",
      "metadata": {
        "id": "6HfpMWivxqcv",
        "colab_type": "code",
        "outputId": "0c20eae9-e57b-4680-afdb-a274b9cd3748",
        "colab": {
          "base_uri": "https://localhost:8080/",
          "height": 580
        }
      },
      "source": [
        "print(\"train_data values count:\\n\", train_data.count(), \"\\ntrain_data total values:\", train_data.shape[0])\n",
        "print(\"\\ntest_data values count:\\n\", test_data.count(), \"\\ntest_data total values:\", test_data.shape[0])\n",
        "\n",
        "# other method\n",
        "#print(train_data.isna().sum())\n",
        "#print(test_data.isna().sum())"
      ],
      "execution_count": 0,
      "outputs": [
        {
          "output_type": "stream",
          "text": [
            "train_data values count:\n",
            " age               32561\n",
            "workclass         32561\n",
            "education-num     32561\n",
            "marital-status    32561\n",
            "occupation        32561\n",
            "relationship      32561\n",
            "race              32561\n",
            "sex               32561\n",
            "capital-gain      32561\n",
            "capital-loss      32561\n",
            "hours-per-week    32561\n",
            "native-country    32561\n",
            "income            32561\n",
            "dtype: int64 \n",
            "train_data total values: 32561\n",
            "\n",
            "test_data values count:\n",
            " age               16281\n",
            "workclass         16281\n",
            "education-num     16281\n",
            "marital-status    16281\n",
            "occupation        16281\n",
            "relationship      16281\n",
            "race              16281\n",
            "sex               16281\n",
            "capital-gain      16281\n",
            "capital-loss      16281\n",
            "hours-per-week    16281\n",
            "native-country    16281\n",
            "income            16281\n",
            "dtype: int64 \n",
            "test_data total values: 16281\n"
          ],
          "name": "stdout"
        }
      ]
    },
    {
      "cell_type": "code",
      "metadata": {
        "id": "hPq5WiKtfUmQ",
        "colab_type": "code",
        "outputId": "a44f73f2-e450-4f05-e0f7-c863abb805e9",
        "colab": {
          "base_uri": "https://localhost:8080/",
          "height": 286
        }
      },
      "source": [
        "train_data.describe()"
      ],
      "execution_count": 0,
      "outputs": [
        {
          "output_type": "execute_result",
          "data": {
            "text/html": [
              "<div>\n",
              "<style scoped>\n",
              "    .dataframe tbody tr th:only-of-type {\n",
              "        vertical-align: middle;\n",
              "    }\n",
              "\n",
              "    .dataframe tbody tr th {\n",
              "        vertical-align: top;\n",
              "    }\n",
              "\n",
              "    .dataframe thead th {\n",
              "        text-align: right;\n",
              "    }\n",
              "</style>\n",
              "<table border=\"1\" class=\"dataframe\">\n",
              "  <thead>\n",
              "    <tr style=\"text-align: right;\">\n",
              "      <th></th>\n",
              "      <th>age</th>\n",
              "      <th>education-num</th>\n",
              "      <th>capital-gain</th>\n",
              "      <th>capital-loss</th>\n",
              "      <th>hours-per-week</th>\n",
              "      <th>income</th>\n",
              "    </tr>\n",
              "  </thead>\n",
              "  <tbody>\n",
              "    <tr>\n",
              "      <th>count</th>\n",
              "      <td>32561.000000</td>\n",
              "      <td>32561.000000</td>\n",
              "      <td>32561.000000</td>\n",
              "      <td>32561.000000</td>\n",
              "      <td>32561.000000</td>\n",
              "      <td>32561.000000</td>\n",
              "    </tr>\n",
              "    <tr>\n",
              "      <th>mean</th>\n",
              "      <td>38.581647</td>\n",
              "      <td>10.080679</td>\n",
              "      <td>1077.648844</td>\n",
              "      <td>87.303830</td>\n",
              "      <td>40.437456</td>\n",
              "      <td>0.759190</td>\n",
              "    </tr>\n",
              "    <tr>\n",
              "      <th>std</th>\n",
              "      <td>13.640433</td>\n",
              "      <td>2.572720</td>\n",
              "      <td>7385.292085</td>\n",
              "      <td>402.960219</td>\n",
              "      <td>12.347429</td>\n",
              "      <td>0.427581</td>\n",
              "    </tr>\n",
              "    <tr>\n",
              "      <th>min</th>\n",
              "      <td>17.000000</td>\n",
              "      <td>1.000000</td>\n",
              "      <td>0.000000</td>\n",
              "      <td>0.000000</td>\n",
              "      <td>1.000000</td>\n",
              "      <td>0.000000</td>\n",
              "    </tr>\n",
              "    <tr>\n",
              "      <th>25%</th>\n",
              "      <td>28.000000</td>\n",
              "      <td>9.000000</td>\n",
              "      <td>0.000000</td>\n",
              "      <td>0.000000</td>\n",
              "      <td>40.000000</td>\n",
              "      <td>1.000000</td>\n",
              "    </tr>\n",
              "    <tr>\n",
              "      <th>50%</th>\n",
              "      <td>37.000000</td>\n",
              "      <td>10.000000</td>\n",
              "      <td>0.000000</td>\n",
              "      <td>0.000000</td>\n",
              "      <td>40.000000</td>\n",
              "      <td>1.000000</td>\n",
              "    </tr>\n",
              "    <tr>\n",
              "      <th>75%</th>\n",
              "      <td>48.000000</td>\n",
              "      <td>12.000000</td>\n",
              "      <td>0.000000</td>\n",
              "      <td>0.000000</td>\n",
              "      <td>45.000000</td>\n",
              "      <td>1.000000</td>\n",
              "    </tr>\n",
              "    <tr>\n",
              "      <th>max</th>\n",
              "      <td>90.000000</td>\n",
              "      <td>16.000000</td>\n",
              "      <td>99999.000000</td>\n",
              "      <td>4356.000000</td>\n",
              "      <td>99.000000</td>\n",
              "      <td>1.000000</td>\n",
              "    </tr>\n",
              "  </tbody>\n",
              "</table>\n",
              "</div>"
            ],
            "text/plain": [
              "                age  education-num  ...  hours-per-week        income\n",
              "count  32561.000000   32561.000000  ...    32561.000000  32561.000000\n",
              "mean      38.581647      10.080679  ...       40.437456      0.759190\n",
              "std       13.640433       2.572720  ...       12.347429      0.427581\n",
              "min       17.000000       1.000000  ...        1.000000      0.000000\n",
              "25%       28.000000       9.000000  ...       40.000000      1.000000\n",
              "50%       37.000000      10.000000  ...       40.000000      1.000000\n",
              "75%       48.000000      12.000000  ...       45.000000      1.000000\n",
              "max       90.000000      16.000000  ...       99.000000      1.000000\n",
              "\n",
              "[8 rows x 6 columns]"
            ]
          },
          "metadata": {
            "tags": []
          },
          "execution_count": 24
        }
      ]
    },
    {
      "cell_type": "code",
      "metadata": {
        "id": "jTjsx4ogfmGA",
        "colab_type": "code",
        "outputId": "f6d11162-c242-4866-8228-2a6268b38bf6",
        "colab": {
          "base_uri": "https://localhost:8080/",
          "height": 286
        }
      },
      "source": [
        "test_data.describe()"
      ],
      "execution_count": 0,
      "outputs": [
        {
          "output_type": "execute_result",
          "data": {
            "text/html": [
              "<div>\n",
              "<style scoped>\n",
              "    .dataframe tbody tr th:only-of-type {\n",
              "        vertical-align: middle;\n",
              "    }\n",
              "\n",
              "    .dataframe tbody tr th {\n",
              "        vertical-align: top;\n",
              "    }\n",
              "\n",
              "    .dataframe thead th {\n",
              "        text-align: right;\n",
              "    }\n",
              "</style>\n",
              "<table border=\"1\" class=\"dataframe\">\n",
              "  <thead>\n",
              "    <tr style=\"text-align: right;\">\n",
              "      <th></th>\n",
              "      <th>education-num</th>\n",
              "      <th>capital-gain</th>\n",
              "      <th>capital-loss</th>\n",
              "      <th>hours-per-week</th>\n",
              "      <th>income</th>\n",
              "    </tr>\n",
              "  </thead>\n",
              "  <tbody>\n",
              "    <tr>\n",
              "      <th>count</th>\n",
              "      <td>16281.000000</td>\n",
              "      <td>16281.000000</td>\n",
              "      <td>16281.000000</td>\n",
              "      <td>16281.000000</td>\n",
              "      <td>16281.000000</td>\n",
              "    </tr>\n",
              "    <tr>\n",
              "      <th>mean</th>\n",
              "      <td>10.072907</td>\n",
              "      <td>1081.905104</td>\n",
              "      <td>87.899269</td>\n",
              "      <td>40.392236</td>\n",
              "      <td>0.763774</td>\n",
              "    </tr>\n",
              "    <tr>\n",
              "      <th>std</th>\n",
              "      <td>2.567545</td>\n",
              "      <td>7583.935968</td>\n",
              "      <td>403.105286</td>\n",
              "      <td>12.479332</td>\n",
              "      <td>0.424776</td>\n",
              "    </tr>\n",
              "    <tr>\n",
              "      <th>min</th>\n",
              "      <td>1.000000</td>\n",
              "      <td>0.000000</td>\n",
              "      <td>0.000000</td>\n",
              "      <td>1.000000</td>\n",
              "      <td>0.000000</td>\n",
              "    </tr>\n",
              "    <tr>\n",
              "      <th>25%</th>\n",
              "      <td>9.000000</td>\n",
              "      <td>0.000000</td>\n",
              "      <td>0.000000</td>\n",
              "      <td>40.000000</td>\n",
              "      <td>1.000000</td>\n",
              "    </tr>\n",
              "    <tr>\n",
              "      <th>50%</th>\n",
              "      <td>10.000000</td>\n",
              "      <td>0.000000</td>\n",
              "      <td>0.000000</td>\n",
              "      <td>40.000000</td>\n",
              "      <td>1.000000</td>\n",
              "    </tr>\n",
              "    <tr>\n",
              "      <th>75%</th>\n",
              "      <td>12.000000</td>\n",
              "      <td>0.000000</td>\n",
              "      <td>0.000000</td>\n",
              "      <td>45.000000</td>\n",
              "      <td>1.000000</td>\n",
              "    </tr>\n",
              "    <tr>\n",
              "      <th>max</th>\n",
              "      <td>16.000000</td>\n",
              "      <td>99999.000000</td>\n",
              "      <td>3770.000000</td>\n",
              "      <td>99.000000</td>\n",
              "      <td>1.000000</td>\n",
              "    </tr>\n",
              "  </tbody>\n",
              "</table>\n",
              "</div>"
            ],
            "text/plain": [
              "       education-num  capital-gain  capital-loss  hours-per-week        income\n",
              "count   16281.000000  16281.000000  16281.000000    16281.000000  16281.000000\n",
              "mean       10.072907   1081.905104     87.899269       40.392236      0.763774\n",
              "std         2.567545   7583.935968    403.105286       12.479332      0.424776\n",
              "min         1.000000      0.000000      0.000000        1.000000      0.000000\n",
              "25%         9.000000      0.000000      0.000000       40.000000      1.000000\n",
              "50%        10.000000      0.000000      0.000000       40.000000      1.000000\n",
              "75%        12.000000      0.000000      0.000000       45.000000      1.000000\n",
              "max        16.000000  99999.000000   3770.000000       99.000000      1.000000"
            ]
          },
          "metadata": {
            "tags": []
          },
          "execution_count": 25
        }
      ]
    },
    {
      "cell_type": "markdown",
      "metadata": {
        "id": "Dc1CfXpSGX-r",
        "colab_type": "text"
      },
      "source": [
        "We also notice that the column age, which supposed to be numeric, is not numeric since it does not appear in describe() of test_data. \n",
        "\n",
        "**7-Change type of this column to integer in test_data.**"
      ]
    },
    {
      "cell_type": "code",
      "metadata": {
        "id": "-Yexydn6Gq3E",
        "colab_type": "code",
        "outputId": "713436d1-5fcb-417f-8c27-40be60b6abe8",
        "colab": {
          "base_uri": "https://localhost:8080/",
          "height": 286
        }
      },
      "source": [
        "test_data[\"age\"] = test_data[\"age\"].astype(int)\n",
        "test_data.describe()"
      ],
      "execution_count": 0,
      "outputs": [
        {
          "output_type": "execute_result",
          "data": {
            "text/html": [
              "<div>\n",
              "<style scoped>\n",
              "    .dataframe tbody tr th:only-of-type {\n",
              "        vertical-align: middle;\n",
              "    }\n",
              "\n",
              "    .dataframe tbody tr th {\n",
              "        vertical-align: top;\n",
              "    }\n",
              "\n",
              "    .dataframe thead th {\n",
              "        text-align: right;\n",
              "    }\n",
              "</style>\n",
              "<table border=\"1\" class=\"dataframe\">\n",
              "  <thead>\n",
              "    <tr style=\"text-align: right;\">\n",
              "      <th></th>\n",
              "      <th>age</th>\n",
              "      <th>education-num</th>\n",
              "      <th>capital-gain</th>\n",
              "      <th>capital-loss</th>\n",
              "      <th>hours-per-week</th>\n",
              "      <th>income</th>\n",
              "    </tr>\n",
              "  </thead>\n",
              "  <tbody>\n",
              "    <tr>\n",
              "      <th>count</th>\n",
              "      <td>16281.000000</td>\n",
              "      <td>16281.000000</td>\n",
              "      <td>16281.000000</td>\n",
              "      <td>16281.000000</td>\n",
              "      <td>16281.000000</td>\n",
              "      <td>16281.000000</td>\n",
              "    </tr>\n",
              "    <tr>\n",
              "      <th>mean</th>\n",
              "      <td>38.767459</td>\n",
              "      <td>10.072907</td>\n",
              "      <td>1081.905104</td>\n",
              "      <td>87.899269</td>\n",
              "      <td>40.392236</td>\n",
              "      <td>0.763774</td>\n",
              "    </tr>\n",
              "    <tr>\n",
              "      <th>std</th>\n",
              "      <td>13.849187</td>\n",
              "      <td>2.567545</td>\n",
              "      <td>7583.935968</td>\n",
              "      <td>403.105286</td>\n",
              "      <td>12.479332</td>\n",
              "      <td>0.424776</td>\n",
              "    </tr>\n",
              "    <tr>\n",
              "      <th>min</th>\n",
              "      <td>17.000000</td>\n",
              "      <td>1.000000</td>\n",
              "      <td>0.000000</td>\n",
              "      <td>0.000000</td>\n",
              "      <td>1.000000</td>\n",
              "      <td>0.000000</td>\n",
              "    </tr>\n",
              "    <tr>\n",
              "      <th>25%</th>\n",
              "      <td>28.000000</td>\n",
              "      <td>9.000000</td>\n",
              "      <td>0.000000</td>\n",
              "      <td>0.000000</td>\n",
              "      <td>40.000000</td>\n",
              "      <td>1.000000</td>\n",
              "    </tr>\n",
              "    <tr>\n",
              "      <th>50%</th>\n",
              "      <td>37.000000</td>\n",
              "      <td>10.000000</td>\n",
              "      <td>0.000000</td>\n",
              "      <td>0.000000</td>\n",
              "      <td>40.000000</td>\n",
              "      <td>1.000000</td>\n",
              "    </tr>\n",
              "    <tr>\n",
              "      <th>75%</th>\n",
              "      <td>48.000000</td>\n",
              "      <td>12.000000</td>\n",
              "      <td>0.000000</td>\n",
              "      <td>0.000000</td>\n",
              "      <td>45.000000</td>\n",
              "      <td>1.000000</td>\n",
              "    </tr>\n",
              "    <tr>\n",
              "      <th>max</th>\n",
              "      <td>90.000000</td>\n",
              "      <td>16.000000</td>\n",
              "      <td>99999.000000</td>\n",
              "      <td>3770.000000</td>\n",
              "      <td>99.000000</td>\n",
              "      <td>1.000000</td>\n",
              "    </tr>\n",
              "  </tbody>\n",
              "</table>\n",
              "</div>"
            ],
            "text/plain": [
              "                age  education-num  ...  hours-per-week        income\n",
              "count  16281.000000   16281.000000  ...    16281.000000  16281.000000\n",
              "mean      38.767459      10.072907  ...       40.392236      0.763774\n",
              "std       13.849187       2.567545  ...       12.479332      0.424776\n",
              "min       17.000000       1.000000  ...        1.000000      0.000000\n",
              "25%       28.000000       9.000000  ...       40.000000      1.000000\n",
              "50%       37.000000      10.000000  ...       40.000000      1.000000\n",
              "75%       48.000000      12.000000  ...       45.000000      1.000000\n",
              "max       90.000000      16.000000  ...       99.000000      1.000000\n",
              "\n",
              "[8 rows x 6 columns]"
            ]
          },
          "metadata": {
            "tags": []
          },
          "execution_count": 26
        }
      ]
    },
    {
      "cell_type": "markdown",
      "metadata": {
        "id": "akirGcE4vxxs",
        "colab_type": "text"
      },
      "source": [
        "We have finished data cleaning we can move to prepare data for the model.\n",
        "\n",
        "**8- Split train dataset into x_train  and y_train where y_train contains the income and x_train all the other columns.** "
      ]
    },
    {
      "cell_type": "code",
      "metadata": {
        "id": "1kxG2nlfyPDb",
        "colab_type": "code",
        "outputId": "56de42cf-385c-4e27-8771-3f15f52dd058",
        "colab": {
          "base_uri": "https://localhost:8080/",
          "height": 214
        }
      },
      "source": [
        "x_train = train_data.iloc[:,:-1]\n",
        "print(x_train.shape)\n",
        "x_train.head()"
      ],
      "execution_count": 0,
      "outputs": [
        {
          "output_type": "stream",
          "text": [
            "(32561, 12)\n"
          ],
          "name": "stdout"
        },
        {
          "output_type": "execute_result",
          "data": {
            "text/html": [
              "<div>\n",
              "<style scoped>\n",
              "    .dataframe tbody tr th:only-of-type {\n",
              "        vertical-align: middle;\n",
              "    }\n",
              "\n",
              "    .dataframe tbody tr th {\n",
              "        vertical-align: top;\n",
              "    }\n",
              "\n",
              "    .dataframe thead th {\n",
              "        text-align: right;\n",
              "    }\n",
              "</style>\n",
              "<table border=\"1\" class=\"dataframe\">\n",
              "  <thead>\n",
              "    <tr style=\"text-align: right;\">\n",
              "      <th></th>\n",
              "      <th>age</th>\n",
              "      <th>workclass</th>\n",
              "      <th>education-num</th>\n",
              "      <th>marital-status</th>\n",
              "      <th>occupation</th>\n",
              "      <th>relationship</th>\n",
              "      <th>race</th>\n",
              "      <th>sex</th>\n",
              "      <th>capital-gain</th>\n",
              "      <th>capital-loss</th>\n",
              "      <th>hours-per-week</th>\n",
              "      <th>native-country</th>\n",
              "    </tr>\n",
              "  </thead>\n",
              "  <tbody>\n",
              "    <tr>\n",
              "      <th>0</th>\n",
              "      <td>39</td>\n",
              "      <td>State-gov</td>\n",
              "      <td>13</td>\n",
              "      <td>Never-married</td>\n",
              "      <td>Adm-clerical</td>\n",
              "      <td>Not-in-family</td>\n",
              "      <td>White</td>\n",
              "      <td>Male</td>\n",
              "      <td>2174</td>\n",
              "      <td>0</td>\n",
              "      <td>40</td>\n",
              "      <td>United-States</td>\n",
              "    </tr>\n",
              "    <tr>\n",
              "      <th>1</th>\n",
              "      <td>50</td>\n",
              "      <td>Self-emp-not-inc</td>\n",
              "      <td>13</td>\n",
              "      <td>Married-civ-spouse</td>\n",
              "      <td>Exec-managerial</td>\n",
              "      <td>Husband</td>\n",
              "      <td>White</td>\n",
              "      <td>Male</td>\n",
              "      <td>0</td>\n",
              "      <td>0</td>\n",
              "      <td>13</td>\n",
              "      <td>United-States</td>\n",
              "    </tr>\n",
              "    <tr>\n",
              "      <th>2</th>\n",
              "      <td>38</td>\n",
              "      <td>Private</td>\n",
              "      <td>9</td>\n",
              "      <td>Divorced</td>\n",
              "      <td>Handlers-cleaners</td>\n",
              "      <td>Not-in-family</td>\n",
              "      <td>White</td>\n",
              "      <td>Male</td>\n",
              "      <td>0</td>\n",
              "      <td>0</td>\n",
              "      <td>40</td>\n",
              "      <td>United-States</td>\n",
              "    </tr>\n",
              "    <tr>\n",
              "      <th>3</th>\n",
              "      <td>53</td>\n",
              "      <td>Private</td>\n",
              "      <td>7</td>\n",
              "      <td>Married-civ-spouse</td>\n",
              "      <td>Handlers-cleaners</td>\n",
              "      <td>Husband</td>\n",
              "      <td>Black</td>\n",
              "      <td>Male</td>\n",
              "      <td>0</td>\n",
              "      <td>0</td>\n",
              "      <td>40</td>\n",
              "      <td>United-States</td>\n",
              "    </tr>\n",
              "    <tr>\n",
              "      <th>4</th>\n",
              "      <td>28</td>\n",
              "      <td>Private</td>\n",
              "      <td>13</td>\n",
              "      <td>Married-civ-spouse</td>\n",
              "      <td>Prof-specialty</td>\n",
              "      <td>Wife</td>\n",
              "      <td>Black</td>\n",
              "      <td>Female</td>\n",
              "      <td>0</td>\n",
              "      <td>0</td>\n",
              "      <td>40</td>\n",
              "      <td>Cuba</td>\n",
              "    </tr>\n",
              "  </tbody>\n",
              "</table>\n",
              "</div>"
            ],
            "text/plain": [
              "   age          workclass  ...  hours-per-week  native-country\n",
              "0   39          State-gov  ...              40   United-States\n",
              "1   50   Self-emp-not-inc  ...              13   United-States\n",
              "2   38            Private  ...              40   United-States\n",
              "3   53            Private  ...              40   United-States\n",
              "4   28            Private  ...              40            Cuba\n",
              "\n",
              "[5 rows x 12 columns]"
            ]
          },
          "metadata": {
            "tags": []
          },
          "execution_count": 27
        }
      ]
    },
    {
      "cell_type": "code",
      "metadata": {
        "id": "wPIXEWbcy-FW",
        "colab_type": "code",
        "outputId": "376b8802-3e54-408d-ba75-e85a6c09b01d",
        "colab": {
          "base_uri": "https://localhost:8080/",
          "height": 136
        }
      },
      "source": [
        "y_train = train_data['income']\n",
        "print(y_train.shape)\n",
        "y_train.head()"
      ],
      "execution_count": 0,
      "outputs": [
        {
          "output_type": "stream",
          "text": [
            "(32561,)\n"
          ],
          "name": "stdout"
        },
        {
          "output_type": "execute_result",
          "data": {
            "text/plain": [
              "0    1\n",
              "1    1\n",
              "2    1\n",
              "3    1\n",
              "4    1\n",
              "Name: income, dtype: int64"
            ]
          },
          "metadata": {
            "tags": []
          },
          "execution_count": 28
        }
      ]
    },
    {
      "cell_type": "markdown",
      "metadata": {
        "id": "xcTwQD4E4AZS",
        "colab_type": "text"
      },
      "source": [
        "**9-Do the same thing to the test data.**"
      ]
    },
    {
      "cell_type": "code",
      "metadata": {
        "id": "1ZM18YlJ4FVM",
        "colab_type": "code",
        "outputId": "c0ae67c4-ae65-4c58-bcda-7b855b92179b",
        "colab": {
          "base_uri": "https://localhost:8080/",
          "height": 51
        }
      },
      "source": [
        "x_test = test_data.iloc[:,:-1]\n",
        "y_test = test_data['income']\n",
        "print(x_test.shape)\n",
        "print(y_test.shape)"
      ],
      "execution_count": 0,
      "outputs": [
        {
          "output_type": "stream",
          "text": [
            "(16281, 12)\n",
            "(16281,)\n"
          ],
          "name": "stdout"
        }
      ]
    },
    {
      "cell_type": "markdown",
      "metadata": {
        "id": "57P7NAdEzHYT",
        "colab_type": "text"
      },
      "source": [
        "**10-Try to build a a simple tree using  DecisionTreeClassifier from sklearn.tree and fit it on training data.**\n",
        "\n",
        "\n"
      ]
    },
    {
      "cell_type": "code",
      "metadata": {
        "id": "uACgW3CQzYo6",
        "colab_type": "code",
        "outputId": "97aadc89-a95c-4005-cbf9-d7357cb7ae6f",
        "colab": {
          "base_uri": "https://localhost:8080/",
          "height": 340
        }
      },
      "source": [
        "from sklearn.tree import DecisionTreeClassifier\n",
        "clf = DecisionTreeClassifier()\n",
        "clf = clf.fit(x_train, y_train)"
      ],
      "execution_count": 0,
      "outputs": [
        {
          "output_type": "error",
          "ename": "ValueError",
          "evalue": "ignored",
          "traceback": [
            "\u001b[0;31m---------------------------------------------------------------------------\u001b[0m",
            "\u001b[0;31mValueError\u001b[0m                                Traceback (most recent call last)",
            "\u001b[0;32m<ipython-input-30-c8fa4831d8fe>\u001b[0m in \u001b[0;36m<module>\u001b[0;34m()\u001b[0m\n\u001b[1;32m      1\u001b[0m \u001b[0;32mfrom\u001b[0m \u001b[0msklearn\u001b[0m\u001b[0;34m.\u001b[0m\u001b[0mtree\u001b[0m \u001b[0;32mimport\u001b[0m \u001b[0mDecisionTreeClassifier\u001b[0m\u001b[0;34m\u001b[0m\u001b[0;34m\u001b[0m\u001b[0m\n\u001b[1;32m      2\u001b[0m \u001b[0mclf\u001b[0m \u001b[0;34m=\u001b[0m \u001b[0mDecisionTreeClassifier\u001b[0m\u001b[0;34m(\u001b[0m\u001b[0;34m)\u001b[0m\u001b[0;34m\u001b[0m\u001b[0;34m\u001b[0m\u001b[0m\n\u001b[0;32m----> 3\u001b[0;31m \u001b[0mclf\u001b[0m \u001b[0;34m=\u001b[0m \u001b[0mclf\u001b[0m\u001b[0;34m.\u001b[0m\u001b[0mfit\u001b[0m\u001b[0;34m(\u001b[0m\u001b[0mx_train\u001b[0m\u001b[0;34m,\u001b[0m \u001b[0my_train\u001b[0m\u001b[0;34m)\u001b[0m\u001b[0;34m\u001b[0m\u001b[0;34m\u001b[0m\u001b[0m\n\u001b[0m",
            "\u001b[0;32m/usr/local/lib/python3.6/dist-packages/sklearn/tree/tree.py\u001b[0m in \u001b[0;36mfit\u001b[0;34m(self, X, y, sample_weight, check_input, X_idx_sorted)\u001b[0m\n\u001b[1;32m    814\u001b[0m             \u001b[0msample_weight\u001b[0m\u001b[0;34m=\u001b[0m\u001b[0msample_weight\u001b[0m\u001b[0;34m,\u001b[0m\u001b[0;34m\u001b[0m\u001b[0;34m\u001b[0m\u001b[0m\n\u001b[1;32m    815\u001b[0m             \u001b[0mcheck_input\u001b[0m\u001b[0;34m=\u001b[0m\u001b[0mcheck_input\u001b[0m\u001b[0;34m,\u001b[0m\u001b[0;34m\u001b[0m\u001b[0;34m\u001b[0m\u001b[0m\n\u001b[0;32m--> 816\u001b[0;31m             X_idx_sorted=X_idx_sorted)\n\u001b[0m\u001b[1;32m    817\u001b[0m         \u001b[0;32mreturn\u001b[0m \u001b[0mself\u001b[0m\u001b[0;34m\u001b[0m\u001b[0;34m\u001b[0m\u001b[0m\n\u001b[1;32m    818\u001b[0m \u001b[0;34m\u001b[0m\u001b[0m\n",
            "\u001b[0;32m/usr/local/lib/python3.6/dist-packages/sklearn/tree/tree.py\u001b[0m in \u001b[0;36mfit\u001b[0;34m(self, X, y, sample_weight, check_input, X_idx_sorted)\u001b[0m\n\u001b[1;32m    128\u001b[0m         \u001b[0mrandom_state\u001b[0m \u001b[0;34m=\u001b[0m \u001b[0mcheck_random_state\u001b[0m\u001b[0;34m(\u001b[0m\u001b[0mself\u001b[0m\u001b[0;34m.\u001b[0m\u001b[0mrandom_state\u001b[0m\u001b[0;34m)\u001b[0m\u001b[0;34m\u001b[0m\u001b[0;34m\u001b[0m\u001b[0m\n\u001b[1;32m    129\u001b[0m         \u001b[0;32mif\u001b[0m \u001b[0mcheck_input\u001b[0m\u001b[0;34m:\u001b[0m\u001b[0;34m\u001b[0m\u001b[0;34m\u001b[0m\u001b[0m\n\u001b[0;32m--> 130\u001b[0;31m             \u001b[0mX\u001b[0m \u001b[0;34m=\u001b[0m \u001b[0mcheck_array\u001b[0m\u001b[0;34m(\u001b[0m\u001b[0mX\u001b[0m\u001b[0;34m,\u001b[0m \u001b[0mdtype\u001b[0m\u001b[0;34m=\u001b[0m\u001b[0mDTYPE\u001b[0m\u001b[0;34m,\u001b[0m \u001b[0maccept_sparse\u001b[0m\u001b[0;34m=\u001b[0m\u001b[0;34m\"csc\"\u001b[0m\u001b[0;34m)\u001b[0m\u001b[0;34m\u001b[0m\u001b[0;34m\u001b[0m\u001b[0m\n\u001b[0m\u001b[1;32m    131\u001b[0m             \u001b[0my\u001b[0m \u001b[0;34m=\u001b[0m \u001b[0mcheck_array\u001b[0m\u001b[0;34m(\u001b[0m\u001b[0my\u001b[0m\u001b[0;34m,\u001b[0m \u001b[0mensure_2d\u001b[0m\u001b[0;34m=\u001b[0m\u001b[0;32mFalse\u001b[0m\u001b[0;34m,\u001b[0m \u001b[0mdtype\u001b[0m\u001b[0;34m=\u001b[0m\u001b[0;32mNone\u001b[0m\u001b[0;34m)\u001b[0m\u001b[0;34m\u001b[0m\u001b[0;34m\u001b[0m\u001b[0m\n\u001b[1;32m    132\u001b[0m             \u001b[0;32mif\u001b[0m \u001b[0missparse\u001b[0m\u001b[0;34m(\u001b[0m\u001b[0mX\u001b[0m\u001b[0;34m)\u001b[0m\u001b[0;34m:\u001b[0m\u001b[0;34m\u001b[0m\u001b[0;34m\u001b[0m\u001b[0m\n",
            "\u001b[0;32m/usr/local/lib/python3.6/dist-packages/sklearn/utils/validation.py\u001b[0m in \u001b[0;36mcheck_array\u001b[0;34m(array, accept_sparse, accept_large_sparse, dtype, order, copy, force_all_finite, ensure_2d, allow_nd, ensure_min_samples, ensure_min_features, warn_on_dtype, estimator)\u001b[0m\n\u001b[1;32m    494\u001b[0m             \u001b[0;32mtry\u001b[0m\u001b[0;34m:\u001b[0m\u001b[0;34m\u001b[0m\u001b[0;34m\u001b[0m\u001b[0m\n\u001b[1;32m    495\u001b[0m                 \u001b[0mwarnings\u001b[0m\u001b[0;34m.\u001b[0m\u001b[0msimplefilter\u001b[0m\u001b[0;34m(\u001b[0m\u001b[0;34m'error'\u001b[0m\u001b[0;34m,\u001b[0m \u001b[0mComplexWarning\u001b[0m\u001b[0;34m)\u001b[0m\u001b[0;34m\u001b[0m\u001b[0;34m\u001b[0m\u001b[0m\n\u001b[0;32m--> 496\u001b[0;31m                 \u001b[0marray\u001b[0m \u001b[0;34m=\u001b[0m \u001b[0mnp\u001b[0m\u001b[0;34m.\u001b[0m\u001b[0masarray\u001b[0m\u001b[0;34m(\u001b[0m\u001b[0marray\u001b[0m\u001b[0;34m,\u001b[0m \u001b[0mdtype\u001b[0m\u001b[0;34m=\u001b[0m\u001b[0mdtype\u001b[0m\u001b[0;34m,\u001b[0m \u001b[0morder\u001b[0m\u001b[0;34m=\u001b[0m\u001b[0morder\u001b[0m\u001b[0;34m)\u001b[0m\u001b[0;34m\u001b[0m\u001b[0;34m\u001b[0m\u001b[0m\n\u001b[0m\u001b[1;32m    497\u001b[0m             \u001b[0;32mexcept\u001b[0m \u001b[0mComplexWarning\u001b[0m\u001b[0;34m:\u001b[0m\u001b[0;34m\u001b[0m\u001b[0;34m\u001b[0m\u001b[0m\n\u001b[1;32m    498\u001b[0m                 raise ValueError(\"Complex data not supported\\n\"\n",
            "\u001b[0;32m/usr/local/lib/python3.6/dist-packages/numpy/core/_asarray.py\u001b[0m in \u001b[0;36masarray\u001b[0;34m(a, dtype, order)\u001b[0m\n\u001b[1;32m     83\u001b[0m \u001b[0;34m\u001b[0m\u001b[0m\n\u001b[1;32m     84\u001b[0m     \"\"\"\n\u001b[0;32m---> 85\u001b[0;31m     \u001b[0;32mreturn\u001b[0m \u001b[0marray\u001b[0m\u001b[0;34m(\u001b[0m\u001b[0ma\u001b[0m\u001b[0;34m,\u001b[0m \u001b[0mdtype\u001b[0m\u001b[0;34m,\u001b[0m \u001b[0mcopy\u001b[0m\u001b[0;34m=\u001b[0m\u001b[0;32mFalse\u001b[0m\u001b[0;34m,\u001b[0m \u001b[0morder\u001b[0m\u001b[0;34m=\u001b[0m\u001b[0morder\u001b[0m\u001b[0;34m)\u001b[0m\u001b[0;34m\u001b[0m\u001b[0;34m\u001b[0m\u001b[0m\n\u001b[0m\u001b[1;32m     86\u001b[0m \u001b[0;34m\u001b[0m\u001b[0m\n\u001b[1;32m     87\u001b[0m \u001b[0;34m\u001b[0m\u001b[0m\n",
            "\u001b[0;31mValueError\u001b[0m: could not convert string to float: ' State-gov'"
          ]
        }
      ]
    },
    {
      "cell_type": "markdown",
      "metadata": {
        "id": "feMSVDMqzeQ9",
        "colab_type": "text"
      },
      "source": [
        "**11-What is the issue you have encounetered?**\n",
        "\n",
        "\n",
        "\n"
      ]
    },
    {
      "cell_type": "markdown",
      "metadata": {
        "id": "VzxKD4I3lfat",
        "colab_type": "text"
      },
      "source": [
        "<font color='green'>When we try to fit our model, we get an error \"\n",
        "ValueError: could not convert string to float: ' State-gov'\".\\\n",
        "This error is because fit() does not accept Strings. In its documentation, we can see that the training input samples will be converted internally into dtype=np.float32.\\\n",
        "\\\n",
        "So we have to do some encoding before using fit.\\\n",
        "There are several classes that can be used :\n",
        "\n",
        "*  **LabelEncoder** : turn the string into incremental value\n",
        "*  **OneHotEncoder** : use One-of-K algorithm to transform the string into integer\n",
        "</font>"
      ]
    },
    {
      "cell_type": "markdown",
      "metadata": {
        "id": "I-0bXHQGHw6w",
        "colab_type": "text"
      },
      "source": [
        "We are going to test two types of encoders: \n",
        "\n",
        "Label encoder: counts the number (n) of categories we have and then encodes each one of the different possible values with a number between 0 and n-1. \n",
        "This encoder only replaces the original with the encoded data. So the dimension of the data is not changed. \n",
        "\n",
        "Example: \n",
        "\n",
        "We will apply a label encoder!to a list: [\"a\", \"b\", \"b\", \"a\", \"c\"]"
      ]
    },
    {
      "cell_type": "code",
      "metadata": {
        "id": "9CLlB8oAz_9U",
        "colab_type": "code",
        "outputId": "1aa33f4a-4b88-4ea7-ce72-5ae8340dfb2f",
        "colab": {
          "base_uri": "https://localhost:8080/",
          "height": 51
        }
      },
      "source": [
        "from sklearn.preprocessing import LabelEncoder \n",
        "le = LabelEncoder()\n",
        "l = [\"a\", \"b\", \"b\", \"a\", \"c\" ]\n",
        "# We first fit the model to recognize the classes \n",
        "le.fit(l)\n",
        "print(\"The classes are:\", le.classes_)\n",
        "# After fitting the encoder we use it to transform the data \n",
        "le.transform(l)"
      ],
      "execution_count": 0,
      "outputs": [
        {
          "output_type": "stream",
          "text": [
            "The classes are: ['a' 'b' 'c']\n"
          ],
          "name": "stdout"
        },
        {
          "output_type": "execute_result",
          "data": {
            "text/plain": [
              "array([0, 1, 1, 0, 2])"
            ]
          },
          "metadata": {
            "tags": []
          },
          "execution_count": 31
        }
      ]
    },
    {
      "cell_type": "markdown",
      "metadata": {
        "id": "AeZ1JuKAWfpO",
        "colab_type": "text"
      },
      "source": [
        "A second famous encoder is One Hot encoder: \n",
        "\n",
        "For a givern categorical column every possible value results in a new column. Then, for each row, we put 1 in the column with the name of the category value we have and 0 in the others. \n",
        "\n",
        "We generally have 2 choices to proceed with this type of encoding: \n",
        "\n",
        "*   OneHotEncoder from sklearn.preprocessing\n",
        "*   get_dummies() function from pandas\n",
        "\n",
        "Using the first option creates additional complications when we have both categorical and non categorical variables in our dataset, which is the case here. That's why it is prefereable to use get_dummies. \n",
        "\n",
        "\n",
        "Example: \n",
        "\n",
        "We will apply One Hot encoder to the same list:  [\"a\", \"b\", \"b\", \"a\", \"c\" ]"
      ]
    },
    {
      "cell_type": "code",
      "metadata": {
        "id": "gZpbgj71ZGT2",
        "colab_type": "code",
        "outputId": "ece41418-9226-450d-ba27-34c7acad9252",
        "colab": {
          "base_uri": "https://localhost:8080/",
          "height": 197
        }
      },
      "source": [
        "l = [\"a\", \"b\", \"b\", \"a\", \"c\" ]\n",
        "pd.get_dummies(l)"
      ],
      "execution_count": 0,
      "outputs": [
        {
          "output_type": "execute_result",
          "data": {
            "text/html": [
              "<div>\n",
              "<style scoped>\n",
              "    .dataframe tbody tr th:only-of-type {\n",
              "        vertical-align: middle;\n",
              "    }\n",
              "\n",
              "    .dataframe tbody tr th {\n",
              "        vertical-align: top;\n",
              "    }\n",
              "\n",
              "    .dataframe thead th {\n",
              "        text-align: right;\n",
              "    }\n",
              "</style>\n",
              "<table border=\"1\" class=\"dataframe\">\n",
              "  <thead>\n",
              "    <tr style=\"text-align: right;\">\n",
              "      <th></th>\n",
              "      <th>a</th>\n",
              "      <th>b</th>\n",
              "      <th>c</th>\n",
              "    </tr>\n",
              "  </thead>\n",
              "  <tbody>\n",
              "    <tr>\n",
              "      <th>0</th>\n",
              "      <td>1</td>\n",
              "      <td>0</td>\n",
              "      <td>0</td>\n",
              "    </tr>\n",
              "    <tr>\n",
              "      <th>1</th>\n",
              "      <td>0</td>\n",
              "      <td>1</td>\n",
              "      <td>0</td>\n",
              "    </tr>\n",
              "    <tr>\n",
              "      <th>2</th>\n",
              "      <td>0</td>\n",
              "      <td>1</td>\n",
              "      <td>0</td>\n",
              "    </tr>\n",
              "    <tr>\n",
              "      <th>3</th>\n",
              "      <td>1</td>\n",
              "      <td>0</td>\n",
              "      <td>0</td>\n",
              "    </tr>\n",
              "    <tr>\n",
              "      <th>4</th>\n",
              "      <td>0</td>\n",
              "      <td>0</td>\n",
              "      <td>1</td>\n",
              "    </tr>\n",
              "  </tbody>\n",
              "</table>\n",
              "</div>"
            ],
            "text/plain": [
              "   a  b  c\n",
              "0  1  0  0\n",
              "1  0  1  0\n",
              "2  0  1  0\n",
              "3  1  0  0\n",
              "4  0  0  1"
            ]
          },
          "metadata": {
            "tags": []
          },
          "execution_count": 32
        }
      ]
    },
    {
      "cell_type": "markdown",
      "metadata": {
        "id": "SIlLJdo7qM6n",
        "colab_type": "text"
      },
      "source": [
        "For the information there is also the get_dummies() function from pandas library that provides one hot encoding. It is slightly different in handling some cases, that's why we prefer to use the first method."
      ]
    },
    {
      "cell_type": "markdown",
      "metadata": {
        "id": "sGcJBakH5QTJ",
        "colab_type": "text"
      },
      "source": [
        "## Building model\n",
        "\n",
        "We have seen that we have to encode the data before training the model.  \n",
        "We will define 2 models: one with label encoding and another with one hot encoding.\n",
        "\n",
        "### Using label encoding\n",
        "\n",
        "Encode train and test data.\n",
        "\n",
        "First we will combine train and test data to fit the encoder (otherwise we would have problems transforming data because of eventual unrecognized categories) \n",
        " \n",
        "\n",
        "**12-Concatenate training and test data and make sure there are no problems.**"
      ]
    },
    {
      "cell_type": "code",
      "metadata": {
        "id": "8GN1CgXZbXg8",
        "colab_type": "code",
        "outputId": "044ccb57-228d-4b0e-b58c-36140b62df7a",
        "colab": {
          "base_uri": "https://localhost:8080/",
          "height": 214
        }
      },
      "source": [
        "from sklearn.preprocessing import LabelEncoder\n",
        "\n",
        "le = LabelEncoder()\n",
        "combined_data = pd.concat([x_train,x_test])\n",
        "print(\"combined_data shape:\", combined_data.shape)\n",
        "combined_data.head()"
      ],
      "execution_count": 0,
      "outputs": [
        {
          "output_type": "stream",
          "text": [
            "combined_data shape: (48842, 12)\n"
          ],
          "name": "stdout"
        },
        {
          "output_type": "execute_result",
          "data": {
            "text/html": [
              "<div>\n",
              "<style scoped>\n",
              "    .dataframe tbody tr th:only-of-type {\n",
              "        vertical-align: middle;\n",
              "    }\n",
              "\n",
              "    .dataframe tbody tr th {\n",
              "        vertical-align: top;\n",
              "    }\n",
              "\n",
              "    .dataframe thead th {\n",
              "        text-align: right;\n",
              "    }\n",
              "</style>\n",
              "<table border=\"1\" class=\"dataframe\">\n",
              "  <thead>\n",
              "    <tr style=\"text-align: right;\">\n",
              "      <th></th>\n",
              "      <th>age</th>\n",
              "      <th>workclass</th>\n",
              "      <th>education-num</th>\n",
              "      <th>marital-status</th>\n",
              "      <th>occupation</th>\n",
              "      <th>relationship</th>\n",
              "      <th>race</th>\n",
              "      <th>sex</th>\n",
              "      <th>capital-gain</th>\n",
              "      <th>capital-loss</th>\n",
              "      <th>hours-per-week</th>\n",
              "      <th>native-country</th>\n",
              "    </tr>\n",
              "  </thead>\n",
              "  <tbody>\n",
              "    <tr>\n",
              "      <th>0</th>\n",
              "      <td>39</td>\n",
              "      <td>State-gov</td>\n",
              "      <td>13.0</td>\n",
              "      <td>Never-married</td>\n",
              "      <td>Adm-clerical</td>\n",
              "      <td>Not-in-family</td>\n",
              "      <td>White</td>\n",
              "      <td>Male</td>\n",
              "      <td>2174.0</td>\n",
              "      <td>0.0</td>\n",
              "      <td>40.0</td>\n",
              "      <td>United-States</td>\n",
              "    </tr>\n",
              "    <tr>\n",
              "      <th>1</th>\n",
              "      <td>50</td>\n",
              "      <td>Self-emp-not-inc</td>\n",
              "      <td>13.0</td>\n",
              "      <td>Married-civ-spouse</td>\n",
              "      <td>Exec-managerial</td>\n",
              "      <td>Husband</td>\n",
              "      <td>White</td>\n",
              "      <td>Male</td>\n",
              "      <td>0.0</td>\n",
              "      <td>0.0</td>\n",
              "      <td>13.0</td>\n",
              "      <td>United-States</td>\n",
              "    </tr>\n",
              "    <tr>\n",
              "      <th>2</th>\n",
              "      <td>38</td>\n",
              "      <td>Private</td>\n",
              "      <td>9.0</td>\n",
              "      <td>Divorced</td>\n",
              "      <td>Handlers-cleaners</td>\n",
              "      <td>Not-in-family</td>\n",
              "      <td>White</td>\n",
              "      <td>Male</td>\n",
              "      <td>0.0</td>\n",
              "      <td>0.0</td>\n",
              "      <td>40.0</td>\n",
              "      <td>United-States</td>\n",
              "    </tr>\n",
              "    <tr>\n",
              "      <th>3</th>\n",
              "      <td>53</td>\n",
              "      <td>Private</td>\n",
              "      <td>7.0</td>\n",
              "      <td>Married-civ-spouse</td>\n",
              "      <td>Handlers-cleaners</td>\n",
              "      <td>Husband</td>\n",
              "      <td>Black</td>\n",
              "      <td>Male</td>\n",
              "      <td>0.0</td>\n",
              "      <td>0.0</td>\n",
              "      <td>40.0</td>\n",
              "      <td>United-States</td>\n",
              "    </tr>\n",
              "    <tr>\n",
              "      <th>4</th>\n",
              "      <td>28</td>\n",
              "      <td>Private</td>\n",
              "      <td>13.0</td>\n",
              "      <td>Married-civ-spouse</td>\n",
              "      <td>Prof-specialty</td>\n",
              "      <td>Wife</td>\n",
              "      <td>Black</td>\n",
              "      <td>Female</td>\n",
              "      <td>0.0</td>\n",
              "      <td>0.0</td>\n",
              "      <td>40.0</td>\n",
              "      <td>Cuba</td>\n",
              "    </tr>\n",
              "  </tbody>\n",
              "</table>\n",
              "</div>"
            ],
            "text/plain": [
              "   age          workclass  ...  hours-per-week  native-country\n",
              "0   39          State-gov  ...            40.0   United-States\n",
              "1   50   Self-emp-not-inc  ...            13.0   United-States\n",
              "2   38            Private  ...            40.0   United-States\n",
              "3   53            Private  ...            40.0   United-States\n",
              "4   28            Private  ...            40.0            Cuba\n",
              "\n",
              "[5 rows x 12 columns]"
            ]
          },
          "metadata": {
            "tags": []
          },
          "execution_count": 33
        }
      ]
    },
    {
      "cell_type": "markdown",
      "metadata": {
        "id": "PS9hh9HyIXuV",
        "colab_type": "text"
      },
      "source": [
        "**13- Apply label encoding to combined data.** \n",
        "\n",
        "To avoid having to encode each column independently, dataframe.apply() as indicated after."
      ]
    },
    {
      "cell_type": "code",
      "metadata": {
        "id": "_I8bxINQIqzC",
        "colab_type": "code",
        "outputId": "2563f198-2547-4989-c97a-5cc982a7f8c3",
        "colab": {
          "base_uri": "https://localhost:8080/",
          "height": 286
        }
      },
      "source": [
        "encoded_combined_data = combined_data.copy()\n",
        "encoded_combined_data[[\"workclass\",\"marital-status\",\"occupation\",\n",
        "                      \"relationship\",\"race\",\"sex\",\n",
        "                      \"native-country\"]] = combined_data.select_dtypes(exclude=['int64', int, float]).apply(le.fit_transform)\n",
        "\n",
        "encoded_combined_data.head(8)"
      ],
      "execution_count": 0,
      "outputs": [
        {
          "output_type": "execute_result",
          "data": {
            "text/html": [
              "<div>\n",
              "<style scoped>\n",
              "    .dataframe tbody tr th:only-of-type {\n",
              "        vertical-align: middle;\n",
              "    }\n",
              "\n",
              "    .dataframe tbody tr th {\n",
              "        vertical-align: top;\n",
              "    }\n",
              "\n",
              "    .dataframe thead th {\n",
              "        text-align: right;\n",
              "    }\n",
              "</style>\n",
              "<table border=\"1\" class=\"dataframe\">\n",
              "  <thead>\n",
              "    <tr style=\"text-align: right;\">\n",
              "      <th></th>\n",
              "      <th>age</th>\n",
              "      <th>workclass</th>\n",
              "      <th>education-num</th>\n",
              "      <th>marital-status</th>\n",
              "      <th>occupation</th>\n",
              "      <th>relationship</th>\n",
              "      <th>race</th>\n",
              "      <th>sex</th>\n",
              "      <th>capital-gain</th>\n",
              "      <th>capital-loss</th>\n",
              "      <th>hours-per-week</th>\n",
              "      <th>native-country</th>\n",
              "    </tr>\n",
              "  </thead>\n",
              "  <tbody>\n",
              "    <tr>\n",
              "      <th>0</th>\n",
              "      <td>39</td>\n",
              "      <td>7</td>\n",
              "      <td>13.0</td>\n",
              "      <td>4</td>\n",
              "      <td>1</td>\n",
              "      <td>1</td>\n",
              "      <td>4</td>\n",
              "      <td>1</td>\n",
              "      <td>2174.0</td>\n",
              "      <td>0.0</td>\n",
              "      <td>40.0</td>\n",
              "      <td>39</td>\n",
              "    </tr>\n",
              "    <tr>\n",
              "      <th>1</th>\n",
              "      <td>50</td>\n",
              "      <td>6</td>\n",
              "      <td>13.0</td>\n",
              "      <td>2</td>\n",
              "      <td>4</td>\n",
              "      <td>0</td>\n",
              "      <td>4</td>\n",
              "      <td>1</td>\n",
              "      <td>0.0</td>\n",
              "      <td>0.0</td>\n",
              "      <td>13.0</td>\n",
              "      <td>39</td>\n",
              "    </tr>\n",
              "    <tr>\n",
              "      <th>2</th>\n",
              "      <td>38</td>\n",
              "      <td>4</td>\n",
              "      <td>9.0</td>\n",
              "      <td>0</td>\n",
              "      <td>6</td>\n",
              "      <td>1</td>\n",
              "      <td>4</td>\n",
              "      <td>1</td>\n",
              "      <td>0.0</td>\n",
              "      <td>0.0</td>\n",
              "      <td>40.0</td>\n",
              "      <td>39</td>\n",
              "    </tr>\n",
              "    <tr>\n",
              "      <th>3</th>\n",
              "      <td>53</td>\n",
              "      <td>4</td>\n",
              "      <td>7.0</td>\n",
              "      <td>2</td>\n",
              "      <td>6</td>\n",
              "      <td>0</td>\n",
              "      <td>2</td>\n",
              "      <td>1</td>\n",
              "      <td>0.0</td>\n",
              "      <td>0.0</td>\n",
              "      <td>40.0</td>\n",
              "      <td>39</td>\n",
              "    </tr>\n",
              "    <tr>\n",
              "      <th>4</th>\n",
              "      <td>28</td>\n",
              "      <td>4</td>\n",
              "      <td>13.0</td>\n",
              "      <td>2</td>\n",
              "      <td>10</td>\n",
              "      <td>5</td>\n",
              "      <td>2</td>\n",
              "      <td>0</td>\n",
              "      <td>0.0</td>\n",
              "      <td>0.0</td>\n",
              "      <td>40.0</td>\n",
              "      <td>5</td>\n",
              "    </tr>\n",
              "    <tr>\n",
              "      <th>5</th>\n",
              "      <td>37</td>\n",
              "      <td>4</td>\n",
              "      <td>14.0</td>\n",
              "      <td>2</td>\n",
              "      <td>4</td>\n",
              "      <td>5</td>\n",
              "      <td>4</td>\n",
              "      <td>0</td>\n",
              "      <td>0.0</td>\n",
              "      <td>0.0</td>\n",
              "      <td>40.0</td>\n",
              "      <td>39</td>\n",
              "    </tr>\n",
              "    <tr>\n",
              "      <th>6</th>\n",
              "      <td>49</td>\n",
              "      <td>4</td>\n",
              "      <td>5.0</td>\n",
              "      <td>3</td>\n",
              "      <td>8</td>\n",
              "      <td>1</td>\n",
              "      <td>2</td>\n",
              "      <td>0</td>\n",
              "      <td>0.0</td>\n",
              "      <td>0.0</td>\n",
              "      <td>16.0</td>\n",
              "      <td>23</td>\n",
              "    </tr>\n",
              "    <tr>\n",
              "      <th>7</th>\n",
              "      <td>52</td>\n",
              "      <td>6</td>\n",
              "      <td>9.0</td>\n",
              "      <td>2</td>\n",
              "      <td>4</td>\n",
              "      <td>0</td>\n",
              "      <td>4</td>\n",
              "      <td>1</td>\n",
              "      <td>0.0</td>\n",
              "      <td>0.0</td>\n",
              "      <td>45.0</td>\n",
              "      <td>39</td>\n",
              "    </tr>\n",
              "  </tbody>\n",
              "</table>\n",
              "</div>"
            ],
            "text/plain": [
              "   age  workclass  education-num  ...  capital-loss  hours-per-week  native-country\n",
              "0   39          7           13.0  ...           0.0            40.0              39\n",
              "1   50          6           13.0  ...           0.0            13.0              39\n",
              "2   38          4            9.0  ...           0.0            40.0              39\n",
              "3   53          4            7.0  ...           0.0            40.0              39\n",
              "4   28          4           13.0  ...           0.0            40.0               5\n",
              "5   37          4           14.0  ...           0.0            40.0              39\n",
              "6   49          4            5.0  ...           0.0            16.0              23\n",
              "7   52          6            9.0  ...           0.0            45.0              39\n",
              "\n",
              "[8 rows x 12 columns]"
            ]
          },
          "metadata": {
            "tags": []
          },
          "execution_count": 34
        }
      ]
    },
    {
      "cell_type": "markdown",
      "metadata": {
        "id": "upS3rB5jJCKl",
        "colab_type": "text"
      },
      "source": [
        "**14- Split the data again using training and test size from train_data and test_data.**"
      ]
    },
    {
      "cell_type": "code",
      "metadata": {
        "id": "uA72GzM8JCqv",
        "colab_type": "code",
        "outputId": "bbd605b3-ea58-464e-f30e-94ea4a01536b",
        "colab": {
          "base_uri": "https://localhost:8080/",
          "height": 393
        }
      },
      "source": [
        "print(\"Checking again\\ntrain_data number of rows:\", train_data.shape[0])\n",
        "print(\"test_data number of rows:\", test_data.shape[0])\n",
        "print(\"combined_data number of rows:\", encoded_combined_data.shape[0])\n",
        "train_size = train_data.shape[0]\n",
        "test_size = test_data.shape[0]\n",
        "\n",
        "encoded_x_train = encoded_combined_data[:train_size] \n",
        "encoded_x_test = encoded_combined_data[train_size:]\n",
        "\n",
        "print(\"\\nAGAIN:\\nencoded_train_data number of rows:\", encoded_x_train.shape[0])\n",
        "print(\"encoded_test_data number of rows:\", encoded_x_test.shape[0])\n",
        "\n",
        "encoded_x_train.head(7)"
      ],
      "execution_count": 0,
      "outputs": [
        {
          "output_type": "stream",
          "text": [
            "Checking again\n",
            "train_data number of rows: 32561\n",
            "test_data number of rows: 16281\n",
            "combined_data number of rows: 48842\n",
            "\n",
            "AGAIN:\n",
            "encoded_train_data number of rows: 32561\n",
            "encoded_test_data number of rows: 16281\n"
          ],
          "name": "stdout"
        },
        {
          "output_type": "execute_result",
          "data": {
            "text/html": [
              "<div>\n",
              "<style scoped>\n",
              "    .dataframe tbody tr th:only-of-type {\n",
              "        vertical-align: middle;\n",
              "    }\n",
              "\n",
              "    .dataframe tbody tr th {\n",
              "        vertical-align: top;\n",
              "    }\n",
              "\n",
              "    .dataframe thead th {\n",
              "        text-align: right;\n",
              "    }\n",
              "</style>\n",
              "<table border=\"1\" class=\"dataframe\">\n",
              "  <thead>\n",
              "    <tr style=\"text-align: right;\">\n",
              "      <th></th>\n",
              "      <th>age</th>\n",
              "      <th>workclass</th>\n",
              "      <th>education-num</th>\n",
              "      <th>marital-status</th>\n",
              "      <th>occupation</th>\n",
              "      <th>relationship</th>\n",
              "      <th>race</th>\n",
              "      <th>sex</th>\n",
              "      <th>capital-gain</th>\n",
              "      <th>capital-loss</th>\n",
              "      <th>hours-per-week</th>\n",
              "      <th>native-country</th>\n",
              "    </tr>\n",
              "  </thead>\n",
              "  <tbody>\n",
              "    <tr>\n",
              "      <th>0</th>\n",
              "      <td>39</td>\n",
              "      <td>7</td>\n",
              "      <td>13.0</td>\n",
              "      <td>4</td>\n",
              "      <td>1</td>\n",
              "      <td>1</td>\n",
              "      <td>4</td>\n",
              "      <td>1</td>\n",
              "      <td>2174.0</td>\n",
              "      <td>0.0</td>\n",
              "      <td>40.0</td>\n",
              "      <td>39</td>\n",
              "    </tr>\n",
              "    <tr>\n",
              "      <th>1</th>\n",
              "      <td>50</td>\n",
              "      <td>6</td>\n",
              "      <td>13.0</td>\n",
              "      <td>2</td>\n",
              "      <td>4</td>\n",
              "      <td>0</td>\n",
              "      <td>4</td>\n",
              "      <td>1</td>\n",
              "      <td>0.0</td>\n",
              "      <td>0.0</td>\n",
              "      <td>13.0</td>\n",
              "      <td>39</td>\n",
              "    </tr>\n",
              "    <tr>\n",
              "      <th>2</th>\n",
              "      <td>38</td>\n",
              "      <td>4</td>\n",
              "      <td>9.0</td>\n",
              "      <td>0</td>\n",
              "      <td>6</td>\n",
              "      <td>1</td>\n",
              "      <td>4</td>\n",
              "      <td>1</td>\n",
              "      <td>0.0</td>\n",
              "      <td>0.0</td>\n",
              "      <td>40.0</td>\n",
              "      <td>39</td>\n",
              "    </tr>\n",
              "    <tr>\n",
              "      <th>3</th>\n",
              "      <td>53</td>\n",
              "      <td>4</td>\n",
              "      <td>7.0</td>\n",
              "      <td>2</td>\n",
              "      <td>6</td>\n",
              "      <td>0</td>\n",
              "      <td>2</td>\n",
              "      <td>1</td>\n",
              "      <td>0.0</td>\n",
              "      <td>0.0</td>\n",
              "      <td>40.0</td>\n",
              "      <td>39</td>\n",
              "    </tr>\n",
              "    <tr>\n",
              "      <th>4</th>\n",
              "      <td>28</td>\n",
              "      <td>4</td>\n",
              "      <td>13.0</td>\n",
              "      <td>2</td>\n",
              "      <td>10</td>\n",
              "      <td>5</td>\n",
              "      <td>2</td>\n",
              "      <td>0</td>\n",
              "      <td>0.0</td>\n",
              "      <td>0.0</td>\n",
              "      <td>40.0</td>\n",
              "      <td>5</td>\n",
              "    </tr>\n",
              "    <tr>\n",
              "      <th>5</th>\n",
              "      <td>37</td>\n",
              "      <td>4</td>\n",
              "      <td>14.0</td>\n",
              "      <td>2</td>\n",
              "      <td>4</td>\n",
              "      <td>5</td>\n",
              "      <td>4</td>\n",
              "      <td>0</td>\n",
              "      <td>0.0</td>\n",
              "      <td>0.0</td>\n",
              "      <td>40.0</td>\n",
              "      <td>39</td>\n",
              "    </tr>\n",
              "    <tr>\n",
              "      <th>6</th>\n",
              "      <td>49</td>\n",
              "      <td>4</td>\n",
              "      <td>5.0</td>\n",
              "      <td>3</td>\n",
              "      <td>8</td>\n",
              "      <td>1</td>\n",
              "      <td>2</td>\n",
              "      <td>0</td>\n",
              "      <td>0.0</td>\n",
              "      <td>0.0</td>\n",
              "      <td>16.0</td>\n",
              "      <td>23</td>\n",
              "    </tr>\n",
              "  </tbody>\n",
              "</table>\n",
              "</div>"
            ],
            "text/plain": [
              "   age  workclass  education-num  ...  capital-loss  hours-per-week  native-country\n",
              "0   39          7           13.0  ...           0.0            40.0              39\n",
              "1   50          6           13.0  ...           0.0            13.0              39\n",
              "2   38          4            9.0  ...           0.0            40.0              39\n",
              "3   53          4            7.0  ...           0.0            40.0              39\n",
              "4   28          4           13.0  ...           0.0            40.0               5\n",
              "5   37          4           14.0  ...           0.0            40.0              39\n",
              "6   49          4            5.0  ...           0.0            16.0              23\n",
              "\n",
              "[7 rows x 12 columns]"
            ]
          },
          "metadata": {
            "tags": []
          },
          "execution_count": 35
        }
      ]
    },
    {
      "cell_type": "markdown",
      "metadata": {
        "id": "57h4CKQR8u1y",
        "colab_type": "text"
      },
      "source": [
        "Now we can finally train our model.\n",
        "First we won't use any of the parameters. \n",
        "\n",
        "**15-Fit model using DecisionTreeClassifier function with default parameter values.**"
      ]
    },
    {
      "cell_type": "code",
      "metadata": {
        "id": "LSUNtZUYSWVx",
        "colab_type": "code",
        "outputId": "1e21c345-61bd-4de9-e4da-9b655584d842",
        "colab": {
          "base_uri": "https://localhost:8080/",
          "height": 119
        }
      },
      "source": [
        "from sklearn.tree import DecisionTreeClassifier\n",
        "\n",
        "model = DecisionTreeClassifier()\n",
        "model.fit(encoded_x_train, y_train)"
      ],
      "execution_count": 0,
      "outputs": [
        {
          "output_type": "execute_result",
          "data": {
            "text/plain": [
              "DecisionTreeClassifier(class_weight=None, criterion='gini', max_depth=None,\n",
              "                       max_features=None, max_leaf_nodes=None,\n",
              "                       min_impurity_decrease=0.0, min_impurity_split=None,\n",
              "                       min_samples_leaf=1, min_samples_split=2,\n",
              "                       min_weight_fraction_leaf=0.0, presort=False,\n",
              "                       random_state=None, splitter='best')"
            ]
          },
          "metadata": {
            "tags": []
          },
          "execution_count": 36
        }
      ]
    },
    {
      "cell_type": "markdown",
      "metadata": {
        "id": "KAuPPtnR9Uhk",
        "colab_type": "text"
      },
      "source": [
        "**16- Use the fitted model to predict training data and check accuracy.** \n"
      ]
    },
    {
      "cell_type": "code",
      "metadata": {
        "id": "p6CILpQh9l19",
        "colab_type": "code",
        "outputId": "c779fc91-de6c-4d37-b6c7-211598382730",
        "colab": {
          "base_uri": "https://localhost:8080/",
          "height": 34
        }
      },
      "source": [
        "from sklearn.metrics import accuracy_score\n",
        "\n",
        "y_train_pred = model.predict(encoded_x_train)\n",
        "print(\"Training accuracy is:\", accuracy_score(y_pred=y_train_pred, y_true=y_train))"
      ],
      "execution_count": 0,
      "outputs": [
        {
          "output_type": "stream",
          "text": [
            "Training accuracy is: 0.976413500813857\n"
          ],
          "name": "stdout"
        }
      ]
    },
    {
      "cell_type": "markdown",
      "metadata": {
        "id": "Mx0uBQIT_CpL",
        "colab_type": "text"
      },
      "source": [
        "Our algorithm has an excellent accuracy on training data. \n",
        "\n",
        "**17-Predict now test data and compute accuracy. Compare training accuracy and test accuracy. What is the conclusion we can make ?** \n"
      ]
    },
    {
      "cell_type": "code",
      "metadata": {
        "id": "1NanWvlj_VnQ",
        "colab_type": "code",
        "outputId": "08a1c192-d2b5-485c-c944-fd3ff06c2c83",
        "colab": {
          "base_uri": "https://localhost:8080/",
          "height": 34
        }
      },
      "source": [
        "y_test_pred = model.predict(encoded_x_test)\n",
        "print(\"Test accuracy is:\", accuracy_score(y_test_pred, y_test))"
      ],
      "execution_count": 0,
      "outputs": [
        {
          "output_type": "stream",
          "text": [
            "Test accuracy is: 0.8122965419814507\n"
          ],
          "name": "stdout"
        }
      ]
    },
    {
      "cell_type": "markdown",
      "metadata": {
        "id": "rvJJkTbVXqdX",
        "colab_type": "text"
      },
      "source": [
        "### Using One Hot Encoder\n",
        "\n",
        "Now we are going to do the same steps  but using one hot encoding. As we have said before we prefer to use get_dummies function. \n",
        "\n",
        "**18- Encode data using One Hot Encoding and split data to test and train**\n"
      ]
    },
    {
      "cell_type": "code",
      "metadata": {
        "id": "hkOJuN_qHZF2",
        "colab_type": "code",
        "outputId": "ebab72d8-5de8-4534-91ff-7fe6f793fcd7",
        "colab": {
          "base_uri": "https://localhost:8080/",
          "height": 218
        }
      },
      "source": [
        "encoded_combined_data2 = pd.get_dummies(combined_data)\n",
        "\n",
        "# split the data to again to train and test\n",
        "encoded_x_train2 = encoded_combined_data[:train_size] \n",
        "encoded_x_test2 = encoded_combined_data[train_size:]\n",
        "\n",
        "print(\"combined_data number of rows:\", encoded_combined_data2.shape[0])\n",
        "print(\"encoded_train_data number of rows:\", encoded_x_train2.shape[0])\n",
        "print(\"encoded_test_data number of rows:\", encoded_x_test2.shape[0])\n",
        "\n",
        "encoded_x_train2.head(4)"
      ],
      "execution_count": 0,
      "outputs": [
        {
          "output_type": "stream",
          "text": [
            "combined_data number of rows: 48842\n",
            "encoded_train_data number of rows: 32561\n",
            "encoded_test_data number of rows: 16281\n"
          ],
          "name": "stdout"
        },
        {
          "output_type": "execute_result",
          "data": {
            "text/html": [
              "<div>\n",
              "<style scoped>\n",
              "    .dataframe tbody tr th:only-of-type {\n",
              "        vertical-align: middle;\n",
              "    }\n",
              "\n",
              "    .dataframe tbody tr th {\n",
              "        vertical-align: top;\n",
              "    }\n",
              "\n",
              "    .dataframe thead th {\n",
              "        text-align: right;\n",
              "    }\n",
              "</style>\n",
              "<table border=\"1\" class=\"dataframe\">\n",
              "  <thead>\n",
              "    <tr style=\"text-align: right;\">\n",
              "      <th></th>\n",
              "      <th>age</th>\n",
              "      <th>workclass</th>\n",
              "      <th>education-num</th>\n",
              "      <th>marital-status</th>\n",
              "      <th>occupation</th>\n",
              "      <th>relationship</th>\n",
              "      <th>race</th>\n",
              "      <th>sex</th>\n",
              "      <th>capital-gain</th>\n",
              "      <th>capital-loss</th>\n",
              "      <th>hours-per-week</th>\n",
              "      <th>native-country</th>\n",
              "    </tr>\n",
              "  </thead>\n",
              "  <tbody>\n",
              "    <tr>\n",
              "      <th>0</th>\n",
              "      <td>39</td>\n",
              "      <td>7</td>\n",
              "      <td>13.0</td>\n",
              "      <td>4</td>\n",
              "      <td>1</td>\n",
              "      <td>1</td>\n",
              "      <td>4</td>\n",
              "      <td>1</td>\n",
              "      <td>2174.0</td>\n",
              "      <td>0.0</td>\n",
              "      <td>40.0</td>\n",
              "      <td>39</td>\n",
              "    </tr>\n",
              "    <tr>\n",
              "      <th>1</th>\n",
              "      <td>50</td>\n",
              "      <td>6</td>\n",
              "      <td>13.0</td>\n",
              "      <td>2</td>\n",
              "      <td>4</td>\n",
              "      <td>0</td>\n",
              "      <td>4</td>\n",
              "      <td>1</td>\n",
              "      <td>0.0</td>\n",
              "      <td>0.0</td>\n",
              "      <td>13.0</td>\n",
              "      <td>39</td>\n",
              "    </tr>\n",
              "    <tr>\n",
              "      <th>2</th>\n",
              "      <td>38</td>\n",
              "      <td>4</td>\n",
              "      <td>9.0</td>\n",
              "      <td>0</td>\n",
              "      <td>6</td>\n",
              "      <td>1</td>\n",
              "      <td>4</td>\n",
              "      <td>1</td>\n",
              "      <td>0.0</td>\n",
              "      <td>0.0</td>\n",
              "      <td>40.0</td>\n",
              "      <td>39</td>\n",
              "    </tr>\n",
              "    <tr>\n",
              "      <th>3</th>\n",
              "      <td>53</td>\n",
              "      <td>4</td>\n",
              "      <td>7.0</td>\n",
              "      <td>2</td>\n",
              "      <td>6</td>\n",
              "      <td>0</td>\n",
              "      <td>2</td>\n",
              "      <td>1</td>\n",
              "      <td>0.0</td>\n",
              "      <td>0.0</td>\n",
              "      <td>40.0</td>\n",
              "      <td>39</td>\n",
              "    </tr>\n",
              "  </tbody>\n",
              "</table>\n",
              "</div>"
            ],
            "text/plain": [
              "   age  workclass  education-num  ...  capital-loss  hours-per-week  native-country\n",
              "0   39          7           13.0  ...           0.0            40.0              39\n",
              "1   50          6           13.0  ...           0.0            13.0              39\n",
              "2   38          4            9.0  ...           0.0            40.0              39\n",
              "3   53          4            7.0  ...           0.0            40.0              39\n",
              "\n",
              "[4 rows x 12 columns]"
            ]
          },
          "metadata": {
            "tags": []
          },
          "execution_count": 39
        }
      ]
    },
    {
      "cell_type": "markdown",
      "metadata": {
        "id": "t4ueLDeIZE4K",
        "colab_type": "text"
      },
      "source": [
        "**19- Fit a new model on encoded data.**"
      ]
    },
    {
      "cell_type": "code",
      "metadata": {
        "id": "zi0ki70JYZnp",
        "colab_type": "code",
        "outputId": "5bf1ac9c-0713-4383-bf39-47f2a4a56a3c",
        "colab": {
          "base_uri": "https://localhost:8080/",
          "height": 119
        }
      },
      "source": [
        "model_2 = DecisionTreeClassifier()\n",
        "model_2.fit(encoded_x_train2, y_train)"
      ],
      "execution_count": 0,
      "outputs": [
        {
          "output_type": "execute_result",
          "data": {
            "text/plain": [
              "DecisionTreeClassifier(class_weight=None, criterion='gini', max_depth=None,\n",
              "                       max_features=None, max_leaf_nodes=None,\n",
              "                       min_impurity_decrease=0.0, min_impurity_split=None,\n",
              "                       min_samples_leaf=1, min_samples_split=2,\n",
              "                       min_weight_fraction_leaf=0.0, presort=False,\n",
              "                       random_state=None, splitter='best')"
            ]
          },
          "metadata": {
            "tags": []
          },
          "execution_count": 40
        }
      ]
    },
    {
      "cell_type": "markdown",
      "metadata": {
        "id": "ipR3O6VlLvZ4",
        "colab_type": "text"
      },
      "source": [
        "**20- Predict train and test labels using the new model and compute accuracy score each time. Comment on results.**\n"
      ]
    },
    {
      "cell_type": "code",
      "metadata": {
        "id": "E6E3tvvIBS4g",
        "colab_type": "code",
        "outputId": "e884f9e6-1345-4033-faf8-4f7616229a65",
        "colab": {
          "base_uri": "https://localhost:8080/",
          "height": 51
        }
      },
      "source": [
        "# Predicting training labels\n",
        "y_train_pred = model_2.predict(encoded_x_train2)\n",
        "print(\"Training accuracy is:\", accuracy_score(y_pred=y_train_pred, y_true=y_train))\n",
        "# Predicting test labels\n",
        "y_test_pred = model_2.predict(encoded_x_test2)\n",
        "print(\"Test accuracy is:\", accuracy_score(y_pred=y_test_pred, y_true=y_test))"
      ],
      "execution_count": 0,
      "outputs": [
        {
          "output_type": "stream",
          "text": [
            "Training accuracy is: 0.976413500813857\n",
            "Test accuracy is: 0.8113138013635526\n"
          ],
          "name": "stdout"
        }
      ]
    },
    {
      "cell_type": "markdown",
      "metadata": {
        "id": "71wrhSU4eFyU",
        "colab_type": "text"
      },
      "source": [
        "In both encoding methods, we have high training accuracies with significantly lower test accuracies. This means we have some overfitting on our data. \n"
      ]
    },
    {
      "cell_type": "markdown",
      "metadata": {
        "id": "HbJhYm2LE0iU",
        "colab_type": "text"
      },
      "source": [
        "How do we normally reduce overfitting in case of Decision Tree methods ?\n",
        "\n",
        "The most common way to reduce a tree is by pruning it. However, there is no built-in method that implement s cost complexity pruning for example, so unless if we want to properly define a pruning method we need to do changes that are slightly beyond the objective of this practice. \n",
        "\n",
        "Instead we have a simple alternative which is quite simple: when declaring the model with *DecisionTreeClassifier* function we can add an optional parameter *min_impurity_decrease*. This parameter controls the minimum decrease in criterion to perform a split. This means that if the best split in a given node provides a decrease inferior to this value, we will not allow the split to happen, and the node becomes a leaf node."
      ]
    },
    {
      "cell_type": "markdown",
      "metadata": {
        "id": "YCEIFw1kJzt5",
        "colab_type": "text"
      },
      "source": [
        "### Improving model\n",
        "\n",
        "**21- Define a function which takes a *min_impurity_decrease* value, trains using this value and returns training and test accuracy scores in a form of a list of 2 values. Test the function with some values.**"
      ]
    },
    {
      "cell_type": "code",
      "metadata": {
        "id": "Duf_f-UGeGDA",
        "colab_type": "code",
        "outputId": "bbce737b-d2b3-400f-f16f-984d4eb1a400",
        "colab": {
          "base_uri": "https://localhost:8080/",
          "height": 34
        }
      },
      "source": [
        "def train_pruned_tree(min_decrease):\n",
        "  model_2 = DecisionTreeClassifier(min_impurity_decrease=min_decrease)\n",
        "  model_2.fit(encoded_x_train, y_train)\n",
        "  y_train_pred = model_2.predict(encoded_x_train)\n",
        "  train_accuracy = accuracy_score(y_pred=y_train_pred, y_true=y_train)\n",
        "  y_test_pred = model_2.predict(encoded_x_test)\n",
        "  test_accuracy = accuracy_score(y_pred=y_test_pred, y_true=y_test)\n",
        "  return ([train_accuracy, test_accuracy])\n",
        "\n",
        "# example \n",
        "train_pruned_tree(0.04)"
      ],
      "execution_count": 0,
      "outputs": [
        {
          "output_type": "execute_result",
          "data": {
            "text/plain": [
              "[0.7591904425539756, 0.7637737239727289]"
            ]
          },
          "metadata": {
            "tags": []
          },
          "execution_count": 42
        }
      ]
    },
    {
      "cell_type": "markdown",
      "metadata": {
        "id": "IU0c5NRSK7jY",
        "colab_type": "text"
      },
      "source": [
        "**22- Train multiple models using varying values of *min_decrease* in the function and plot two lines: one for training accuracy scores and another for test accuracy scores.**\n",
        "Use logarithmic scale for *min_decrease*."
      ]
    },
    {
      "cell_type": "code",
      "metadata": {
        "id": "NbSVfQjFPE8r",
        "colab_type": "code",
        "outputId": "52c43cc8-6393-4a7d-f667-382160d289dc",
        "colab": {
          "base_uri": "https://localhost:8080/",
          "height": 34
        }
      },
      "source": [
        "import matplotlib.pyplot as plt\n",
        "import numpy as np\n",
        "\n",
        "rangeofvalues = 10.0**(np.array(range(-7,2)))\n",
        "print(rangeofvalues)\n",
        "num_iter = rangeofvalues*np.ones(len(rangeofvalues))\n",
        "train_accuracies_hist=[]\n",
        "test_accuracies_hist=[]\n",
        "res=[]\n",
        "for i in rangeofvalues:\n",
        "  train_accuracies, test_accuracies = train_pruned_tree(i)\n",
        "  train_accuracies_hist.append(train_accuracies)\n",
        "  test_accuracies_hist.append(test_accuracies)"
      ],
      "execution_count": 0,
      "outputs": [
        {
          "output_type": "stream",
          "text": [
            "[1.e-07 1.e-06 1.e-05 1.e-04 1.e-03 1.e-02 1.e-01 1.e+00 1.e+01]\n"
          ],
          "name": "stdout"
        }
      ]
    },
    {
      "cell_type": "code",
      "metadata": {
        "id": "p1PvzxwdQImC",
        "colab_type": "code",
        "outputId": "2968caa4-492e-4df4-e5e9-cad7eb468680",
        "colab": {
          "base_uri": "https://localhost:8080/",
          "height": 613
        }
      },
      "source": [
        "plt.figure(figsize=(14,10))\n",
        "plt.plot(num_iter, train_accuracies_hist, label='train accuracy')\n",
        "plt.plot(num_iter, test_accuracies_hist, label='test accuracy')\n",
        "plt.xlabel('iterations', fontsize = 14)\n",
        "#plt.xlim((-0.0001,0.004))\n",
        "#plt.xlim((10^-4,0.1))\n",
        "plt.xscale(\"log\")\n",
        "plt.ylabel('accuracy', rotation = 90, fontsize = 14)\n",
        "plt.legend(loc='best')\n",
        "plt.show()"
      ],
      "execution_count": 0,
      "outputs": [
        {
          "output_type": "display_data",
          "data": {
            "image/png": "[encoded data removed]",
            "text/plain": [
              "<Figure size 1008x720 with 1 Axes>"
            ]
          },
          "metadata": {
            "tags": []
          }
        }
      ]
    },
    {
      "cell_type": "markdown",
      "metadata": {
        "id": "jhkx5bWKRefy",
        "colab_type": "text"
      },
      "source": [
        " **23- Comment on the results you get and choose an optimal value for *min_decrease*.** \n",
        "\n"
      ]
    },
    {
      "cell_type": "markdown",
      "metadata": {
        "id": "o5gLvhMLVj0c",
        "colab_type": "text"
      },
      "source": [
        "<font color='green'>We can see that at **min_impurity_decrease=0**, we have a strong overfitting.\\\n",
        "With **min_impurity_decrease=0.0001**, the model is well fitted and we have an accuracy score of 85% both for training and testing dataset. This value seems to be the optimal value for min_decrease.\\\n",
        "But as we increase the value of min_impurity_decrease, the accuracy starts to drop considerably.\n",
        "</font>"
      ]
    },
    {
      "cell_type": "code",
      "metadata": {
        "id": "OLAHqyMEcPVN",
        "colab_type": "code",
        "outputId": "4684a002-e2a0-4620-9dff-22b39e2e2493",
        "colab": {
          "base_uri": "https://localhost:8080/",
          "height": 34
        }
      },
      "source": [
        "train_pruned_tree(0.0001)"
      ],
      "execution_count": 0,
      "outputs": [
        {
          "output_type": "execute_result",
          "data": {
            "text/plain": [
              "[0.8690765025644176, 0.8570112400958172]"
            ]
          },
          "metadata": {
            "tags": []
          },
          "execution_count": 45
        }
      ]
    },
    {
      "cell_type": "markdown",
      "metadata": {
        "id": "wwAWIDGTWKYf",
        "colab_type": "text"
      },
      "source": [
        "### Random Forest model\n",
        "\n",
        "We have seen how to improve a simple Decision Tree using varying parameters of the model. However, this is not the most common way to get improve tree based models. A more common method is to use Random Forests. The only reason we might not want random forest is to keep interpretability guaranteed by a single tree.\n",
        "\n",
        "In the same way as before, we will build a Random Forest model. \n",
        "\n",
        "We won't change default parameters in the first place. \n",
        "\n",
        "**24- Train a Random Forest on the data and get training and accuracy scores. Comment on the results.** \n",
        "\n"
      ]
    },
    {
      "cell_type": "code",
      "metadata": {
        "id": "UzF3SnQDNxJO",
        "colab_type": "code",
        "outputId": "ed0b6ce7-34ae-4954-f51d-f50f557ce6ad",
        "colab": {
          "base_uri": "https://localhost:8080/",
          "height": 85
        }
      },
      "source": [
        "from sklearn.ensemble import RandomForestClassifier\n",
        "\n",
        "model_3 = RandomForestClassifier()\n",
        "model_3.fit(encoded_x_train, y_train)\n",
        "\n",
        "y_train_pred = model_3.predict(encoded_x_train)\n",
        "print(\"Training accuracy is:\", accuracy_score(y_pred=y_train_pred, y_true=y_train))\n",
        "# Predicting test labels\n",
        "y_test_pred = model_3.predict(encoded_x_test)\n",
        "print(\"Test accuracy is:\", accuracy_score(y_pred=y_test_pred, y_true=y_test))"
      ],
      "execution_count": 0,
      "outputs": [
        {
          "output_type": "stream",
          "text": [
            "/usr/local/lib/python3.6/dist-packages/sklearn/ensemble/forest.py:245: FutureWarning: The default value of n_estimators will change from 10 in version 0.20 to 100 in 0.22.\n",
            "  \"10 in version 0.20 to 100 in 0.22.\", FutureWarning)\n"
          ],
          "name": "stderr"
        },
        {
          "output_type": "stream",
          "text": [
            "Training accuracy is: 0.9695341052178987\n",
            "Test accuracy is: 0.8429457650021498\n"
          ],
          "name": "stdout"
        }
      ]
    },
    {
      "cell_type": "markdown",
      "metadata": {
        "id": "60VHnfaVXoHr",
        "colab_type": "text"
      },
      "source": [
        "### Improving model\n",
        "\n"
      ]
    },
    {
      "cell_type": "markdown",
      "metadata": {
        "id": "BfM7JRrdYI3K",
        "colab_type": "text"
      },
      "source": [
        "There are multiple parameters we can change to improve our Random Forest model. But if we vary all hyperparameters, it might take a very long time to find the optimal combination, thsus we are only going use 3 of them:\n",
        "\n",
        "*   *min_impurity_decrease*: same as before\n",
        "*   *n_estimators*: number of trees in our Random Forest\n",
        "*   *max_features*: number of features we use in each iteration of the Random Forest algorithm (cf. lecture)\n",
        "\n",
        "For  *min_impurity_decrease* we will use the same optimal value as before (it appears it is also optimal here) 0.00001.\n",
        "\n",
        "**25-Implement a Random Forest model using this value.**"
      ]
    },
    {
      "cell_type": "code",
      "metadata": {
        "id": "Y_YEdvWhX6Wq",
        "colab_type": "code",
        "outputId": "3ca474c3-6fda-4df5-b7a5-82c6213025f8",
        "colab": {
          "base_uri": "https://localhost:8080/",
          "height": 85
        }
      },
      "source": [
        "model_3 = RandomForestClassifier(min_impurity_decrease=0.00001)\n",
        "model_3.fit(encoded_x_train, y_train)\n",
        "\n",
        "y_train_pred = model_3.predict(encoded_x_train)\n",
        "print(\"Training accuracy is:\", accuracy_score(y_pred=y_train_pred, y_true=y_train))\n",
        "# Predicting test labels\n",
        "y_test_pred = model_3.predict(encoded_x_test)\n",
        "print(\"Test accuracy is:\", accuracy_score(y_pred=y_test_pred, y_true=y_test))"
      ],
      "execution_count": 0,
      "outputs": [
        {
          "output_type": "stream",
          "text": [
            "/usr/local/lib/python3.6/dist-packages/sklearn/ensemble/forest.py:245: FutureWarning: The default value of n_estimators will change from 10 in version 0.20 to 100 in 0.22.\n",
            "  \"10 in version 0.20 to 100 in 0.22.\", FutureWarning)\n"
          ],
          "name": "stderr"
        },
        {
          "output_type": "stream",
          "text": [
            "Training accuracy is: 0.9207333927090692\n",
            "Test accuracy is: 0.8590995639088508\n"
          ],
          "name": "stdout"
        }
      ]
    },
    {
      "cell_type": "markdown",
      "metadata": {
        "id": "YnuAhOUbcbzk",
        "colab_type": "text"
      },
      "source": [
        "To find the best combination of hyperarameters we have chosen to change, we are going simply train the model on different combinations and we pick the best combination.\n",
        "\n",
        "**26- Define possible combinations of n_estimators and max_features and use.**\n",
        "\n",
        "Tip: what might be useful is to define a function that a takes a  combination as an input then fits the model and gives accuracy scores as output."
      ]
    },
    {
      "cell_type": "code",
      "metadata": {
        "id": "dYdUcr0NbLGY",
        "colab_type": "code",
        "outputId": "76116ca2-14d5-4c02-a392-e07d61c6f666",
        "colab": {
          "base_uri": "https://localhost:8080/",
          "height": 395
        }
      },
      "source": [
        "# we define the function just like train_pruned_tree function\n",
        "\n",
        "def train_for_comb(n_estimators, max_features):\n",
        "    model = RandomForestClassifier(min_impurity_decrease=0.00001,\n",
        "                                   n_estimators=n_estimators,\n",
        "                                   max_features=max_features)\n",
        "    model.fit(encoded_x_train, y_train)\n",
        "    y_train_pred = model.predict(encoded_x_train)\n",
        "    train_accuracy = accuracy_score(y_pred=y_train_pred, y_true=y_train)\n",
        "    y_test_pred = model.predict(encoded_x_test)\n",
        "    test_accuracy = accuracy_score(y_pred=y_test_pred, y_true=y_test)\n",
        "    return ([train_accuracy, test_accuracy]) \n",
        " \n",
        "n_estimators_list = [50,100,200,300,500]\n",
        "max_features_list = [int(i) for i in np.arange(1,5)]  #linspace(1,encoded_x_train.shape[1], 10)]\n",
        "\n",
        "# dictionary where we are going to store accuracy scores for each combination   \n",
        "accuracy_dic ={}\n",
        "\n",
        "# loop to compute all accuracies\n",
        "for n_estimators in n_estimators_list:\n",
        "    for max_features in max_features_list:\n",
        "        print(\"wesh?\", n_estimators, max_features)\n",
        "        accuracy_dic[(n_estimators, max_features)]=train_for_comb(n_estimators, max_features)\n",
        "        \n",
        "print(accuracy_dic)"
      ],
      "execution_count": 0,
      "outputs": [
        {
          "output_type": "stream",
          "text": [
            "wesh? 50 1\n",
            "wesh? 50 2\n",
            "wesh? 50 3\n",
            "wesh? 50 4\n",
            "wesh? 100 1\n",
            "wesh? 100 2\n",
            "wesh? 100 3\n",
            "wesh? 100 4\n",
            "wesh? 200 1\n",
            "wesh? 200 2\n",
            "wesh? 200 3\n",
            "wesh? 200 4\n",
            "wesh? 300 1\n",
            "wesh? 300 2\n",
            "wesh? 300 3\n",
            "wesh? 300 4\n",
            "wesh? 500 1\n",
            "wesh? 500 2\n",
            "wesh? 500 3\n",
            "wesh? 500 4\n",
            "{(50, 1): [0.8980989527348668, 0.8605122535470794], (50, 2): [0.9155124228371364, 0.862600577360113], (50, 3): [0.9274592303676177, 0.8629076838032061], (50, 4): [0.9375633426491815, 0.8594680916405626], (100, 1): [0.8988974540093978, 0.8619863644739266], (100, 2): [0.9166180399864869, 0.8618635218966894], (100, 3): [0.9282270200546666, 0.8620477857625453], (100, 4): [0.9382697091612665, 0.859898040660893], (200, 1): [0.900832284020761, 0.8640132669983416], (200, 2): [0.9163416356991493, 0.8630305263804434], (200, 3): [0.9289333865667516, 0.8619863644739266], (200, 4): [0.9391296336107613, 0.8599594619495117], (300, 1): [0.8996959552839287, 0.8628462625145875], (300, 2): [0.9164951936365591, 0.8645660585959093], (300, 3): [0.9283805779920764, 0.8628462625145875], (300, 4): [0.9394367494855809, 0.8616178367422148], (500, 1): [0.8992967046466632, 0.8626619986487316], (500, 2): [0.9160959429992936, 0.863767581843867], (500, 3): [0.9284420011670403, 0.8613721515877403], (500, 4): [0.9397438653604004, 0.8604508322584608]}\n"
          ],
          "name": "stdout"
        }
      ]
    },
    {
      "cell_type": "markdown",
      "metadata": {
        "id": "GTNdPRVySoES",
        "colab_type": "text"
      },
      "source": [
        "*Optional*\n",
        "\n",
        "**27- Instead of manually looking for the best we can look for the best split. Use GridSearchCV to find it.** \n",
        "\n",
        "For help, consult [documentation](https://scikit-learn.org/stable/modules/generated/sklearn.model_selection.GridSearchCV.html#sklearn.model_selection.GridSearchCV). \n"
      ]
    },
    {
      "cell_type": "code",
      "metadata": {
        "id": "tGgsSs9efWOr",
        "colab_type": "code",
        "outputId": "68c04412-df56-4280-e2b5-04bf49ab290c",
        "colab": {
          "base_uri": "https://localhost:8080/",
          "height": 170
        }
      },
      "source": [
        "from sklearn.model_selection import GridSearchCV\n",
        "\n",
        "param_grid = {'n_estimators': [50,100,200],#300,500],\n",
        "              'max_features': [int(i) for i in np.arange(1,4)],  #np.linspace(1,encoded_x_train.shape[1], 10)],\n",
        "              'min_impurity_decrease': [0.00001]}\n",
        "\n",
        "model = RandomForestClassifier()\n",
        "gridsearch = GridSearchCV(model, param_grid, cv = 5, verbose= 1)\n",
        "gridsearch.fit(encoded_x_train, y_train)\n",
        "\n",
        "print(\"The best parameters are:\\n%s\" % (gridsearch.best_params_)) \n",
        "print(\"The best score is:\\n%s\" % (gridsearch.best_score_))\n",
        "\n",
        "y_train_pred = gridsearch.predict(encoded_x_train)\n",
        "y_test_pred = gridsearch.predict(encoded_x_test)\n",
        "\n",
        "print(\"Training Accuracy:\", accuracy_score(y_train_pred, y_train))\n",
        "print(\"Testing Accuracy:\", accuracy_score(y_test_pred, y_test))"
      ],
      "execution_count": 0,
      "outputs": [
        {
          "output_type": "stream",
          "text": [
            "Fitting 5 folds for each of 9 candidates, totalling 45 fits\n"
          ],
          "name": "stdout"
        },
        {
          "output_type": "stream",
          "text": [
            "[Parallel(n_jobs=1)]: Using backend SequentialBackend with 1 concurrent workers.\n",
            "[Parallel(n_jobs=1)]: Done  45 out of  45 | elapsed:  1.2min finished\n"
          ],
          "name": "stderr"
        },
        {
          "output_type": "stream",
          "text": [
            "The best parameters are:\n",
            "{'max_features': 2, 'min_impurity_decrease': 1e-05, 'n_estimators': 100}\n",
            "The best score is:\n",
            "0.8660360554037038\n",
            "Training Accuracy: 0.9160038082368478\n",
            "Testing Accuracy: 0.8628462625145875\n"
          ],
          "name": "stdout"
        }
      ]
    }
  ]
}