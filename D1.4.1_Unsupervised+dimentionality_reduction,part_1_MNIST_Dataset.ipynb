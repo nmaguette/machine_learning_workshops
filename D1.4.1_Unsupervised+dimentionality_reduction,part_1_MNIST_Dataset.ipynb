{
  "nbformat": 4,
  "nbformat_minor": 0,
  "metadata": {
    "kernelspec": {
      "display_name": "Python 3",
      "language": "python",
      "name": "python3"
    },
    "language_info": {
      "codemirror_mode": {
        "name": "ipython",
        "version": 3
      },
      "file_extension": ".py",
      "mimetype": "text/x-python",
      "name": "python",
      "nbconvert_exporter": "python",
      "pygments_lexer": "ipython3",
      "version": "3.6.8"
    },
    "colab": {
      "name": "Maguette_D1.4.1 Unsupervised + dimentionality reduction, part 1.ipynb",
      "provenance": [],
      "collapsed_sections": [],
      "include_colab_link": true
    }
  },
  "cells": [
    {
      "cell_type": "markdown",
      "metadata": {
        "id": "view-in-github",
        "colab_type": "text"
      },
      "source": [
        "<a href=\"https://colab.research.google.com/github/nmaguette/machine_learning_workshops/blob/master/D1_4_1_Unsupervised_%2B_dimentionality_reduction%2C_part_1.ipynb\" target=\"_parent\"><img src=\"https://colab.research.google.com/assets/colab-badge.svg\" alt=\"Open In Colab\"/></a>"
      ]
    },
    {
      "cell_type": "markdown",
      "metadata": {
        "id": "P_ZUACIX2HKm",
        "colab_type": "text"
      },
      "source": [
        "## MNIST dataset exploration"
      ]
    },
    {
      "cell_type": "markdown",
      "metadata": {
        "id": "nu97LbCA-isX",
        "colab_type": "text"
      },
      "source": [
        "Load the MNIST dataset (http://yann.lecun.com/exdb/mnist/) and split it into a training set and a test set (60,000 instances for training, and 10,000 for testing). Train a Random Forest classifier on the dataset and time how long it takes, then evaluate the resulting model on the test set. Next, use PCA to reduce the dataset’s dimensionality, with an explained variance ratio of 95%. Train a new Random Forest classifier on the reduced dataset and see how long it takes. Was training much faster? Next evaluate the classifier on the test set: how does it compare to the previous classifier?"
      ]
    },
    {
      "cell_type": "markdown",
      "metadata": {
        "id": "_OIyY0fN-isZ",
        "colab_type": "text"
      },
      "source": [
        "### 1) Load the MNIST dataset"
      ]
    },
    {
      "cell_type": "code",
      "metadata": {
        "id": "X8TOZHpP-isa",
        "colab_type": "code",
        "colab": {}
      },
      "source": [
        "from keras.datasets import mnist\n",
        "import numpy as np\n",
        "import matplotlib.pyplot as plt\n",
        "\n",
        "(X_train, Y_train), (X_test, Y_test) = mnist.load_data()"
      ],
      "execution_count": 0,
      "outputs": []
    },
    {
      "cell_type": "code",
      "metadata": {
        "id": "jHK-IpMCCPEs",
        "colab_type": "code",
        "outputId": "a657a1c2-8248-4ee3-96e2-f5b8a5eced20",
        "colab": {
          "base_uri": "https://localhost:8080/",
          "height": 268
        }
      },
      "source": [
        "for row in range(3):\n",
        "  for col in range(3):\n",
        "    idx = row*3 + col + 1\n",
        "    plt.subplot(3,3, idx)\n",
        "    plt.imshow(X_train[idx-1], cmap=\"gray\")"
      ],
      "execution_count": 0,
      "outputs": [
        {
          "output_type": "display_data",
          "data": {
            "image/png": "[encoded data removed]",
            "text/plain": [
              "<Figure size 432x288 with 9 Axes>"
            ]
          },
          "metadata": {
            "tags": []
          }
        }
      ]
    },
    {
      "cell_type": "markdown",
      "metadata": {
        "id": "YPfZQHzS-isi",
        "colab_type": "text"
      },
      "source": [
        "### 2) Split it into a training set and a test set (take the first 60,000 instances for training, and the remaining 10,000 for testing)."
      ]
    },
    {
      "cell_type": "code",
      "metadata": {
        "id": "3e58UV13-isj",
        "colab_type": "code",
        "outputId": "3e557f06-22ef-4620-eb09-b120be67e163",
        "colab": {
          "base_uri": "https://localhost:8080/",
          "height": 124
        }
      },
      "source": [
        "num_classes = np.unique(Y_train).shape[0]\n",
        "print(\"Shape of training dataset:\", X_train.shape)\n",
        "print(\"Number of training examples:\", X_train.shape[0])\n",
        "print(\"Number of testing examples:\", X_test.shape[0])\n",
        "print(\"Number of classes:\", num_classes)\n",
        "print(\"Image shape:\", X_train[0].shape)\n",
        "print(\"Image data type:\", X_train.dtype)"
      ],
      "execution_count": 0,
      "outputs": [
        {
          "output_type": "stream",
          "text": [
            "Shape of training dataset: (60000, 28, 28)\n",
            "Number of training examples: 60000\n",
            "Number of testing examples: 10000\n",
            "Number of classes: 10\n",
            "Image shape: (28, 28)\n",
            "Image data type: uint8\n"
          ],
          "name": "stdout"
        }
      ]
    },
    {
      "cell_type": "code",
      "metadata": {
        "id": "75NB5y7GlNoA",
        "colab_type": "code",
        "outputId": "62d0362a-5fbe-4346-e9a4-7d29e6ffd675",
        "colab": {
          "base_uri": "https://localhost:8080/",
          "height": 52
        }
      },
      "source": [
        "print(Y_train)\n",
        "print(Y_test)"
      ],
      "execution_count": 0,
      "outputs": [
        {
          "output_type": "stream",
          "text": [
            "[5 0 4 ... 5 6 8]\n",
            "[7 2 1 ... 4 5 6]\n"
          ],
          "name": "stdout"
        }
      ]
    },
    {
      "cell_type": "markdown",
      "metadata": {
        "id": "hPLNvdqE-ism",
        "colab_type": "text"
      },
      "source": [
        "### 3) Train a Random Forest classifier on the dataset and time how long it takes, then evaluate the resulting model on the test set."
      ]
    },
    {
      "cell_type": "code",
      "metadata": {
        "id": "se4mjVkQ-isn",
        "colab_type": "code",
        "outputId": "bd0bcdc1-907c-4dc0-e923-4d310ec62354",
        "colab": {
          "base_uri": "https://localhost:8080/",
          "height": 126
        }
      },
      "source": [
        "from sklearn.ensemble import RandomForestClassifier\n",
        "from sklearn.metrics import accuracy_score\n",
        "import time\n",
        "\n",
        "rd_model = RandomForestClassifier()\n",
        "nsamples, nx, ny = X_train.shape\n",
        "nsamples2, nx2, ny2 = X_test.shape\n",
        "X_train_2d = X_train.reshape((nsamples,nx*ny))\n",
        "X_test_2d = X_test.reshape((nsamples2,nx2*ny2))\n",
        "\n",
        "start_time=time.time()\n",
        "rd_model.fit(X_train_2d,Y_train)\n",
        "end_time=time.time()\n",
        "diff_time=(end_time-start_time)*1000\n",
        "print(\"It took %.2f ms to train the model.\" % diff_time)\n",
        "\n",
        "Y_train_pred = rd_model.predict(X_train_2d)\n",
        "Y_test_pred = rd_model.predict(X_test_2d)\n",
        "print(\"Training accuracy is:\", accuracy_score(y_pred=Y_train_pred, y_true=Y_train))\n",
        "print(\"Testing accuracy is:\", accuracy_score(y_pred=Y_test_pred, y_true=Y_test))"
      ],
      "execution_count": 0,
      "outputs": [
        {
          "output_type": "stream",
          "text": [
            "/usr/local/lib/python3.6/dist-packages/sklearn/ensemble/forest.py:245: FutureWarning: The default value of n_estimators will change from 10 in version 0.20 to 100 in 0.22.\n",
            "  \"10 in version 0.20 to 100 in 0.22.\", FutureWarning)\n"
          ],
          "name": "stderr"
        },
        {
          "output_type": "stream",
          "text": [
            "It took 5034.30 ms to train the model.\n",
            "Training accuracy is: 0.9991833333333333\n",
            "Testing accuracy is: 0.9466\n"
          ],
          "name": "stdout"
        }
      ]
    },
    {
      "cell_type": "markdown",
      "metadata": {
        "id": "2wb-0YBo-iss",
        "colab_type": "text"
      },
      "source": [
        "### 4) use PCA to reduce the dataset’s dimensionality, with an explained variance ratio of 95%."
      ]
    },
    {
      "cell_type": "code",
      "metadata": {
        "id": "Psd9l8lc-ist",
        "colab_type": "code",
        "outputId": "a6ab4a6a-8338-4acd-da55-9f29c775214e",
        "colab": {
          "base_uri": "https://localhost:8080/",
          "height": 35
        }
      },
      "source": [
        "from sklearn.decomposition import PCA\n",
        "\n",
        "pca = PCA(n_components=0.95)\n",
        "mnist_combined_data= np.concatenate((X_train_2d, X_test_2d))\n",
        "mnist_pca = pca.fit_transform(mnist_combined_data)\n",
        "\n",
        "print(\"Total explained variance ratio is: %.2f\" % (sum(pca.explained_variance_ratio_)*100))"
      ],
      "execution_count": 0,
      "outputs": [
        {
          "output_type": "stream",
          "text": [
            "Total explained variance ratio is: 95.03\n"
          ],
          "name": "stdout"
        }
      ]
    },
    {
      "cell_type": "code",
      "metadata": {
        "id": "L00sA2cSn9a3",
        "colab_type": "code",
        "outputId": "b019b90f-4088-4a68-d506-9d45d9557efe",
        "colab": {
          "base_uri": "https://localhost:8080/",
          "height": 35
        }
      },
      "source": [
        "mnist_pca.shape"
      ],
      "execution_count": 0,
      "outputs": [
        {
          "output_type": "execute_result",
          "data": {
            "text/plain": [
              "(70000, 154)"
            ]
          },
          "metadata": {
            "tags": []
          },
          "execution_count": 71
        }
      ]
    },
    {
      "cell_type": "markdown",
      "metadata": {
        "id": "yl5v3_V0-isv",
        "colab_type": "text"
      },
      "source": [
        "### 5) Train a new Random Forest classifier on the reduced dataset and see how long it takes."
      ]
    },
    {
      "cell_type": "code",
      "metadata": {
        "id": "XazI2f8kp_6W",
        "colab_type": "code",
        "outputId": "414c5f7c-70e4-4107-c792-7dfde8880e4a",
        "colab": {
          "base_uri": "https://localhost:8080/",
          "height": 35
        }
      },
      "source": [
        "X_train_pca=mnist_pca[:X_train_2d.shape[0]]\n",
        "X_test_pca=mnist_pca[X_train_2d.shape[0]:]\n",
        "\n",
        "X_train_pca.shape"
      ],
      "execution_count": 0,
      "outputs": [
        {
          "output_type": "execute_result",
          "data": {
            "text/plain": [
              "(60000, 154)"
            ]
          },
          "metadata": {
            "tags": []
          },
          "execution_count": 75
        }
      ]
    },
    {
      "cell_type": "code",
      "metadata": {
        "id": "s9HWLod4qy_e",
        "colab_type": "code",
        "outputId": "96679aff-d51c-45a1-d2ac-daaba5b03a68",
        "colab": {
          "base_uri": "https://localhost:8080/",
          "height": 35
        }
      },
      "source": [
        "X_test_pca.shape"
      ],
      "execution_count": 0,
      "outputs": [
        {
          "output_type": "execute_result",
          "data": {
            "text/plain": [
              "(10000, 154)"
            ]
          },
          "metadata": {
            "tags": []
          },
          "execution_count": 76
        }
      ]
    },
    {
      "cell_type": "code",
      "metadata": {
        "id": "suzCXFal-isx",
        "colab_type": "code",
        "outputId": "cd49717c-7593-4894-c4f0-22341d928641",
        "colab": {
          "base_uri": "https://localhost:8080/",
          "height": 108
        }
      },
      "source": [
        "rd_model_with_pca = RandomForestClassifier(min_impurity_decrease=0.001)\n",
        "\n",
        "start_time=time.time()\n",
        "rd_model_with_pca.fit(X_train_pca,Y_train)\n",
        "end_time=time.time()\n",
        "diff=(end_time-start_time)*1000\n",
        "print(\"It took %.2f ms to train the model.\" % diff)\n",
        "\n",
        "Y_train_pca_pred = rd_model_with_pca.predict(X_train_pca)\n",
        "print(\"Training accuracy is:\", accuracy_score(y_pred=Y_train_pca_pred, y_true=Y_train))"
      ],
      "execution_count": 81,
      "outputs": [
        {
          "output_type": "stream",
          "text": [
            "/usr/local/lib/python3.6/dist-packages/sklearn/ensemble/forest.py:245: FutureWarning: The default value of n_estimators will change from 10 in version 0.20 to 100 in 0.22.\n",
            "  \"10 in version 0.20 to 100 in 0.22.\", FutureWarning)\n"
          ],
          "name": "stderr"
        },
        {
          "output_type": "stream",
          "text": [
            "It took 5998.93 ms to train the model.\n",
            "Training accuracy is: 0.8002333333333334\n"
          ],
          "name": "stdout"
        }
      ]
    },
    {
      "cell_type": "markdown",
      "metadata": {
        "id": "7KfNQ9l0-isz",
        "colab_type": "text"
      },
      "source": [
        "### 6) Was training much faster?"
      ]
    },
    {
      "cell_type": "markdown",
      "metadata": {
        "id": "waHBLZZNjk2B",
        "colab_type": "text"
      },
      "source": [
        "<font color=green>No, the training was two times longer. We reduce the dimension of our data, but the Random Forest didn't necessary fit faster.</font>\n",
        "\n"
      ]
    },
    {
      "cell_type": "markdown",
      "metadata": {
        "id": "wQcg_e-U-is1",
        "colab_type": "text"
      },
      "source": [
        "### 7) Next evaluate the classifier on the test set: how does it compare to the previous classifier?"
      ]
    },
    {
      "cell_type": "code",
      "metadata": {
        "id": "WpH9UW3u-is2",
        "colab_type": "code",
        "outputId": "264d9423-242f-412b-aa67-ab1f675c07fa",
        "colab": {
          "base_uri": "https://localhost:8080/",
          "height": 35
        }
      },
      "source": [
        "Y_test_pca_pred = rd_model_with_pca.predict(X_test_pca)\n",
        "print(\"Testing accuracy is:\", accuracy_score(y_pred=Y_test_pca_pred, y_true=Y_test))"
      ],
      "execution_count": 80,
      "outputs": [
        {
          "output_type": "stream",
          "text": [
            "Testing accuracy is: 0.8919\n"
          ],
          "name": "stdout"
        }
      ]
    },
    {
      "cell_type": "markdown",
      "metadata": {
        "id": "JFXLG3ofkYVT",
        "colab_type": "text"
      },
      "source": [
        "<font color=green>We have a less high accuracy score but it is much less overfitted compare to the accuracy of the previous classifier.</font>\n"
      ]
    },
    {
      "cell_type": "markdown",
      "metadata": {
        "id": "_PEO02Qykg2X",
        "colab_type": "text"
      },
      "source": [
        "### 7.5) Choose different number of features between 1 and 784 and plot:\n",
        "1.   Variance explained with PCA\n",
        "2.   Train & test errors\n",
        "\n",
        "\n"
      ]
    },
    {
      "cell_type": "code",
      "metadata": {
        "id": "4WmQL9zBv2LN",
        "colab_type": "code",
        "colab": {}
      },
      "source": [
        "def applyRandomForest(X_train, Y_train, X_test, Y_test):\n",
        "  rd = RandomForestClassifier()\n",
        "  start_time=time.time()\n",
        "  rd.fit(X_train,Y_train)\n",
        "  end_time=time.time()\n",
        "  diff=(end_time-start_time)*1000\n",
        "  Y_train_pred = rd.predict(X_train)\n",
        "  train_accuracy=accuracy_score(y_pred=Y_train_pred, y_true=Y_train)\n",
        "  test_accuracy=accuracy_score(y_pred=Y_test_pred, y_true=Y_test)\n",
        "  return (diff, train_accuracy, test_accuracy)"
      ],
      "execution_count": 0,
      "outputs": []
    },
    {
      "cell_type": "code",
      "metadata": {
        "id": "oiWlD2w_v7oM",
        "colab_type": "code",
        "colab": {}
      },
      "source": [
        "def PCAdimreduc(n_components, X_train, X_test):\n",
        "  pca = PCA(n_components=n_components)\n",
        "  combined_data= np.concatenate((X_train, X_test))\n",
        "  combined_data_pca = pca.fit_transform(combined_data)\n",
        "  exp_var=sum(pca.explained_variance_ratio_)*100\n",
        "  X_train_pca=combined_data_pca[:X_train.shape[0]]\n",
        "  X_test_pca=combined_data_pca[X_train.shape[0]:]\n",
        "  return (exp_var, X_train_pca, X_test_pca)"
      ],
      "execution_count": 0,
      "outputs": []
    },
    {
      "cell_type": "code",
      "metadata": {
        "colab_type": "code",
        "id": "6AY_0ViQzWLX",
        "outputId": "0ddb50ca-c957-4eb3-98d3-6b50c0dc1950",
        "colab": {
          "base_uri": "https://localhost:8080/",
          "height": 464
        }
      },
      "source": [
        "training_accuracy_scores=[]\n",
        "test_accuracy_scores=[]\n",
        "variances=[]\n",
        "times=[]\n",
        "\n",
        "for feature in range(1,784,100) :\n",
        "  print(\"Number of features =\", feature)\n",
        "  exp_var, X_train_pca, X_test_pca = PCAdimreduc(feature, X_train_2d, X_test_2d)\n",
        "  variances.append(exp_var)\n",
        "  diff, train_accuracy, test_accuracy=applyRandomForest(X_train_pca, Y_train, X_test_pca, Y_test)\n",
        "  times.append(diff)\n",
        "  training_accuracy_scores.append(train_accuracy)\n",
        "  test_accuracy_scores.append(test_accuracy)"
      ],
      "execution_count": 0,
      "outputs": [
        {
          "output_type": "stream",
          "text": [
            "Number of features = 1\n"
          ],
          "name": "stdout"
        },
        {
          "output_type": "stream",
          "text": [
            "/usr/local/lib/python3.6/dist-packages/sklearn/ensemble/forest.py:245: FutureWarning: The default value of n_estimators will change from 10 in version 0.20 to 100 in 0.22.\n",
            "  \"10 in version 0.20 to 100 in 0.22.\", FutureWarning)\n"
          ],
          "name": "stderr"
        },
        {
          "output_type": "stream",
          "text": [
            "Number of features = 101\n"
          ],
          "name": "stdout"
        },
        {
          "output_type": "stream",
          "text": [
            "/usr/local/lib/python3.6/dist-packages/sklearn/ensemble/forest.py:245: FutureWarning: The default value of n_estimators will change from 10 in version 0.20 to 100 in 0.22.\n",
            "  \"10 in version 0.20 to 100 in 0.22.\", FutureWarning)\n"
          ],
          "name": "stderr"
        },
        {
          "output_type": "stream",
          "text": [
            "Number of features = 201\n"
          ],
          "name": "stdout"
        },
        {
          "output_type": "stream",
          "text": [
            "/usr/local/lib/python3.6/dist-packages/sklearn/ensemble/forest.py:245: FutureWarning: The default value of n_estimators will change from 10 in version 0.20 to 100 in 0.22.\n",
            "  \"10 in version 0.20 to 100 in 0.22.\", FutureWarning)\n"
          ],
          "name": "stderr"
        },
        {
          "output_type": "stream",
          "text": [
            "Number of features = 301\n"
          ],
          "name": "stdout"
        },
        {
          "output_type": "stream",
          "text": [
            "/usr/local/lib/python3.6/dist-packages/sklearn/ensemble/forest.py:245: FutureWarning: The default value of n_estimators will change from 10 in version 0.20 to 100 in 0.22.\n",
            "  \"10 in version 0.20 to 100 in 0.22.\", FutureWarning)\n"
          ],
          "name": "stderr"
        },
        {
          "output_type": "stream",
          "text": [
            "Number of features = 401\n"
          ],
          "name": "stdout"
        },
        {
          "output_type": "stream",
          "text": [
            "/usr/local/lib/python3.6/dist-packages/sklearn/ensemble/forest.py:245: FutureWarning: The default value of n_estimators will change from 10 in version 0.20 to 100 in 0.22.\n",
            "  \"10 in version 0.20 to 100 in 0.22.\", FutureWarning)\n"
          ],
          "name": "stderr"
        },
        {
          "output_type": "stream",
          "text": [
            "Number of features = 501\n"
          ],
          "name": "stdout"
        },
        {
          "output_type": "stream",
          "text": [
            "/usr/local/lib/python3.6/dist-packages/sklearn/ensemble/forest.py:245: FutureWarning: The default value of n_estimators will change from 10 in version 0.20 to 100 in 0.22.\n",
            "  \"10 in version 0.20 to 100 in 0.22.\", FutureWarning)\n"
          ],
          "name": "stderr"
        },
        {
          "output_type": "stream",
          "text": [
            "Number of features = 601\n"
          ],
          "name": "stdout"
        },
        {
          "output_type": "stream",
          "text": [
            "/usr/local/lib/python3.6/dist-packages/sklearn/ensemble/forest.py:245: FutureWarning: The default value of n_estimators will change from 10 in version 0.20 to 100 in 0.22.\n",
            "  \"10 in version 0.20 to 100 in 0.22.\", FutureWarning)\n"
          ],
          "name": "stderr"
        },
        {
          "output_type": "stream",
          "text": [
            "Number of features = 701\n"
          ],
          "name": "stdout"
        },
        {
          "output_type": "stream",
          "text": [
            "/usr/local/lib/python3.6/dist-packages/sklearn/ensemble/forest.py:245: FutureWarning: The default value of n_estimators will change from 10 in version 0.20 to 100 in 0.22.\n",
            "  \"10 in version 0.20 to 100 in 0.22.\", FutureWarning)\n"
          ],
          "name": "stderr"
        }
      ]
    },
    {
      "cell_type": "code",
      "metadata": {
        "colab_type": "code",
        "outputId": "8621fa7a-3dc8-47f8-98a4-4d5aed86dc2d",
        "id": "7bBoHqRs1kQE",
        "colab": {
          "base_uri": "https://localhost:8080/",
          "height": 557
        }
      },
      "source": [
        "plt.figure(figsize=(24,8))\n",
        "\n",
        "plt.subplot(1,3,1)\n",
        "plt.plot(list(range(1,784,100)), training_accuracy_scores, label='train accuracy')\n",
        "plt.plot(list(range(1,784,100)), test_accuracy_scores, label='test accuracy')\n",
        "plt.xlabel('number of features', fontsize = 14)\n",
        "plt.ylabel('accuracy', rotation = 90, fontsize = 14)\n",
        "plt.legend(loc='best')\n",
        "\n",
        "plt.subplot(1,3,2)\n",
        "plt.plot(list(range(1,784,100)), variances)\n",
        "plt.xlabel('number of features', fontsize = 14)\n",
        "plt.ylabel('variances', rotation = 90, fontsize = 14)\n",
        "plt.legend(loc='best')\n",
        "\n",
        "plt.subplot(1,3,3)\n",
        "plt.plot(list(range(1,784,100)), times)\n",
        "plt.xlabel('number of features', fontsize = 14)\n",
        "plt.ylabel('fit time', rotation = 90, fontsize = 14)\n",
        "plt.legend(loc='best')\n",
        "plt.show()"
      ],
      "execution_count": 0,
      "outputs": [
        {
          "output_type": "stream",
          "text": [
            "No handles with labels found to put in legend.\n",
            "No handles with labels found to put in legend.\n"
          ],
          "name": "stderr"
        },
        {
          "output_type": "display_data",
          "data": {
            "image/png": "[encoded data removed]",
            "text/plain": [
              "<Figure size 1728x576 with 3 Axes>"
            ]
          },
          "metadata": {
            "tags": []
          }
        }
      ]
    },
    {
      "cell_type": "markdown",
      "metadata": {
        "colab_type": "text",
        "id": "ee65iUDh1kQH"
      },
      "source": [
        "<font color=green>We see that if we choose 1 we get bad result but the result gets better as we increase the number of features."
      ]
    },
    {
      "cell_type": "markdown",
      "metadata": {
        "id": "LYMChgaTn0aj",
        "colab_type": "text"
      },
      "source": [
        "# PCA, K-means and k-NN"
      ]
    },
    {
      "cell_type": "markdown",
      "metadata": {
        "id": "jckd7yqDoSkn",
        "colab_type": "text"
      },
      "source": [
        "### 1) Implement PCA from scratch: \n",
        "You have input data $(x_1,\\dots, x_n)$ which is $d$-dimensional and number of projections $k$, return new data and percentage of you data explained. Test your function on different data."
      ]
    },
    {
      "cell_type": "code",
      "metadata": {
        "id": "FCNMQN7boRxs",
        "colab_type": "code",
        "colab": {}
      },
      "source": [
        "def pca_from_scratch(X,k):\n",
        "  print(\"number of projections k:\", k)\n",
        "  s, w = np.linalg.eig(X.T.dot(X))\n",
        "  \"\"\"print(\"eigen values:\", s)\n",
        "  print(\"s shape:\", s.shape)\n",
        "  print(\"eigen vectors:\", w)\n",
        "  print(\"w shape:\", w.shape)\n",
        "\n",
        "  print(\"\\n\\nw[:k]:\", w[:,:1])\n",
        "  print(\"s[:k]:\", s[:1])\"\"\"\n",
        "  X_new = X.dot(w[:,:k])\n",
        "  explained_data=sum(s[:k])/sum(s)\n",
        "  print(\"explained_data:\", explained_data)\n",
        "  print(\"new X:\", X_new)\n",
        "  return (X_new, explained_data)"
      ],
      "execution_count": 0,
      "outputs": []
    },
    {
      "cell_type": "code",
      "metadata": {
        "id": "IvLgSj7Z59F5",
        "colab_type": "code",
        "colab": {
          "base_uri": "https://localhost:8080/",
          "height": 159
        },
        "outputId": "32187ade-2ade-433c-8881-83b19983f672"
      },
      "source": [
        "X = np.array([[-1, -1], [-2, -1], [-3, -2], [1, 1], [2, 1], [3, 2]])\n",
        "X_new, explained_data = pca_from_scratch(X,1)"
      ],
      "execution_count": 123,
      "outputs": [
        {
          "output_type": "stream",
          "text": [
            "number of projections k: 1\n",
            "explained_data: 0.9924428900898052\n",
            "new X: [[-1.38340578]\n",
            " [-2.22189802]\n",
            " [-3.6053038 ]\n",
            " [ 1.38340578]\n",
            " [ 2.22189802]\n",
            " [ 3.6053038 ]]\n"
          ],
          "name": "stdout"
        }
      ]
    },
    {
      "cell_type": "code",
      "metadata": {
        "id": "Vkbrl3-g7tYn",
        "colab_type": "code",
        "colab": {
          "base_uri": "https://localhost:8080/",
          "height": 657
        },
        "outputId": "445c7eb2-e00e-4259-f491-970b64f5d735"
      },
      "source": [
        "X = np.array([[-1, -1, -2, -1], [-3, -2, 1, 1], [2, 1, 3, 2], [8, -1, 7, 2], [2, 0, 5, 5], [4, 6, 6, 3], [1, -4, -4, 2]])\n",
        "for i in range(1,5):\n",
        "  X_new, explained_data = pca_from_scratch(X,i)"
      ],
      "execution_count": 124,
      "outputs": [
        {
          "output_type": "stream",
          "text": [
            "number of projections k: 1\n",
            "explained_data: 0.7306573196466223\n",
            "new X: [[-2.58070001]\n",
            " [-1.1128421 ]\n",
            " [ 4.18459737]\n",
            " [ 9.88003112]\n",
            " [ 6.36307989]\n",
            " [ 9.05653101]\n",
            " [-2.6969599 ]]\n",
            "number of projections k: 2\n",
            "explained_data: 0.8854285902187511\n",
            "new X: [[-2.58070001  0.44285784]\n",
            " [-1.1128421   0.67300479]\n",
            " [ 4.18459737  0.10698136]\n",
            " [ 9.88003112  3.71929514]\n",
            " [ 6.36307989  1.54692849]\n",
            " [ 9.05653101 -3.51710113]\n",
            " [-2.6969599   4.92891587]]\n",
            "number of projections k: 3\n",
            "explained_data: 0.9622068981580192\n",
            "new X: [[-2.58070001e+00  4.42857842e-01 -3.76840539e-01]\n",
            " [-1.11284210e+00  6.73004793e-01  3.28582180e+00]\n",
            " [ 4.18459737e+00  1.06981362e-01  6.24826578e-01]\n",
            " [ 9.88003112e+00  3.71929514e+00 -2.08691293e+00]\n",
            " [ 6.36307989e+00  1.54692849e+00  3.29670766e+00]\n",
            " [ 9.05653101e+00 -3.51710113e+00  1.73041226e-03]\n",
            " [-2.69695990e+00  4.92891587e+00  1.12971761e-01]]\n",
            "number of projections k: 4\n",
            "explained_data: 1.0\n",
            "new X: [[-2.58070001e+00  4.42857842e-01 -3.76840539e-01 -4.30766902e-02]\n",
            " [-1.11284210e+00  6.73004793e-01  3.28582180e+00 -1.58493599e+00]\n",
            " [ 4.18459737e+00  1.06981362e-01  6.24826578e-01  2.95451455e-01]\n",
            " [ 9.88003112e+00  3.71929514e+00 -2.08691293e+00 -1.48210092e+00]\n",
            " [ 6.36307989e+00  1.54692849e+00  3.29670766e+00  4.99945128e-01]\n",
            " [ 9.05653101e+00 -3.51710113e+00  1.73041226e-03  1.61531504e+00]\n",
            " [-2.69695990e+00  4.92891587e+00  1.12971761e-01  2.32796757e+00]]\n"
          ],
          "name": "stdout"
        }
      ]
    },
    {
      "cell_type": "markdown",
      "metadata": {
        "id": "vd2BrK-uohKK",
        "colab_type": "text"
      },
      "source": [
        "### 2) Implement K-means from scratch: \n",
        "You have input data $(x_1,\\dots, x_n)$ which is $d$-dimensional and number of clusters $k$, return clustered data. Test your function on different data."
      ]
    },
    {
      "cell_type": "code",
      "metadata": {
        "id": "K9ocQmkCJRu3",
        "colab_type": "code",
        "colab": {
          "base_uri": "https://localhost:8080/",
          "height": 88
        },
        "outputId": "365ce3b5-9309-4390-aed5-e7e992da7b1d"
      },
      "source": [
        "initial_centroids = np.random.rand(2,1)\n",
        "print(initial_centroids)\n",
        "print(initial_centroids[0])\n",
        "x0 = np.sqrt(np.sum(np.square(X[0,:])))\n",
        "print(x0)\n",
        "x0-initial_centroids[0]"
      ],
      "execution_count": 136,
      "outputs": [
        {
          "output_type": "stream",
          "text": [
            "[[0.7747057  0.86212994]]\n",
            "[0.7747057  0.86212994]\n",
            "2.6457513110645907\n"
          ],
          "name": "stdout"
        },
        {
          "output_type": "execute_result",
          "data": {
            "text/plain": [
              "array([1.87104561, 1.78362137])"
            ]
          },
          "metadata": {
            "tags": []
          },
          "execution_count": 136
        }
      ]
    },
    {
      "cell_type": "code",
      "metadata": {
        "id": "xSm8EoxCVkmh",
        "colab_type": "code",
        "colab": {
          "base_uri": "https://localhost:8080/",
          "height": 52
        },
        "outputId": "75487432-2d90-41b4-c3dc-79aae96896a4"
      },
      "source": [
        "X = np.array([[-1, -1], [0, -2]])\n",
        "print(X[0])\n",
        "np.where(min(X[1]))"
      ],
      "execution_count": 169,
      "outputs": [
        {
          "output_type": "stream",
          "text": [
            "[-1 -1]\n"
          ],
          "name": "stdout"
        },
        {
          "output_type": "execute_result",
          "data": {
            "text/plain": [
              "(array([0]),)"
            ]
          },
          "metadata": {
            "tags": []
          },
          "execution_count": 169
        }
      ]
    },
    {
      "cell_type": "code",
      "metadata": {
        "id": "LsohLCbHoqA6",
        "colab_type": "code",
        "colab": {
          "base_uri": "https://localhost:8080/",
          "height": 35
        },
        "outputId": "74e14095-4cba-4f1e-f99c-7d559f5ffecd"
      },
      "source": [
        "def fs_kmeans(X,k):\n",
        "  np.random.seed(42)\n",
        "  n = X.shape[0]\n",
        "  d = X.shape[1]\n",
        "  centroids = np.random.rand(k,d)\n",
        "  print(\"initial_centroids:\", centroids)\n",
        "  converge=100\n",
        "  while converge>0.5:\n",
        "    clusters=[[]]*k\n",
        "    results = [[]]*k #np.zeros((n,k))\n",
        "    for i in range(n):\n",
        "      for j in range(k):\n",
        "        for l in range(d):\n",
        "          print(\"i\", i)\n",
        "          print(\"j\", j)\n",
        "          print(\"result[i,j]\",result[i,j])\n",
        "          print(\"X[i,l]\", X[i,l])\n",
        "          print(\"centroids[j,l]\",centroids[j,l])\n",
        "          result[i,j] += (X[i,l] - centroids[j,l])**2\n",
        "      for j in range(k):\n",
        "        if result[i,j] == min(result[i]):\n",
        "          clusters[j].append(xi)\n",
        "          break\n",
        "    for j in range(k):\n",
        "      converge = abs(centroids[j] - np.mean(clusters[j]))\n",
        "      centroids[j]=np.mean(clusters[j])\n",
        "  return clusters\n",
        "\n",
        "\n",
        "\"\"\"     \n",
        "\"\"\"\n",
        "  # 1 step is to allocate all n points to k classes : we have vector classes [1,n] with elements between 1 and k\n",
        "  # example: n = 8, k = 3   [1,3,2,3,1,1,3,2]\n",
        "  # calculate centroids : Centroids k x d dimensional matrix\n",
        "  # matrix X is n by d size, \n",
        "  # result is n by k table of distances between n points and k centroids."
      ],
      "execution_count": 191,
      "outputs": [
        {
          "output_type": "execute_result",
          "data": {
            "text/plain": [
              "'     \\n'"
            ]
          },
          "metadata": {
            "tags": []
          },
          "execution_count": 191
        }
      ]
    },
    {
      "cell_type": "code",
      "metadata": {
        "id": "VVcmjcZ2MLSf",
        "colab_type": "code",
        "colab": {
          "base_uri": "https://localhost:8080/",
          "height": 381
        },
        "outputId": "6fb16e1a-35e5-4587-a11a-c69ddb19f973"
      },
      "source": [
        "X = np.array([[-1, -1, -2, -1], [-3, -2, 1, 1], [2, 1, 3, 2], [8, -1, 7, 2], [2, 0, 5, 5], [4, 6, 6, 3], [1, -4, -4, 2]])\n",
        "fs_kmeans(X,2)"
      ],
      "execution_count": 192,
      "outputs": [
        {
          "output_type": "stream",
          "text": [
            "initial_centroids: [[0.37454012 0.95071431 0.73199394 0.59865848]\n",
            " [0.15601864 0.15599452 0.05808361 0.86617615]]\n",
            "i 0\n",
            "j 0\n"
          ],
          "name": "stdout"
        },
        {
          "output_type": "error",
          "ename": "TypeError",
          "evalue": "ignored",
          "traceback": [
            "\u001b[0;31m---------------------------------------------------------------------------\u001b[0m",
            "\u001b[0;31mTypeError\u001b[0m                                 Traceback (most recent call last)",
            "\u001b[0;32m<ipython-input-192-b7a08fba331c>\u001b[0m in \u001b[0;36m<module>\u001b[0;34m()\u001b[0m\n\u001b[1;32m      1\u001b[0m \u001b[0mX\u001b[0m \u001b[0;34m=\u001b[0m \u001b[0mnp\u001b[0m\u001b[0;34m.\u001b[0m\u001b[0marray\u001b[0m\u001b[0;34m(\u001b[0m\u001b[0;34m[\u001b[0m\u001b[0;34m[\u001b[0m\u001b[0;34m-\u001b[0m\u001b[0;36m1\u001b[0m\u001b[0;34m,\u001b[0m \u001b[0;34m-\u001b[0m\u001b[0;36m1\u001b[0m\u001b[0;34m,\u001b[0m \u001b[0;34m-\u001b[0m\u001b[0;36m2\u001b[0m\u001b[0;34m,\u001b[0m \u001b[0;34m-\u001b[0m\u001b[0;36m1\u001b[0m\u001b[0;34m]\u001b[0m\u001b[0;34m,\u001b[0m \u001b[0;34m[\u001b[0m\u001b[0;34m-\u001b[0m\u001b[0;36m3\u001b[0m\u001b[0;34m,\u001b[0m \u001b[0;34m-\u001b[0m\u001b[0;36m2\u001b[0m\u001b[0;34m,\u001b[0m \u001b[0;36m1\u001b[0m\u001b[0;34m,\u001b[0m \u001b[0;36m1\u001b[0m\u001b[0;34m]\u001b[0m\u001b[0;34m,\u001b[0m \u001b[0;34m[\u001b[0m\u001b[0;36m2\u001b[0m\u001b[0;34m,\u001b[0m \u001b[0;36m1\u001b[0m\u001b[0;34m,\u001b[0m \u001b[0;36m3\u001b[0m\u001b[0;34m,\u001b[0m \u001b[0;36m2\u001b[0m\u001b[0;34m]\u001b[0m\u001b[0;34m,\u001b[0m \u001b[0;34m[\u001b[0m\u001b[0;36m8\u001b[0m\u001b[0;34m,\u001b[0m \u001b[0;34m-\u001b[0m\u001b[0;36m1\u001b[0m\u001b[0;34m,\u001b[0m \u001b[0;36m7\u001b[0m\u001b[0;34m,\u001b[0m \u001b[0;36m2\u001b[0m\u001b[0;34m]\u001b[0m\u001b[0;34m,\u001b[0m \u001b[0;34m[\u001b[0m\u001b[0;36m2\u001b[0m\u001b[0;34m,\u001b[0m \u001b[0;36m0\u001b[0m\u001b[0;34m,\u001b[0m \u001b[0;36m5\u001b[0m\u001b[0;34m,\u001b[0m \u001b[0;36m5\u001b[0m\u001b[0;34m]\u001b[0m\u001b[0;34m,\u001b[0m \u001b[0;34m[\u001b[0m\u001b[0;36m4\u001b[0m\u001b[0;34m,\u001b[0m \u001b[0;36m6\u001b[0m\u001b[0;34m,\u001b[0m \u001b[0;36m6\u001b[0m\u001b[0;34m,\u001b[0m \u001b[0;36m3\u001b[0m\u001b[0;34m]\u001b[0m\u001b[0;34m,\u001b[0m \u001b[0;34m[\u001b[0m\u001b[0;36m1\u001b[0m\u001b[0;34m,\u001b[0m \u001b[0;34m-\u001b[0m\u001b[0;36m4\u001b[0m\u001b[0;34m,\u001b[0m \u001b[0;34m-\u001b[0m\u001b[0;36m4\u001b[0m\u001b[0;34m,\u001b[0m \u001b[0;36m2\u001b[0m\u001b[0;34m]\u001b[0m\u001b[0;34m]\u001b[0m\u001b[0;34m)\u001b[0m\u001b[0;34m\u001b[0m\u001b[0;34m\u001b[0m\u001b[0m\n\u001b[0;32m----> 2\u001b[0;31m \u001b[0mfs_kmeans\u001b[0m\u001b[0;34m(\u001b[0m\u001b[0mX\u001b[0m\u001b[0;34m,\u001b[0m\u001b[0;36m2\u001b[0m\u001b[0;34m)\u001b[0m\u001b[0;34m\u001b[0m\u001b[0;34m\u001b[0m\u001b[0m\n\u001b[0m",
            "\u001b[0;32m<ipython-input-191-5bf9c33e7d3e>\u001b[0m in \u001b[0;36mfs_kmeans\u001b[0;34m(X, k)\u001b[0m\n\u001b[1;32m     14\u001b[0m           \u001b[0mprint\u001b[0m\u001b[0;34m(\u001b[0m\u001b[0;34m\"i\"\u001b[0m\u001b[0;34m,\u001b[0m \u001b[0mi\u001b[0m\u001b[0;34m)\u001b[0m\u001b[0;34m\u001b[0m\u001b[0;34m\u001b[0m\u001b[0m\n\u001b[1;32m     15\u001b[0m           \u001b[0mprint\u001b[0m\u001b[0;34m(\u001b[0m\u001b[0;34m\"j\"\u001b[0m\u001b[0;34m,\u001b[0m \u001b[0mj\u001b[0m\u001b[0;34m)\u001b[0m\u001b[0;34m\u001b[0m\u001b[0;34m\u001b[0m\u001b[0m\n\u001b[0;32m---> 16\u001b[0;31m           \u001b[0mprint\u001b[0m\u001b[0;34m(\u001b[0m\u001b[0;34m\"result[i,j]\"\u001b[0m\u001b[0;34m,\u001b[0m\u001b[0mresult\u001b[0m\u001b[0;34m[\u001b[0m\u001b[0mi\u001b[0m\u001b[0;34m,\u001b[0m\u001b[0mj\u001b[0m\u001b[0;34m]\u001b[0m\u001b[0;34m)\u001b[0m\u001b[0;34m\u001b[0m\u001b[0;34m\u001b[0m\u001b[0m\n\u001b[0m\u001b[1;32m     17\u001b[0m           \u001b[0mprint\u001b[0m\u001b[0;34m(\u001b[0m\u001b[0;34m\"X[i,l]\"\u001b[0m\u001b[0;34m,\u001b[0m \u001b[0mX\u001b[0m\u001b[0;34m[\u001b[0m\u001b[0mi\u001b[0m\u001b[0;34m,\u001b[0m\u001b[0ml\u001b[0m\u001b[0;34m]\u001b[0m\u001b[0;34m)\u001b[0m\u001b[0;34m\u001b[0m\u001b[0;34m\u001b[0m\u001b[0m\n\u001b[1;32m     18\u001b[0m           \u001b[0mprint\u001b[0m\u001b[0;34m(\u001b[0m\u001b[0;34m\"centroids[j,l]\"\u001b[0m\u001b[0;34m,\u001b[0m\u001b[0mcentroids\u001b[0m\u001b[0;34m[\u001b[0m\u001b[0mj\u001b[0m\u001b[0;34m,\u001b[0m\u001b[0ml\u001b[0m\u001b[0;34m]\u001b[0m\u001b[0;34m)\u001b[0m\u001b[0;34m\u001b[0m\u001b[0;34m\u001b[0m\u001b[0m\n",
            "\u001b[0;31mTypeError\u001b[0m: tuple indices must be integers or slices, not tuple"
          ]
        }
      ]
    },
    {
      "cell_type": "markdown",
      "metadata": {
        "id": "XzfzK898zNkT",
        "colab_type": "text"
      },
      "source": [
        "### 3) Implement K-NN from scratch:\n",
        "You have input data $(x_1,\\dots, x_n)$ which is $d$-dimensional. Implement $k$ nearest neighoubrs algorighm. Test you function on different data."
      ]
    },
    {
      "cell_type": "code",
      "metadata": {
        "id": "nThMt3U4zRxq",
        "colab_type": "code",
        "colab": {}
      },
      "source": [
        ""
      ],
      "execution_count": 0,
      "outputs": []
    }
  ]
}